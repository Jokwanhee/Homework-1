{
 "cells": [
  {
   "cell_type": "markdown",
   "id": "3041d6d5",
   "metadata": {},
   "source": [
    "## 1. a = \"Hello Python\" 문자열을 Slicing과 연결 연산자 (+)를 사용하여 \"Python Hello\"로 변경하시오.\n",
    "* [주의] a 변수 자체에 \"Python Hello\" 문자열이 저장되어야 함"
   ]
  },
  {
   "cell_type": "code",
   "execution_count": 2,
   "id": "b613f5e8",
   "metadata": {
    "scrolled": true
   },
   "outputs": [
    {
     "name": "stdout",
     "output_type": "stream",
     "text": [
      "Python Hello\n"
     ]
    }
   ],
   "source": [
    "a = \"Hello Python\"\n",
    "a = a[6:] + \" \" + a[:5]\n",
    "print(a)"
   ]
  },
  {
   "cell_type": "markdown",
   "id": "016fd113",
   "metadata": {},
   "source": [
    "변수 a는 문자열 \"Hello Python\"을 가리킨다. 문자열은 쉽게 수정하고 변경할 수 없기 때문에 슬라이싱을 사용한다. 예를 들어 a[first:end:step]으로 나뉘어 값을 입력할 수 있다. a = \"123456\" 일 때, a[0:6:2]라고 하면 0에서 6번째 자리 전까지 2증가로 확인할 수 있다."
   ]
  },
  {
   "cell_type": "markdown",
   "id": "a683783f",
   "metadata": {},
   "source": [
    "## 2. b=\"Hello Python World\" 문자열을 Slicing과 연결 연산자 (+)를 사용하여 \"World Python Hello\"로 변경하시오.\n",
    "- [주의] b 변수 자체에 \"World Python Hello\" 문자열이 저장되어야 함"
   ]
  },
  {
   "cell_type": "code",
   "execution_count": 3,
   "id": "ba3c4d70",
   "metadata": {
    "scrolled": true
   },
   "outputs": [
    {
     "name": "stdout",
     "output_type": "stream",
     "text": [
      "World Python Hello\n"
     ]
    }
   ],
   "source": [
    "b = \"Hello Python World\"\n",
    "b = b[-5:] + b[5:12] + \" \" + b[:5]\n",
    "print(b)"
   ]
  },
  {
   "cell_type": "markdown",
   "id": "c7e70534",
   "metadata": {},
   "source": [
    "1번 문제와 마찬가지로 [first:end]와 같이 문자열의 인덱스를 알아야 한다. hello -> 0~4까지, python -> 6~11, world -> 13~end 로 어느 인덱스 위치에 위치하고 있는지를 알 수 있어야 해결할 수 있다."
   ]
  },
  {
   "cell_type": "markdown",
   "id": "170c6492",
   "metadata": {},
   "source": [
    "## 3. c=\"Hello\"를 \"olleH\"로 변경하시오\n",
    "- [주의] c 변수 자체에 \"olleH\" 문자열이 저장되어야 함"
   ]
  },
  {
   "cell_type": "code",
   "execution_count": 4,
   "id": "7a680268",
   "metadata": {},
   "outputs": [
    {
     "name": "stdout",
     "output_type": "stream",
     "text": [
      "olleH\n",
      "olleH\n"
     ]
    }
   ],
   "source": [
    "c = \"Hello\"\n",
    "c = c[::-1]\n",
    "print(c)\n",
    "c = ''.join(reversed(\"Hello\"))\n",
    "print(c)"
   ]
  },
  {
   "cell_type": "markdown",
   "id": "ae8efb53",
   "metadata": {},
   "source": [
    "[first,end,step] 에서 step구간에 -1을 대입하게 되면 왼쪽으로 -1칸씩 이동하여 문자열을 확인하게 된다. 그러면 문자열을 거꾸러 읽어준다. join을 이용한 reversed로 문자열을 입력하면 입력 한 문자열을 거꾸로 읽어준다."
   ]
  },
  {
   "cell_type": "markdown",
   "id": "a11e0555",
   "metadata": {},
   "source": [
    "## 4. s=\"python\"에 대해 다음 문제를 풀어보시오.\n",
    "1. s[0], s[0][0], s[0][0][0]은 각각 어떤 값이 나오는지 확인하고 그 이유를 나름대로 설명해 보시오.\n",
    "2. s[-100], s[100]은 값이 나오는지 에러가 나오는지 확인하고 그 결과에 대한 이유를 나름대로 설명해 보시오.\n",
    "3. s[-100, 100]은 값이 나오는지 에러가 나오는지 확인하고 그 결과에 대한 이유를 나름대로 설명해 보시오.\n",
    "4. s[1:-1]의 결과를 확인하고 그 결과에 대한 이유를 정확하게 설명하시오.\n",
    "5. s[3:-3]의 결과를 확인하고 그 결과에 대한 이유를 정확하게 설명하시오."
   ]
  },
  {
   "cell_type": "markdown",
   "id": "60f2f0e5",
   "metadata": {},
   "source": [
    "### 4.1"
   ]
  },
  {
   "cell_type": "code",
   "execution_count": 5,
   "id": "d3d1be03",
   "metadata": {},
   "outputs": [
    {
     "name": "stdout",
     "output_type": "stream",
     "text": [
      "p\n",
      "p\n",
      "p\n"
     ]
    }
   ],
   "source": [
    "s = \"python\"\n",
    "print(s[0])\n",
    "print(s[0][0]) # print(s[1][0]) => y\n",
    "print(s[0][0][0]) # print(s[2][0][0]) => t"
   ]
  },
  {
   "cell_type": "markdown",
   "id": "e4d96447",
   "metadata": {},
   "source": [
    "파이썬에서 문자열은 s[index]로 저장이된다. 하지만 s[a][b][c].. 이 있을 때 a,b,c 의 값이 모두 0이 된다면, 문자열 자릿 수 0번째 자리의 수를 반환한다. 하지만 여기서 a를 제외한 나머지 인덱스에 0이외에 숫자가 들어가게 된다면 오류가 나게 된다."
   ]
  },
  {
   "cell_type": "markdown",
   "id": "07025d7f",
   "metadata": {},
   "source": [
    "### 4.2"
   ]
  },
  {
   "cell_type": "code",
   "execution_count": 6,
   "id": "c17b6a1f",
   "metadata": {},
   "outputs": [
    {
     "ename": "IndexError",
     "evalue": "string index out of range",
     "output_type": "error",
     "traceback": [
      "\u001b[1;31m---------------------------------------------------------------------------\u001b[0m",
      "\u001b[1;31mIndexError\u001b[0m                                Traceback (most recent call last)",
      "\u001b[1;32m<ipython-input-6-6d81aee69bed>\u001b[0m in \u001b[0;36m<module>\u001b[1;34m\u001b[0m\n\u001b[1;32m----> 1\u001b[1;33m \u001b[0mprint\u001b[0m\u001b[1;33m(\u001b[0m\u001b[0ms\u001b[0m\u001b[1;33m[\u001b[0m\u001b[1;33m-\u001b[0m\u001b[1;36m100\u001b[0m\u001b[1;33m]\u001b[0m\u001b[1;33m)\u001b[0m\u001b[1;33m\u001b[0m\u001b[1;33m\u001b[0m\u001b[0m\n\u001b[0m\u001b[0;32m      2\u001b[0m \u001b[0mprint\u001b[0m\u001b[1;33m(\u001b[0m\u001b[0ms\u001b[0m\u001b[1;33m[\u001b[0m\u001b[1;36m100\u001b[0m\u001b[1;33m]\u001b[0m\u001b[1;33m)\u001b[0m\u001b[1;33m\u001b[0m\u001b[1;33m\u001b[0m\u001b[0m\n",
      "\u001b[1;31mIndexError\u001b[0m: string index out of range"
     ]
    }
   ],
   "source": [
    "print(s[-100])\n",
    "print(s[100])"
   ]
  },
  {
   "cell_type": "markdown",
   "id": "b4f9b997",
   "metadata": {},
   "source": [
    "s[-100], s[100]은 에러 값이 나온다. s는 \"python\"이다. s[0]~s[5] (p,y,t,h,o,n)으로 이루어져있다. 그렇기 때문에 범위를 벗어나는 인덱스는 반환하지 않는다."
   ]
  },
  {
   "cell_type": "markdown",
   "id": "cf2a5bc6",
   "metadata": {},
   "source": [
    "### 4.3"
   ]
  },
  {
   "cell_type": "code",
   "execution_count": null,
   "id": "b517a0bc",
   "metadata": {
    "scrolled": true
   },
   "outputs": [],
   "source": [
    "print(s[-100,100])"
   ]
  },
  {
   "cell_type": "markdown",
   "id": "4041a548",
   "metadata": {},
   "source": [
    "s[-100,100]의 값은 오류이다. 슬라이싱으로 s[-100:100]으로 했으면 모든 s의 python을 호출하겠지만, 2차원 배열처럼 s[first,second]와 같은 형식은 파이썬에서 반환해주지 않는다. "
   ]
  },
  {
   "cell_type": "markdown",
   "id": "4c7e00e0",
   "metadata": {},
   "source": [
    "### 4.4"
   ]
  },
  {
   "cell_type": "code",
   "execution_count": 7,
   "id": "cfc282f2",
   "metadata": {},
   "outputs": [
    {
     "name": "stdout",
     "output_type": "stream",
     "text": [
      "ytho\n"
     ]
    }
   ],
   "source": [
    "print(s[1:-1])"
   ]
  },
  {
   "cell_type": "markdown",
   "id": "01fac764",
   "metadata": {},
   "source": [
    "s = python, s[1:-1]의 결과로는 s[1] = y, s[-1] = n이기 때문에 s[-1] 전 값인 s[-2] = o의 값까지 출력하여 \"ytho\"가 나옴을 알 수 있다."
   ]
  },
  {
   "cell_type": "markdown",
   "id": "238f49fb",
   "metadata": {},
   "source": [
    "### 4.5"
   ]
  },
  {
   "cell_type": "code",
   "execution_count": 8,
   "id": "0165fbde",
   "metadata": {
    "scrolled": true
   },
   "outputs": [
    {
     "name": "stdout",
     "output_type": "stream",
     "text": [
      "\n"
     ]
    }
   ],
   "source": [
    "print(s[3:-3])"
   ]
  },
  {
   "cell_type": "markdown",
   "id": "bae1274d",
   "metadata": {},
   "source": [
    "s = python, s[3] = h, s[-3] = h이다. 3에서 -3전까지면, 3에서 -4까지여야 한다. 그러면 순서상 올바르지 않기 때문에 아무것도 출력하지 않는다. p, y, h, o, n 의 방향으로 진행되어야 하는데, s[3] = h, s[-4] = t 이다. 그렇기 때문에 올바르지 않다. "
   ]
  },
  {
   "cell_type": "markdown",
   "id": "4abe75f1",
   "metadata": {},
   "source": [
    "## 5. for문을 활용하여 1부터 100사이의 홀수를 출력하시오."
   ]
  },
  {
   "cell_type": "code",
   "execution_count": 9,
   "id": "138583c4",
   "metadata": {},
   "outputs": [
    {
     "name": "stdout",
     "output_type": "stream",
     "text": [
      "1 3 5 7 9 11 13 15 17 19 21 23 25 27 29 31 33 35 37 39 41 43 45 47 49 51 53 55 57 59 61 63 65 67 69 71 73 75 77 79 81 83 85 87 89 91 93 95 97 99 "
     ]
    }
   ],
   "source": [
    "for i in range(1,101):\n",
    "    if i % 2 == 1:\n",
    "        print(i, end =\" \")"
   ]
  },
  {
   "cell_type": "markdown",
   "id": "b7fc1cb0",
   "metadata": {},
   "source": [
    "for 반복문을 사용했다. 여기서 range를 이용하여 1~100 까지 홀수를 출력하기 위한 반복문이고, i가 2를 나누었을 때, 1의 나머지를 가지게 되면 홀수이기 때문에 출력한다."
   ]
  },
  {
   "cell_type": "markdown",
   "id": "45c73320",
   "metadata": {},
   "source": [
    "## 6. while문을 활용하여 1부터 100사이의 짝수의 합을 계산하여 출력하시오."
   ]
  },
  {
   "cell_type": "code",
   "execution_count": 10,
   "id": "f4193d56",
   "metadata": {},
   "outputs": [
    {
     "name": "stdout",
     "output_type": "stream",
     "text": [
      "2550\n"
     ]
    }
   ],
   "source": [
    "sum = 0\n",
    "i=1\n",
    "\n",
    "while i <=100 :\n",
    "    if i % 2 == 0:\n",
    "        sum += i\n",
    "    i+=1\n",
    "\n",
    "print(sum)"
   ]
  },
  {
   "cell_type": "markdown",
   "id": "e930cb5b",
   "metadata": {},
   "source": [
    "while 반복문을 사용하여 1~100까지 짝수의 합을 계산하였다. i가 2로 나누었을 때, 나머지가 0이면 sum이라는 합의 i를 계속 더한다. 그리고 100번까지 모두 돌기 위해서 i의 값에 1을 계속더해준다. 그리고 모든 짝수의 합이 완료되면 sum을 출력한다."
   ]
  },
  {
   "cell_type": "markdown",
   "id": "ecdf75cb",
   "metadata": {},
   "source": [
    "## 7. 사용자로 부터 임의의 정수를 입력받고, 해당 숫자를 역순으로 출력하는 프로그램을 작성하시오.\n",
    " [실행 예]   \n",
    " 정수를 입력하세요: 3125   \n",
    " 숫자 역순은 5213 입니다."
   ]
  },
  {
   "cell_type": "code",
   "execution_count": 16,
   "id": "8b426b31",
   "metadata": {},
   "outputs": [
    {
     "name": "stdout",
     "output_type": "stream",
     "text": [
      "정수를 입력하세요 : 5132\n",
      "숫자 역순은 2315 입니다.\n"
     ]
    }
   ],
   "source": [
    "a = int(input(\"정수를 입력하세요 : \"))\n",
    "\n",
    "a1 = a%1000\n",
    "b1 = a/1000\n",
    "a2 = a1%100\n",
    "b2 = a1/100\n",
    "a3 = a2%10\n",
    "b3 = a2/10\n",
    "a4 = a3/1\n",
    "\n",
    "print(\"숫자 역순은 %d%d%d%d 입니다.\" %(a4,b3,b2,b1))"
   ]
  },
  {
   "cell_type": "markdown",
   "id": "54e534f9",
   "metadata": {},
   "source": [
    "a를 내장함수 input을 사용하여 변수를 받을 때, 반환형을 int로 바꾸어준다. 왜냐하면 그냥 하게되면, string으로 반환되기 때문이다. 입력한 a의 값에 1000을 나눈 나머지를 100으로 나누고, 그 나머지를 10으로 나누고, 또 그 나머지를 1로 나누면 각 몫들이 값이된다. 그렇기 때문에 각 몫들을 출력해주면된다."
   ]
  },
  {
   "cell_type": "markdown",
   "id": "8160bbad",
   "metadata": {},
   "source": [
    "## 8. 사용자로 부터 정수를 입력받아서 1부터 그 사이에 존재하는 소수 (Prime number)를 출력하는 파이썬 프로그램을 작성하시오."
   ]
  },
  {
   "cell_type": "code",
   "execution_count": 15,
   "id": "d2f00cda",
   "metadata": {},
   "outputs": [
    {
     "name": "stdout",
     "output_type": "stream",
     "text": [
      "정수를 입력하시오 : 30\n",
      "2 3 5 7 11 13 17 19 23 29 "
     ]
    }
   ],
   "source": [
    "user = int(input(\"정수를 입력하시오 : \"))\n",
    "count = 0\n",
    "\n",
    "for i in range(1,user):\n",
    "    for j in range(1,user):\n",
    "        if i%j == 0:\n",
    "            count += 1\n",
    "    if(count == 2):\n",
    "        print(i, end=\" \")\n",
    "    count = 0"
   ]
  },
  {
   "cell_type": "markdown",
   "id": "941e4374",
   "metadata": {},
   "source": [
    "user라는 변수에 input내장함수를 통하여 입력받고 int형으로 반환한다. for 반복문을 사용하는데, 여기서 for 반복문을 for반복문 안에 넣으며 중첩 반복문을 사용하였다. i가 1 ~ user(입력한 수)만큼 반복하고, 중첩 for 문은 j가 1~user(입력한 수)만큼 반복하게 된다. 그리고 중첩 반복문에 if 조건문으로 i%j 의 값이 0이면 count라는 변수에 1을 계속 더한다. 그리고 for문을 나와 if 조건문으로 count == 2이면 i를 출력하게 된다. 그리고 count를 0으로 초기화한다. 그렇게 되면 출력되는 i는 자기자신과 하나의 숫자만을 갖는 소수가 출력되게 된다. "
   ]
  },
  {
   "cell_type": "markdown",
   "id": "fb9fde64",
   "metadata": {},
   "source": [
    "## 9. Kevin과 Stuart는 게임을 한다. 규칙은 아래와 같다.\n",
    "- 두 플레이어에게 같은 string, S, 가 주어진다.\n",
    "- 두 플레이어는 string S의 문자를 사용하여 substring을 만들어야 한다(중복 가능).\n",
    "- Stuart는 자음으로 시작하는 단어를 만들어야 한다.\n",
    "- Kevin은 모음으로 시작하는 단어를 만들어야 한다.\n",
    "- 게임은 두 플레이어가 만들 수 있는 모든 단어를 만들었을 때 끝난다.\n",
    "- 점수 계산 : substring 1개당 +1 점을 획득한다. (아래 그림 참고)\n",
    "- 사용자로 부터 대문자로 이루어진 string S를 입력받고, 승자와 그의 점수를 출력하는 프로그램을 작성하시오.   \n",
    "[실행 예]   \n",
    "    string S를 입력하세요: BANANA   \n",
    "    승자: Stuart 점수: 12"
   ]
  },
  {
   "cell_type": "code",
   "execution_count": 1,
   "id": "c8c81765",
   "metadata": {},
   "outputs": [
    {
     "name": "stdout",
     "output_type": "stream",
     "text": [
      "string s를 입력하시오 : BANANA\n",
      "승자 : Stuart\t 점수 : 12\n",
      "패자 :  Kevin\t 점수 : 9\n"
     ]
    }
   ],
   "source": [
    "s = input(\"string s를 입력하시오 : \") # string s 입력\n",
    "lenS = len(s) # s 문자열의 길이를 변수로 저장\n",
    "score_Kevin = 0 # kevin 점수 변수\n",
    "score_Stuart = 0 # stuart 점수 변수\n",
    "\n",
    "for i in range(lenS): # s 문자열 길이 만큼 반복\n",
    "    if \"A\" in s[i:i+1] or \"E\" in s[i:i+1] or \"I\" in s[i:i+1] or \"O\" in s[i:i+1] or \"U\" in s[i:i+1]: # 문자가 모음일 때\n",
    "        score_Kevin += lenS - i # kevin 점수에 문자열 s의 길이에서 i번째 만큼 뺀 값을 더함\n",
    "                                # ex) BANANA => ANANA , ANA, A  \n",
    "                                # ANANA => A, AN, ANA, ANAN, ANANA , 5\n",
    "                                # ANA => A, AN, ANA , 3\n",
    "                                # A => A , 1 총 9점의 점수를 획득 밑에 자음으로 시작하는 stuart도 동일한 방식으로 점수 획득\n",
    "    else: # 문자가 자음일 때, ex) BANANA => B, N, N 에서 인식\n",
    "        score_Stuart += lenS - i\n",
    "        \n",
    "if score_Stuart > score_Kevin: # stuart의 점수가 kevin보다 높을 경우 \n",
    "    print(\"승자 : Stuart\\t 점수 : %d\" %score_Stuart)\n",
    "    print(\"패자 :  Kevin\\t 점수 : %d\" %score_Kevin)\n",
    "elif score_Kevin > score_Stuart: # stuart의 점수가 kevin보다 낮을 경우 \n",
    "    print(\"승자 :  Kevin\\t 점수 : %d\" %score_Kevin)\n",
    "    print(\"패자 : Stuart\\t 점수 : %d\" %score_Stuart)\n",
    "elif score_Kevin == score_Stuart: # 둘의 점수가 같아 무승부\n",
    "    print(\"무승부: Stuart, Kevin\\t 점수 : %d\" %score_Kevin)"
   ]
  },
  {
   "cell_type": "markdown",
   "id": "b1f0e04a",
   "metadata": {},
   "source": [
    "stuart와 kevin은 입력받은 string s 문자열로 점수 대결을 펼친다. 예를 들어 BANANA를 입력 시, stuart는 자음으로 시작하는 단어로 점수를 1점 씩 획득하니깐 BANANA, NANA, NA / BANANA : B, BA, BAN, BANA, BANAN, BANANA 6점 / NANA : N, NA, NAN, NANA 4점 / NA : N, NA 2점 으로 총 12점을 획득한다. 그리고 kevin은 모음으로 시작하는 단어로 점수를 1점 씩 획득, s =  BANANA => ANANA, ANA, A / ANANA : A, AN, ANA, ANAN, ANANA 5점 / ANA : A, AN, ANA 3점 / A : A 1점 총 9점을 얻는다. 여기서 stuart 12점 kevin 9점으로 stuart가 승리하게 된다. 거꾸로 kevin의 점수가 높으면 kevin이 우승이다. 그런데 kevin과 stuart의 점수가 동일할 때, ex) s = SEA, 자음(stuart) -> S, SE, SEA 3점 / 모음(kevin) -> E, EA, A 3점으로 동일하다. 그러면 결과는 무승부로 설정한다."
   ]
  },
  {
   "cell_type": "markdown",
   "id": "560d6590",
   "metadata": {},
   "source": [
    "## 10. 알파벳 소문자만으로 이루어진 string, S, 가 주어지고 아래 2가지 연산을 수행할 수 있다.\n",
    "- 추가 : string S의 끝에 알파벳 소문자 하나를 추가한다.\n",
    "- 삭제 : string S의 마지막 문자 하나를 삭제한다. empty string에서 삭제 연산을 수행한 결과는 empty string이다.   \n",
    "두 개의 string, s와 t, 그리고 정수 k가 주어질 때, 정확히 k번의 연산을 통해 s를 t로 바꿀 수 있는지 판단하는 함수를 작성하시오   \n",
    "[예시]\n",
    "   1. s = 'hackerhappy'    t = 'hackerrank'    k = 9    => 'Yes'\n",
    "\n",
    "   2. s = 'aba'            t = 'aba'           k = 7    => 'Yes'\n",
    "\n",
    "   3. s = 'ashley'         t = 'ash'           k = 2    => 'No'"
   ]
  },
  {
   "cell_type": "code",
   "execution_count": 1,
   "id": "bf65d4c2",
   "metadata": {},
   "outputs": [
    {
     "name": "stdout",
     "output_type": "stream",
     "text": [
      "s = hackerhappy\n",
      "t = hackerrank\n",
      "k = 9\n",
      "1. s = hackerhappy\t t = hackerrank\t k = 9 => Yes\n",
      "s = aba\n",
      "t = aba\n",
      "k = 7\n",
      "1. s = aba\t t = aba\t k = 7 => Yes\n",
      "s = ashley\n",
      "t = ash\n",
      "k = 2\n",
      "1. s = ashley\t t = ash\t k = 2 => No\n"
     ]
    }
   ],
   "source": [
    "def appendDelete(s, t, k):\n",
    "    lenS = len(s)\n",
    "    lenT = len(t)\n",
    "    count = 0\n",
    "    m = 1\n",
    "    n = 1\n",
    "    number = 1\n",
    "    k_number = 0\n",
    "    \n",
    "    if k >= (len(s) + len(t)) : # k번의 연산이 s 문자열과 t 문자열을 모두 더한 값 보다 크거나 같을 때\n",
    "                                # ex) s = happy, t = habit , k >= 10(len(s)+len(t)) => k = 10, happy -5, habit +5\n",
    "                                # ex) k = 11, happy -6(empty string 포함), habit +5 ... k = 20, happy -15, habit +5\n",
    "        for i in range(k): # s 문자열을 받아 모두 삭제시키고, t 문자열과 똑같이 재배열함. 여기서 empty string도 삭제 연산에 계속 추가함.\n",
    "                s = s[0:lenS-m] # s는 s[0부터 s문자열의 길이를 k번만큼 뺌\n",
    "                m+=1 # m의 1을 더함.\n",
    "                if bool(s) == False: # s 가 bool함수를 통하여 빈 문자열이면 False 반환하기 때문에 조건 성립\n",
    "                    if k-i == len(t): # 예를 들어, k = 25번이고, s = \"aba\", t = \"aba\"라고 했을 때, \n",
    "                                      # 뺄셈 연산은 22번 수행되고, 덧셈 연산은 마지막 s를 t로 변경하기 위한 3번 수행\n",
    "                                      # len(t) = 3 , k - i = 3 => 25 - i = 3 => i = 22(뺄셈 연산 수행)\n",
    "                        for j in range(len(t)): # t의 길이 만큼 반복\n",
    "                            s = t[:n] # s 문자열에 t 문자열을 처음 숫자부터 차례대로 대입\n",
    "                            n+=1 # n을 1씩 증가\n",
    "                        if s == t:\n",
    "                            return \"Yes\"\n",
    "                        else :\n",
    "                            return \"No\"\n",
    "    \n",
    "    \n",
    "    if len(s) < len(t): # s 문자열이 t 문자열 보다 작을 때\n",
    "        for i in range(len(s)):\n",
    "            if s in t : # s 문자열이 t 문자열 안에 들어갈 때 s in t == True 일 경우 ex ) s = ab, t = abcd => +2\n",
    "                for j in range(len(t)):\n",
    "                    s = t[:lenS + j + 1]\n",
    "                    count += 1\n",
    "                    if s == t:\n",
    "                        break\n",
    "            if s== t:\n",
    "                break\n",
    "                    \n",
    "            if s[:i+1] != t[:i+1]: # s 문자열이 t 문자열이랑 다를 때 ex) s = ade, t = abcd => -2, +3\n",
    "                s = s[:i]\n",
    "                count += lenS - i\n",
    "                for j in range(len(t)):\n",
    "                    s = t[:number+i]\n",
    "                    number += 1\n",
    "                    count += 1\n",
    "                    if s == t:\n",
    "                        break\n",
    "            if s== t:\n",
    "                break\n",
    "\n",
    "            \n",
    "                    \n",
    "    elif len(s) > len(t) : # s 문자열이 t 문자열보다 클 때\n",
    "        for i in range(len(s)):\n",
    "            if t in s : # t 문자열이 s 문자열 안에 있을 때, ex) s = abcd, t = ab => -2\n",
    "                for j in range(len(s)):\n",
    "                    t = s[:lenT + j + 1]\n",
    "                    count += 1\n",
    "                    if s == t:\n",
    "                        break\n",
    "            if s== t:\n",
    "                break\n",
    "                    \n",
    "            if s[:i+1] != t[:i+1]: # t 문자열이랑 s 문자열이 다를 때, ex) s = abcd, t = adef => -3, +3\n",
    "                s = s[:i]\n",
    "                count += lenS - i\n",
    "                for j in range(len(t)):\n",
    "                    s = t[:number+i]\n",
    "                    number += 1\n",
    "                    count += 1\n",
    "                    if s == t:\n",
    "                        break\n",
    "            if s== t:\n",
    "                break\n",
    "                \n",
    "    else: # s 문자열과 t 문자열이 완전히 동일할 때, ex) s = aba, t = aba => 짝수일 경우 모두 가능\n",
    "        if k%2 == 0:\n",
    "            return \"Yes\"\n",
    "        else:\n",
    "            return \"No\"\n",
    "                \n",
    "    if k == count:\n",
    "        return \"Yes\"\n",
    "    else :\n",
    "        return \"No\"\n",
    "\n",
    "m = 0\n",
    "while m<=2: # 입력 반복 횟수\n",
    "    s = input(\"s = \")\n",
    "    t = input(\"t = \")\n",
    "    k = int(input(\"k = \"))\n",
    "    func = appendDelete(s, t, k)\n",
    "    print(\"1. s = %s\\t t = %s\\t k = %d => %s\"%(s,t,k,func))\n",
    "    m+=1"
   ]
  },
  {
   "cell_type": "markdown",
   "id": "cc8b8e9e",
   "metadata": {},
   "source": [
    "s 문자열과 t 문자열의 비교 연산이다. 여기서 덧셈연산과 뺄셈연산만 가능하다. 그래서 예를 들어서, s = \"happy\", t = \"habit\" k 번 연산을 통하여 s를 t로 변경하여야 한다. 그러기 위해서는 \"happy\"에서 \"ppy\" 를 뺀후, \"bit\" 더해주면 된다. 또는 \"happy\"를 모두 제거한 후, 0 - 0 = 0 처럼 empty string을 계속 빼도 0이니깐 \"habit\" 더해 줄 5번 연산 + \"happy\"를 빼줄 5번 연산 + a 가 된다. 그리고 s 문자열 길이와 t 문자열 길이, s 문자열이 t 문자열에 포함되는가 안되는가, s 문자열과 t 문자열의 완전히 같은 경우에 조건을 성립시켜 코드를 작성하였다."
   ]
  },
  {
   "cell_type": "markdown",
   "id": "a5c203b4",
   "metadata": {},
   "source": [
    "#### 숙제 이후 소감"
   ]
  },
  {
   "cell_type": "markdown",
   "id": "269f8ed8",
   "metadata": {},
   "source": [
    "- 1~8번은 수월하게 문제를 풀 수 있었다. 하지만 9번문제 같은 경우에는 문제 자체를 이해하는데 굉장히 어려웠다. 무엇을 의미하는지 무엇을 원하는지를 몰랐다. 그래서 문제를 확인하고 내가 생각해 낸 코딩을 진행하였다. 교수님께서 생각하신 해결방법과 맞는 지는 모르겠고, 내가 풀이한 해결 방법과 유사할지 모르겠다. 그리고 10번 같은 경우에도 시간을 많이 할애했다. 조건을 성립하기 위해서 직접 필기해가며 수학 문제 풀 듯이 풀었다. 그래도 문제를 풀었다는 기쁨에 내 자신이 뿌듯했다. 그래도 난이도가 있었다고 생각한다."
   ]
  }
 ],
 "metadata": {
  "kernelspec": {
   "display_name": "Python 3",
   "language": "python",
   "name": "python3"
  },
  "language_info": {
   "codemirror_mode": {
    "name": "ipython",
    "version": 3
   },
   "file_extension": ".py",
   "mimetype": "text/x-python",
   "name": "python",
   "nbconvert_exporter": "python",
   "pygments_lexer": "ipython3",
   "version": "3.8.8"
  }
 },
 "nbformat": 4,
 "nbformat_minor": 5
}
