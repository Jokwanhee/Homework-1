{
 "cells": [
  {
   "cell_type": "markdown",
   "id": "77aec0d4",
   "metadata": {},
   "source": [
    "# 2018136120 조관희"
   ]
  },
  {
   "cell_type": "markdown",
   "id": "c6001cad",
   "metadata": {},
   "source": [
    "## 1. L = [1,2,3,4,5] 일 때 다음 각 문장을 수행한 후의 결과를 보고 납득할 만한 이유를 설명하시오."
   ]
  },
  {
   "cell_type": "markdown",
   "id": "e3f6d5cd",
   "metadata": {},
   "source": [
    "- 1)\n",
    "```\n",
    "L[1:3] = [100]\n",
    "print(L)\n",
    "```"
   ]
  },
  {
   "cell_type": "code",
   "execution_count": 3,
   "id": "f383aced",
   "metadata": {},
   "outputs": [
    {
     "name": "stdout",
     "output_type": "stream",
     "text": [
      "[1, 100, 4, 5]\n"
     ]
    }
   ],
   "source": [
    "L = [1,2,3,4,5]\n",
    "L[1:3] = [100]\n",
    "print(L)"
   ]
  },
  {
   "cell_type": "markdown",
   "id": "6f01618f",
   "metadata": {},
   "source": [
    "L[1:3] = [2,3]이다. 여기서 [2,3] = [100]으로 값을 주기 때문에 이 값을 통하여 L리스트는 L = [1,100,4,5]로 변경됨을 알 수 있다."
   ]
  },
  {
   "cell_type": "markdown",
   "id": "190bc710",
   "metadata": {},
   "source": [
    "- 2)\n",
    "```\n",
    "L[1:3] = [(100)]\n",
    "print(L)\n",
    "```"
   ]
  },
  {
   "cell_type": "code",
   "execution_count": 4,
   "id": "7298de41",
   "metadata": {},
   "outputs": [
    {
     "name": "stdout",
     "output_type": "stream",
     "text": [
      "[1, 100, 4, 5]\n"
     ]
    }
   ],
   "source": [
    "L = [1,2,3,4,5]\n",
    "L[1:3] = [(100)]\n",
    "print(L)"
   ]
  },
  {
   "cell_type": "markdown",
   "id": "6674370c",
   "metadata": {},
   "source": [
    "위 문제와 동일하다. 여기서 리스트 안에 값을 (100)으로 설정하였는데, 이 값의 타입은 정수형이다. 그러므로 [100]과 동일하다."
   ]
  },
  {
   "cell_type": "markdown",
   "id": "bd9e193b",
   "metadata": {},
   "source": [
    "- 3)\n",
    "```\n",
    "L[1:3] = 100\n",
    "print(L)\n",
    "```"
   ]
  },
  {
   "cell_type": "code",
   "execution_count": 7,
   "id": "0820806a",
   "metadata": {},
   "outputs": [
    {
     "ename": "TypeError",
     "evalue": "can only assign an iterable",
     "output_type": "error",
     "traceback": [
      "\u001b[1;31m---------------------------------------------------------------------------\u001b[0m",
      "\u001b[1;31mTypeError\u001b[0m                                 Traceback (most recent call last)",
      "\u001b[1;32m<ipython-input-7-0967d74d1459>\u001b[0m in \u001b[0;36m<module>\u001b[1;34m\u001b[0m\n\u001b[0;32m      1\u001b[0m \u001b[0mL\u001b[0m \u001b[1;33m=\u001b[0m \u001b[1;33m[\u001b[0m\u001b[1;36m1\u001b[0m\u001b[1;33m,\u001b[0m\u001b[1;36m2\u001b[0m\u001b[1;33m,\u001b[0m\u001b[1;36m3\u001b[0m\u001b[1;33m,\u001b[0m\u001b[1;36m4\u001b[0m\u001b[1;33m,\u001b[0m\u001b[1;36m5\u001b[0m\u001b[1;33m]\u001b[0m\u001b[1;33m\u001b[0m\u001b[1;33m\u001b[0m\u001b[0m\n\u001b[1;32m----> 2\u001b[1;33m \u001b[0mL\u001b[0m\u001b[1;33m[\u001b[0m\u001b[1;36m1\u001b[0m\u001b[1;33m:\u001b[0m\u001b[1;36m3\u001b[0m\u001b[1;33m]\u001b[0m \u001b[1;33m=\u001b[0m \u001b[1;36m100\u001b[0m\u001b[1;33m\u001b[0m\u001b[1;33m\u001b[0m\u001b[0m\n\u001b[0m\u001b[0;32m      3\u001b[0m \u001b[0mprint\u001b[0m\u001b[1;33m(\u001b[0m\u001b[0mL\u001b[0m\u001b[1;33m)\u001b[0m\u001b[1;33m\u001b[0m\u001b[1;33m\u001b[0m\u001b[0m\n",
      "\u001b[1;31mTypeError\u001b[0m: can only assign an iterable"
     ]
    }
   ],
   "source": [
    "L = [1,2,3,4,5]\n",
    "L[1:3] = 100\n",
    "print(L)"
   ]
  },
  {
   "cell_type": "markdown",
   "id": "063a6a7e",
   "metadata": {},
   "source": [
    "오류 발생, 리스트의 값은 지정할 때는 []를 사용해야 한다. 하지만 위 문제와 같은 경우에는 정수타입의 형식을 리스트에 저장하려고 하다보니 오류가 발생하였다."
   ]
  },
  {
   "cell_type": "markdown",
   "id": "9642fe69",
   "metadata": {},
   "source": [
    "- 4)\n",
    "```\n",
    "L[1:3] = (100)\n",
    "print(L)\n",
    "```"
   ]
  },
  {
   "cell_type": "code",
   "execution_count": 8,
   "id": "f40ff3b9",
   "metadata": {
    "scrolled": true
   },
   "outputs": [
    {
     "ename": "TypeError",
     "evalue": "can only assign an iterable",
     "output_type": "error",
     "traceback": [
      "\u001b[1;31m---------------------------------------------------------------------------\u001b[0m",
      "\u001b[1;31mTypeError\u001b[0m                                 Traceback (most recent call last)",
      "\u001b[1;32m<ipython-input-8-a4b659c7e649>\u001b[0m in \u001b[0;36m<module>\u001b[1;34m\u001b[0m\n\u001b[0;32m      1\u001b[0m \u001b[0mL\u001b[0m \u001b[1;33m=\u001b[0m \u001b[1;33m[\u001b[0m\u001b[1;36m1\u001b[0m\u001b[1;33m,\u001b[0m\u001b[1;36m2\u001b[0m\u001b[1;33m,\u001b[0m\u001b[1;36m3\u001b[0m\u001b[1;33m,\u001b[0m\u001b[1;36m4\u001b[0m\u001b[1;33m,\u001b[0m\u001b[1;36m5\u001b[0m\u001b[1;33m]\u001b[0m\u001b[1;33m\u001b[0m\u001b[1;33m\u001b[0m\u001b[0m\n\u001b[1;32m----> 2\u001b[1;33m \u001b[0mL\u001b[0m\u001b[1;33m[\u001b[0m\u001b[1;36m1\u001b[0m\u001b[1;33m:\u001b[0m\u001b[1;36m3\u001b[0m\u001b[1;33m]\u001b[0m \u001b[1;33m=\u001b[0m \u001b[1;33m(\u001b[0m\u001b[1;36m100\u001b[0m\u001b[1;33m)\u001b[0m\u001b[1;33m\u001b[0m\u001b[1;33m\u001b[0m\u001b[0m\n\u001b[0m\u001b[0;32m      3\u001b[0m \u001b[0mprint\u001b[0m\u001b[1;33m(\u001b[0m\u001b[0mL\u001b[0m\u001b[1;33m)\u001b[0m\u001b[1;33m\u001b[0m\u001b[1;33m\u001b[0m\u001b[0m\n",
      "\u001b[1;31mTypeError\u001b[0m: can only assign an iterable"
     ]
    }
   ],
   "source": [
    "L = [1,2,3,4,5]\n",
    "L[1:3] = (100)\n",
    "print(L)"
   ]
  },
  {
   "cell_type": "markdown",
   "id": "a7708d05",
   "metadata": {},
   "source": [
    "리스트 값을 할당할 때는 리스트 형식이 와야한다. (100)은 정수형이다. 3번 문제와 동일하다고 생각하면 된다. 그 결과 오류가 발생한다."
   ]
  },
  {
   "cell_type": "markdown",
   "id": "803a1c08",
   "metadata": {},
   "source": [
    "- 5)\n",
    "```\n",
    "L[1:3] = (100, 101, 102)\n",
    "print(L)\n",
    "```"
   ]
  },
  {
   "cell_type": "code",
   "execution_count": 9,
   "id": "ed8b77fa",
   "metadata": {},
   "outputs": [
    {
     "name": "stdout",
     "output_type": "stream",
     "text": [
      "[1, 100, 101, 102, 4, 5]\n"
     ]
    }
   ],
   "source": [
    "L = [1,2,3,4,5]\n",
    "L[1:3] = (100, 101, 102)\n",
    "print(L)"
   ]
  },
  {
   "cell_type": "markdown",
   "id": "40af5e66",
   "metadata": {},
   "source": [
    "L[1:2] = [2,3]이다. 리스트 1,2 자리에 튜플인 (100,101,102)의 값은 넣어, L은 다음과 같이 바뀐다. L = [1,100,101,102,4,5]"
   ]
  },
  {
   "cell_type": "markdown",
   "id": "0db471b0",
   "metadata": {},
   "source": [
    "- 6)\n",
    "```\n",
    "L[1:3] = [100, 101, 102]\n",
    "print(L)\n",
    "```"
   ]
  },
  {
   "cell_type": "code",
   "execution_count": 10,
   "id": "af30d763",
   "metadata": {},
   "outputs": [
    {
     "name": "stdout",
     "output_type": "stream",
     "text": [
      "[1, 100, 101, 102, 4, 5]\n"
     ]
    }
   ],
   "source": [
    "L = [1,2,3,4,5]\n",
    "L[1:3] = [100, 101, 102]\n",
    "print(L)"
   ]
  },
  {
   "cell_type": "markdown",
   "id": "e1498284",
   "metadata": {},
   "source": [
    "위 문제와 동일하지만 이번에는 리스트를 할당하여 L[1:2]자리에 기본 값을 변경해주었다."
   ]
  },
  {
   "cell_type": "markdown",
   "id": "a4944015",
   "metadata": {},
   "source": [
    "- 7)\n",
    "```\n",
    "L[1:3] = [(100, 101, 102)]\n",
    "print(L)\n",
    "```"
   ]
  },
  {
   "cell_type": "code",
   "execution_count": 11,
   "id": "89251e0a",
   "metadata": {},
   "outputs": [
    {
     "name": "stdout",
     "output_type": "stream",
     "text": [
      "[1, (100, 101, 102), 4, 5]\n"
     ]
    }
   ],
   "source": [
    "L = [1,2,3,4,5]\n",
    "L[1:3] = [(100, 101, 102)]\n",
    "print(L)"
   ]
  },
  {
   "cell_type": "markdown",
   "id": "839b2356",
   "metadata": {},
   "source": [
    "다음과 같은 문제에서는 리스트 안에 튜플을 넣어 리스트 하나하나를 보지 않고, 튜플 자체를 하나로 보고 리스트 L[1:2] 값에 넣어주었다."
   ]
  },
  {
   "cell_type": "markdown",
   "id": "737142ca",
   "metadata": {},
   "source": [
    "- 8)\n",
    "```\n",
    "L[1:3] = [[100,101,102]]\n",
    "print(L)\n",
    "```"
   ]
  },
  {
   "cell_type": "code",
   "execution_count": 12,
   "id": "61edc857",
   "metadata": {},
   "outputs": [
    {
     "name": "stdout",
     "output_type": "stream",
     "text": [
      "[1, [100, 101, 102], 4, 5]\n"
     ]
    }
   ],
   "source": [
    "L = [1,2,3,4,5]\n",
    "L[1:3] = [[100,101,102]]\n",
    "print(L)"
   ]
  },
  {
   "cell_type": "markdown",
   "id": "6b7857a7",
   "metadata": {},
   "source": [
    "이 문제에서도 리스트를 하나하나의 값을 넣어주는 것이 아닌 리스트 안에 리스트를 넣어서 리스트 그 자체를 L[1:2] 값에 넣어주었다."
   ]
  },
  {
   "cell_type": "markdown",
   "id": "b99fee3e",
   "metadata": {},
   "source": [
    "## 2. 문자열 S = 'Hello World and Python'에 대해 다음 요구사항에 대한 Python 코드를 제시하시오.\n",
    "- 1) 단어의 순서가 역순으로 되어진 문자열('Python and World Hello')을 만들고\n",
    "- 2) 1)의 결과 문자열에 대해 메소드 split과 join을 이용하여 공백을 모두 없앤 문자열 'PythonandWorldHello'을 만드시오."
   ]
  },
  {
   "cell_type": "code",
   "execution_count": 34,
   "id": "b2f86548",
   "metadata": {},
   "outputs": [
    {
     "data": {
      "text/plain": [
       "'PythonandWorldHello'"
      ]
     },
     "execution_count": 34,
     "metadata": {},
     "output_type": "execute_result"
    }
   ],
   "source": [
    "S = \"Hello World and Python\"\n",
    "S = S[16:] + S[11:15] + S[5:12] + S[0:5]\n",
    "S = S.split()\n",
    "S = ''.join(S)\n",
    "S"
   ]
  },
  {
   "cell_type": "markdown",
   "id": "49c83fff",
   "metadata": {},
   "source": [
    "S 문자열을 Hello World and Python을 만들고, 그 문자열의 단어들을 역순으로 슬라이싱에서 S 문자열에 저장한다. 그 이후에 S를 split 메소드를 활용하여 공백을 기준으로 리스트에 각 인덱스에 맞춰 값을 할당한다. 그 다음 join 메소드를 활동하여 문자열에서 리스트로 바뀐 S를 ''.join(S)를 활용하여 리스트들의 값을 붙인다."
   ]
  },
  {
   "cell_type": "markdown",
   "id": "8eea5bf1",
   "metadata": {},
   "source": [
    "## 3. 다음 코드를 보고 물음에 답하시오.\n",
    "```\n",
    "a = [1,2,3]\n",
    "b = a * 3\n",
    "c = [a] * 3\n",
    "print(b)\n",
    "print(c)\n",
    "```"
   ]
  },
  {
   "cell_type": "markdown",
   "id": "cd514ff4",
   "metadata": {},
   "source": [
    "- 1) 위 코드를 수행한 이후 다음 코드를 수행한 후 b와 c의 내용을 확인하시오.\n",
    "```\n",
    "a[0] = 0\n",
    "```"
   ]
  },
  {
   "cell_type": "code",
   "execution_count": 35,
   "id": "c8f5c650",
   "metadata": {},
   "outputs": [
    {
     "name": "stdout",
     "output_type": "stream",
     "text": [
      "[1, 2, 3, 1, 2, 3, 1, 2, 3]\n",
      "[[1, 2, 3], [1, 2, 3], [1, 2, 3]]\n"
     ]
    }
   ],
   "source": [
    "a = [1,2,3]\n",
    "b = a * 3\n",
    "c = [a] * 3\n",
    "print(b)\n",
    "print(c)"
   ]
  },
  {
   "cell_type": "markdown",
   "id": "b6953864",
   "metadata": {},
   "source": [
    "b는 리스트의 값에 대하여 3번씩 곱한 값이다. c는 리스트 그 자체를 보고 리스트 하나하나를 3번 곱한 것이다."
   ]
  },
  {
   "cell_type": "markdown",
   "id": "b2c0272b",
   "metadata": {},
   "source": [
    "- 2) b와 c 객체의 차이는 무엇인가?"
   ]
  },
  {
   "cell_type": "markdown",
   "id": "d3104f5c",
   "metadata": {},
   "source": [
    "b 객체는 9개의 값을 가진 리스트의 객체이고, c 객체는 3개의 리스트를 가지고, 그 안에 값이 1,2,3인 리스트의 객체이다."
   ]
  },
  {
   "cell_type": "markdown",
   "id": "0b671d4c",
   "metadata": {},
   "source": [
    "## 4. 다음 문자열을 ':'을 기준으로 분리하여 리스트로 만들고 각 문자열의 좌우 공백을 제거하시오 (즉, 문자열 S에서 l을 만들어라)\n",
    "```\n",
    "s = '  first star   :   second star   :    third star  '\n",
    "l = ['first star', 'second star', 'third star']\n",
    "```\n",
    "- 1) for ~ in 문을 이용한 코드를 작성하시오.\n",
    "- 2) 리스트 내포(list comprehension)를 이용한 코드를 작성하시오."
   ]
  },
  {
   "cell_type": "code",
   "execution_count": 61,
   "id": "47f6b4a2",
   "metadata": {
    "scrolled": true
   },
   "outputs": [
    {
     "name": "stdout",
     "output_type": "stream",
     "text": [
      "  first star   :   second star   :    third star  \n",
      "['first star', 'second star', 'third star']\n"
     ]
    }
   ],
   "source": [
    "s = '  first star   :   second star   :    third star  '\n",
    "print(s)\n",
    "s = s.split(\":\")\n",
    "\n",
    "for i in range(len(s)):\n",
    "    s[i] = s[i].strip()\n",
    "    \n",
    "print(s)"
   ]
  },
  {
   "cell_type": "markdown",
   "id": "8d4a4681",
   "metadata": {},
   "source": [
    "s 문자열을 s.split(\":\")을 통하여 : 을 기준으로 잘라 리스트를 만든다. 그 이후에 for 반복문을 사용하여 s 리스트 크기까지 각 리스트 인덱스에 strip()을 사용하여 양 공백을 삭제한다."
   ]
  },
  {
   "cell_type": "code",
   "execution_count": 62,
   "id": "86cc14ac",
   "metadata": {},
   "outputs": [
    {
     "name": "stdout",
     "output_type": "stream",
     "text": [
      "  first star   :   second star   :    third star  \n",
      "['first star', 'second star', 'third star']\n"
     ]
    }
   ],
   "source": [
    "s = '  first star   :   second star   :    third star  '\n",
    "print(s)\n",
    "s = s.split(\":\")\n",
    "\n",
    "s = [s[i].strip() for i in range(len(s))]\n",
    "print(s)"
   ]
  },
  {
   "cell_type": "markdown",
   "id": "9228ed50",
   "metadata": {},
   "source": [
    "s 문자열을 s.split(\":\")을 통하여 : 을 기준으로 잘라 리스트를 만든다. 그 이후에 리스트 내포를 활용할 수 있다. 위 문제에서의 반복문을 리스트 안에 작성하는 것이다. 반환되는 값을 앞에 적어준 후 뒤에 반복문과 조건문이 오는 형식이다."
   ]
  },
  {
   "cell_type": "markdown",
   "id": "0a738202",
   "metadata": {},
   "source": [
    "## 5. 다음과 같이 0보다 큰 정수 리스트 변수 list를 인자로 받는 함수 addall(list)와 addallodd(list)를 for ~ in 리터널과 리스트 내포 방식으로 각각 제시하시오."
   ]
  },
  {
   "cell_type": "markdown",
   "id": "f1e14df9",
   "metadata": {},
   "source": [
    "- 1) addall(list) 함수 (리스트 내의 모든 정수를 더하는 함수로서 해답으로는 for ~ in 리터럴과 리스트 내포 방식으로 각각 제시하시오.)\n",
    "    - $>>>$ addall([1])   \n",
    "        1\n",
    "    - $>>>$ addall([1, 2, 3, 4, 5, 6, 7, 8, 9])   \n",
    "    45"
   ]
  },
  {
   "cell_type": "code",
   "execution_count": 37,
   "id": "df69225d",
   "metadata": {},
   "outputs": [
    {
     "name": "stdout",
     "output_type": "stream",
     "text": [
      "1\n",
      "45\n"
     ]
    }
   ],
   "source": [
    "def addall(list):\n",
    "    result = []\n",
    "    for i in list:\n",
    "        result.append(i)\n",
    "    return sum(result)\n",
    "            \n",
    "print(addall([1]))\n",
    "print(addall([1,2,3,4,5,6,7,8,9]))"
   ]
  },
  {
   "cell_type": "code",
   "execution_count": 42,
   "id": "aa71108b",
   "metadata": {},
   "outputs": [
    {
     "name": "stdout",
     "output_type": "stream",
     "text": [
      "1\n",
      "45\n"
     ]
    }
   ],
   "source": [
    "def addall(list):\n",
    "    return sum([i for i in list])\n",
    "\n",
    "print(addall([1]))\n",
    "print(addall([1,2,3,4,5,6,7,8,9]))"
   ]
  },
  {
   "cell_type": "markdown",
   "id": "2f5b482b",
   "metadata": {},
   "source": [
    "첫 번째의 코드는 addall(list)함수에 for 문을 사용하여 받아온 리스트의 값들을 모두 더하는 것을 구현하였다. 반환 값을 sum(result)로 내장함수를 활용하여 반환하였다.   \n",
    "두 번째의 코드는 addall(list)함수에 위 반복문을 리스트 내포로 변경하였다. 반환 값으로 sum()내장함수를 활용하여 이 내장함수 안에 리스트 내포 구조를 작성하였다."
   ]
  },
  {
   "cell_type": "markdown",
   "id": "9130ecc7",
   "metadata": {},
   "source": [
    "- 2) addallodd(list) 함수 (리스트내의 모든 홀수를 더하는 함수로서 해답으로는 for ~ in 리터럴과 리스트 내포 방식으로 각각 제시하시오.)\n",
    "    - $>>>$ addallodd([1])   \n",
    "    1\n",
    "    - $>>>$ addallodd([1, 2, 3, 4, 5, 6, 7, 8, 9])   \n",
    "    25\n",
    "    - [참고 1]: 리스트 내포 방식으로 addall() 및 addallodd()함수를 만들 때엔 리스트 내포에 의해 생성된 리스트 결과에 대해 내장 함수를 사용하는 방식을 고려해보시오 (주의: 리스트 내포 방식의 addall() 및 addallodd() 함수의 몸체는 단 1줄로 작성되어야 한다.)\n",
    "    - [참고 2]: sum() 등의 내장함수 사용 가능함"
   ]
  },
  {
   "cell_type": "code",
   "execution_count": 36,
   "id": "04dfd909",
   "metadata": {},
   "outputs": [
    {
     "name": "stdout",
     "output_type": "stream",
     "text": [
      "1\n",
      "25\n"
     ]
    }
   ],
   "source": [
    "def addall(list):\n",
    "    result = []\n",
    "    for i in list:\n",
    "        if i%2 != 0:\n",
    "            result.append(i)\n",
    "    return sum(result)\n",
    "            \n",
    "print(addall([1]))\n",
    "print(addall([1,2,3,4,5,6,7,8,9]))"
   ]
  },
  {
   "cell_type": "code",
   "execution_count": 43,
   "id": "745022a2",
   "metadata": {},
   "outputs": [
    {
     "name": "stdout",
     "output_type": "stream",
     "text": [
      "1\n",
      "25\n"
     ]
    }
   ],
   "source": [
    "def addall(list):\n",
    "    return sum([i for i in list if i%2 != 0])\n",
    "\n",
    "\n",
    "print(addall([1]))\n",
    "print(addall([1,2,3,4,5,6,7,8,9]))"
   ]
  },
  {
   "cell_type": "markdown",
   "id": "b35b6e19",
   "metadata": {},
   "source": [
    "첫 번째의 코드는 addall(list)함수에 for 문을 사용하여 받아온 리스트의 값 중 홀수만 모두 더하는 것을 구현하였다. 반환 값을 sum(result)로 내장함수를 활용하여 반환하였다.   \n",
    "두 번째의 코드는 addall(list)함수에 위 반복문을 리스트 내포로 변경하였다. 위 반복문 함수에 대하여 [i for i in list if i%2 != 0]을 구현하고 이를 sum()내장함수를 더하여 리턴하였다."
   ]
  },
  {
   "cell_type": "markdown",
   "id": "9e15e2fb",
   "metadata": {},
   "source": [
    "## 6. 다음 코드를 보고 물음에 답하시오.\n",
    "```\n",
    "L1 = [1, 2, 3]\n",
    "L2 = [4, 5, 6]\n",
    "d = {'low':L1, 'high':L2}\n",
    "e = d\n",
    "f = d.copy()\n",
    "print(d)\n",
    "print(e)\n",
    "print(f)\n",
    "print()\n",
    "d['low'] = [10, 20, 30]\n",
    "d['high'][1] = 500\n",
    "print(d)\n",
    "print(e)\n",
    "print(f)\n",
    "```\n",
    "- 1) 위 코드의 수행 결과 d와 e는 항상 같은 결과를 출력한다. 그 이유는 무엇인가?"
   ]
  },
  {
   "cell_type": "code",
   "execution_count": 106,
   "id": "4b91a6e0",
   "metadata": {},
   "outputs": [
    {
     "name": "stdout",
     "output_type": "stream",
     "text": [
      "{'low': [1, 2, 3], 'high': [4, 5, 6]}\n",
      "{'low': [1, 2, 3], 'high': [4, 5, 6]}\n",
      "{'low': [1, 2, 3], 'high': [4, 5, 6]}\n",
      "\n",
      "{'low': [10, 20, 30], 'high': [4, 500, 6]}\n",
      "{'low': [10, 20, 30], 'high': [4, 500, 6]}\n",
      "{'low': [1, 2, 3], 'high': [4, 500, 6]}\n"
     ]
    }
   ],
   "source": [
    "L1 = [1, 2, 3]\n",
    "L2 = [4, 5, 6]\n",
    "d = {'low':L1, 'high':L2}\n",
    "e = d\n",
    "f = d.copy()\n",
    "print(d)\n",
    "print(e)\n",
    "print(f)\n",
    "print()\n",
    "d['low'] = [10, 20, 30]\n",
    "d['high'][1] = 500\n",
    "print(d)\n",
    "print(e)\n",
    "print(f)"
   ]
  },
  {
   "cell_type": "markdown",
   "id": "c1c2c041",
   "metadata": {},
   "source": [
    "e = d 로써 둘의 변수는 같은 고유의 개체를 바라보고 있음을 알 수 있다. 즉 같은 메모리를 보고 있다. 여기서 메모리를 바꿔주기만 해도 같은 것을 바라보고 있기 때문에 d 또는 e를 변경 시 둘 다 바라보는 고유의 개체가 변동되기 때문에 바뀌는 것을 알 수 있다."
   ]
  },
  {
   "cell_type": "markdown",
   "id": "a5a1f0bb",
   "metadata": {},
   "source": [
    "- 2) 위 코드의 수행 결과 마지막 f의 내용은 다음과 같다. 이 때 'high' 키의 값 내용 중 500이 출력된 이유와 'low' 키의 값 내용 중 [1, 2, 3]이 출력된 이유를 설명하시오 ([hint]: shallow copy 관점에서 설명하시오.)\n",
    "```\n",
    "{'high': [4, 500, 6], 'low': [1, 2, 3]}\n",
    "```"
   ]
  },
  {
   "cell_type": "markdown",
   "id": "955ccc27",
   "metadata": {},
   "source": [
    "f의 경우 얕은 복사를 한 것을 알 수 있다. 이를 통해서 중첩된 개체가 새 공간을 차지하여 메모리의 첫 번째 레이어만 복사를 한다. 예를 들어서 보이는 거와 같이 d = {'low':L1, 'high':L2}이다. 여기서 f = d.copy()를 통해 얕은 복사를 하고, d['low'] = [10,20,30]으로 수정하였다. 여기서 f의 'low'에서는 변동이 없다. 이유는 중첩된 개체가 만들어져서 새 공간을 차지했기 때문이다. 하지만 d['high'][1] = 500으로 수정하였을 경우에는 지정받은 메모리인 첫 번째 레이어만 복사를 받았기 때문에 바뀌는 것을 알 수 있다."
   ]
  },
  {
   "cell_type": "markdown",
   "id": "3e57e379",
   "metadata": {},
   "source": [
    "## 7. 사전 d = {'one':1, 'two':2, 'three':3, 'four':4, 'five':5}가 주어졌을 때 다음 요구사항에 맞는 코드를 제시하시오\n",
    "- [참고]: d.keys(), d.values()를 통해 리스트를 얻어낸 후 리스트가 지니고 있는 sort(cmp=None, key=None, reverse=False)함수를 활용하시오.\n",
    "- 1) 키의 알파벳 오름차순 순서대로 튜플 (키, 값)을 차례대로 출력하시오."
   ]
  },
  {
   "cell_type": "code",
   "execution_count": 194,
   "id": "518d4c8e",
   "metadata": {},
   "outputs": [
    {
     "name": "stdout",
     "output_type": "stream",
     "text": [
      "('five', 5)\n",
      "('four', 4)\n",
      "('one', 1)\n",
      "('three', 3)\n",
      "('two', 2)\n"
     ]
    }
   ],
   "source": [
    "d = {'one':1, 'two':2, 'three':3, 'four':4, 'five':5}\n",
    "d_key = list(d.keys())\n",
    "d_key.sort(reverse=False)\n",
    "\n",
    "for i in range(len(d_key)):\n",
    "    print((d_key[i],d[d_key[i]]))"
   ]
  },
  {
   "cell_type": "markdown",
   "id": "b5ac42e2",
   "metadata": {},
   "source": [
    "d의 사전을 정의한 후 d_key라는 변수를 통하여 d.keys()를 리스트로 변환하여 저장한다. 그리고 저장 된 리스트 d_key를 sort메소드를 통하여 reverse=False를 통하여 오름차순으로 d_key를 정리한다. 그 후 반복문을 통하여 d_key크기 만큼 d_key[] -> key 값, d[d_key[]] -> value 값을 출력한다."
   ]
  },
  {
   "cell_type": "markdown",
   "id": "89f6aa42",
   "metadata": {},
   "source": [
    "- 2) 키의 알파벳 내림차순 순서대로 튜플 (키, 값)을 차례대로 출력하시오."
   ]
  },
  {
   "cell_type": "code",
   "execution_count": 195,
   "id": "3cb4c1f3",
   "metadata": {},
   "outputs": [
    {
     "name": "stdout",
     "output_type": "stream",
     "text": [
      "('two', 2)\n",
      "('three', 3)\n",
      "('one', 1)\n",
      "('four', 4)\n",
      "('five', 5)\n"
     ]
    }
   ],
   "source": [
    "d = {'one':1, 'two':2, 'three':3, 'four':4, 'five':5}\n",
    "d_key = list(d.keys())\n",
    "d_key.sort(reverse=True)\n",
    "\n",
    "for i in range(len(d_key)):\n",
    "    print((d_key[i],d[d_key[i]]))"
   ]
  },
  {
   "cell_type": "markdown",
   "id": "3d7c5dc2",
   "metadata": {},
   "source": [
    "d의 사전을 정의한 후 d_key라는 변수를 통하여 d.keys()를 리스트로 변환하여 저장한다. 그리고 저장 된 리스트 d_key를 sort메소드를 통하여 reverse=True를 통하여 내림차순으로 d_key를 정리한다. 그 후 반복문을 통하여 d_key크기 만큼 d_key[] -> key 값, d[d_key[]] -> value 값을 출력한다."
   ]
  },
  {
   "cell_type": "markdown",
   "id": "e08f4b3f",
   "metadata": {},
   "source": [
    "- 3) 값의 오름차순 순서대로 튜플 (키, 값)을 차례대로 출력하시오."
   ]
  },
  {
   "cell_type": "code",
   "execution_count": 191,
   "id": "a289d622",
   "metadata": {},
   "outputs": [
    {
     "name": "stdout",
     "output_type": "stream",
     "text": [
      "('one', 1)\n",
      "('two', 2)\n",
      "('three', 3)\n",
      "('four', 4)\n",
      "('five', 5)\n"
     ]
    }
   ],
   "source": [
    "d = {'one':1, 'two':2, 'three':3, 'four':4, 'five':5}\n",
    "d_value = list(d.values())\n",
    "d_value.sort(reverse=False)\n",
    "\n",
    "for i in range(len(d_value)):\n",
    "    for key in d.keys():\n",
    "        if d_value[i] == d[key]:\n",
    "            print((key,d_value[i]))"
   ]
  },
  {
   "cell_type": "markdown",
   "id": "f6e9c903",
   "metadata": {},
   "source": [
    "d의 사전을 정의한 후 d_value라는 변수를 통하여 d.values()를 리스트로 변환하여 저장한다. 그리고 저장 된 리스트 d_value를 sort메소드를 통하여 reverse=False를 통하여 오름차순으로 d_value를 정리한다. 그 이후에 이중반복문을 사용한다. 첫 번째 반복문은 d_value크기 만큼 i번 반복하고, 두 번째 반복문은 d.keys() 에서의 크기 만큼 key를 빼온다. 그리고 조건문을 사용하여 d_value[] == d[key]와 같다면 key, d_value[]를 출력한다."
   ]
  },
  {
   "cell_type": "markdown",
   "id": "81d7e125",
   "metadata": {},
   "source": [
    "- 4) 값의 내림차순 순서대로 튜플 (키, 값)을 차례대로 출력하시오."
   ]
  },
  {
   "cell_type": "code",
   "execution_count": 190,
   "id": "3fcd56b2",
   "metadata": {},
   "outputs": [
    {
     "name": "stdout",
     "output_type": "stream",
     "text": [
      "('five', 5)\n",
      "('four', 4)\n",
      "('three', 3)\n",
      "('two', 2)\n",
      "('one', 1)\n"
     ]
    }
   ],
   "source": [
    "d = {'one':1, 'two':2, 'three':3, 'four':4, 'five':5}\n",
    "d_value = list(d.values())\n",
    "d_value.sort(reverse=True)\n",
    "\n",
    "for i in range(len(d_value)):\n",
    "    for key in d.keys():\n",
    "        if d_value[i] == d[key]:\n",
    "            print((key,d_value[i]))"
   ]
  },
  {
   "cell_type": "markdown",
   "id": "ebce0b75",
   "metadata": {},
   "source": [
    "d의 사전을 정의한 후 d_value라는 변수를 통하여 d.values()를 리스트로 변환하여 저장한다. 그리고 저장 된 리스트 d_value를 sort메소드를 통하여 reverse=True를 통하여 내림차순으로 d_value를 정리한다. 그 이후에 이중반복문을 사용한다. 첫 번째 반복문은 d_value크기 만큼 i번 반복하고, 두 번째 반복문은 d.keys() 에서의 크기 만큼 key를 빼온다. 그리고 조건문을 사용하여 d_value[] == d[key]와 같다면 key, d_value[]를 출력한다."
   ]
  },
  {
   "cell_type": "markdown",
   "id": "7f42957c",
   "metadata": {},
   "source": [
    "## 8. 다음 문제를 정확히 읽고 적합한 코딩을 제시하시오.\n",
    "- length(X)를 다음과 같이 정의한다 : 10진수로 표현된 X의 자릿수\n",
    "- Strange라는 숫자를 아래과 같이 정의한다.\n",
    "    - 음이 아닌 정수 중 자릿수가 1인 모든 숫자는 Strange이다.\n",
    "    - length(X) > 1 인 숫자 X 는 다음 2가지를 만족하면 Strange이다.\n",
    "        - X는 length(X)로 정확히 나누어 떨어진다.\n",
    "        - X / length(X) 가 strange이다.\n",
    "- 이 문제에서 숫자 하나가 주어질 때, 이 숫자가 Strange인지 판단하는 함수 isStrange(num)을 작성하시오.\n",
    "- isStrange(num) 함수가 재귀적인 함수가 되도록 작성해 보세요."
   ]
  },
  {
   "cell_type": "code",
   "execution_count": null,
   "id": "fcb6a7ee",
   "metadata": {},
   "outputs": [],
   "source": [
    "def isStrange(num):\n",
    "    '''\n",
    "    함수 포맷 변경하지 마세요.\n",
    "    재귀적인 함수는 함수 안에서 자기 자신 함수를 호출하는 것을 말합니다.\n",
    "    '''\n",
    "    return True # or False or isStrange(매개변수 숫자)"
   ]
  },
  {
   "cell_type": "markdown",
   "id": "9ade6115",
   "metadata": {},
   "source": [
    "- [예시]\n",
    "\n",
    "    1. num = 0                      =>    True\n",
    "    2. num = 56                     =>    True\n",
    "    3. num = 100                    =>    False\n",
    "    4. num = 7882602506492313600    =>    True\n",
    "    5. num = 6012302549522098651    =>    False"
   ]
  },
  {
   "cell_type": "code",
   "execution_count": 21,
   "id": "99cceb67",
   "metadata": {
    "scrolled": true
   },
   "outputs": [
    {
     "name": "stdout",
     "output_type": "stream",
     "text": [
      "True\n",
      "True\n",
      "False\n",
      "True\n",
      "False\n"
     ]
    }
   ],
   "source": [
    "def isStrange(num):\n",
    "    len_n = len(str(num))\n",
    "    \n",
    "    if len_n == 1: return True\n",
    "    \n",
    "    elif len_n > 1:\n",
    "        if num % len_n != 0: return False\n",
    "        else: return isStrange(num//len_n)\n",
    "    \n",
    "    else: return False\n",
    "        \n",
    "print(isStrange(0))\n",
    "print(isStrange(56))\n",
    "print(isStrange(100))\n",
    "print(isStrange(7882602506492313600))\n",
    "print(isStrange(6012302549522098651))"
   ]
  },
  {
   "cell_type": "markdown",
   "id": "d262146e",
   "metadata": {},
   "source": [
    "위 문제에서 num을 입력할 시 그에 맞는 자릿수를 나누면 0이 나와야 되는 공식이다. 우선 len_n 에 len(str(num))으로 num의 자릿수를 저장한다. 그리고 조건문을 통해 자릿수가 1일 때, 자릿수가 1보다 클 때, 그외에 조건으로 나눈다.   \n",
    "자릿수가 1일 때는 리턴 True이다.   \n",
    "자릿수가 1보다 클 때는 우선 입력 한 num을 len_n로 나눠서 몫이 0이 아니면 False이다. 그리고 0으로 나눈 것을 다시 확인하기 위해서 재귀함수를 통해 정수 몫으 반환한다.   \n",
    "그리고 나머지는 모두 False 처리한다."
   ]
  },
  {
   "cell_type": "markdown",
   "id": "a05f94d6",
   "metadata": {},
   "source": [
    "## 9. 다음 문제를 정확히 읽고 적합한 코딩을 제시하시오.\n",
    "- 1번 그룹, 2번 그룹, ... n번 그룹으로 번호가 매겨진 총 n개의 그룹이 존재하고, ith 그룹에는 임의의 팀원 수 ai 명이 있다.\n",
    "하나의 버스 정류장이 있고, 버스는 오직 한 대만 운영한다. 버스는 버스 정류장에 도착하고 모든 그룹은 버스를 통해 여행하길 원한다.\n",
    "하지만, 같은 그룹에 속한 팀원들은 분리되기를 원치 않는다. 그래서 그룹의 모든 팀원이 탈 수 있을 때 에만 그 그룹은 버스에 탑승한다.\n",
    "또한, 이들은 그룹의 번호순으로 여행을 하길 원한다. 예를 들어, 3번 그룹은 1번 그룹과 2번 그룹이 여행을 한 뒤에 버스를 탈 수 있거나, 1번 그룹과 2번 그룹이 이미 버스에 탑승한 상태에 있을 때 동시에 버스를 탈 수 있다.\n",
    "마지막으로, 버스는 빈 좌석이 없을 때 에만 여행을 떠난다.\n",
    "- 이 문제에서 각 그룹의 팀원 수가 리스트로 주어질 때, 가능한 모든 버스의 사이즈 x(x명의 사람들이 동시에 탈 수 있음)를 반환하는 함수 solve(a) 를 작성하시오.\n",
    "- [주의] 반드시 계산 복잡도를 최대한 낮추세요. 아래 예시 3번을 실행했을 때 결과가 바로 나타날 수 있도록!!"
   ]
  },
  {
   "cell_type": "code",
   "execution_count": null,
   "id": "787eef6c",
   "metadata": {},
   "outputs": [],
   "source": [
    "def solve(a):\n",
    "    '''\n",
    "    함수 포맷 변경하지 마세요.\n",
    "    필요시 solve(a)를 해결하기위한 다른 함수를 만들 수는 있음.\n",
    "    '''\n",
    "    return []"
   ]
  },
  {
   "cell_type": "markdown",
   "id": "2e62ea24",
   "metadata": {},
   "source": [
    "- [예시]\n",
    "    1. a = [1, 2, 1, 1, 1, 2, 1, 3]    =>    [3, 4, 6, 12]\n",
    "    2. a = [1, 1, 1, 1]                =>    [1, 2, 4]\n",
    "    3. a = [9999] * 10**5              =>    \n",
    "[9999,19998,39996,49995,79992,99990,159984,199980,249975,319968,   399960,499950,799920,999900,1249875,1599840,1999800,2499750,3999600,   4999500,6249375,7999200,9999000,12498750,19998000,24997500,31246875,   39996000,49995000,62493750,99990000,124987500,199980000,249975000,   499950000,999900000]"
   ]
  },
  {
   "cell_type": "code",
   "execution_count": 7,
   "id": "5f50e3cf",
   "metadata": {},
   "outputs": [
    {
     "name": "stdout",
     "output_type": "stream",
     "text": [
      "[3, 4, 6, 12]\n",
      "[1, 2, 4]\n",
      "[9999, 19998, 39996, 49995, 79992, 99990, 199980, 249975, 399960, 499950, 999900, 1249875, 1999800, 2499750, 4999500, 9999000]\n"
     ]
    }
   ],
   "source": [
    "def aliquot(a):\n",
    "    b = []\n",
    "    sum_b = sum(a)\n",
    "    \n",
    "    for i in range(1,sum_b+1):\n",
    "        if sum_b % i == 0:\n",
    "            b.append(i)\n",
    "            \n",
    "    b.sort()\n",
    "    return b\n",
    "\n",
    "def solve(a):\n",
    "    new_list = aliquot(a)\n",
    "    rep_count = 0\n",
    "    my_list = []\n",
    "    sum_a = 0\n",
    "                    \n",
    "    while rep_count < len(new_list):\n",
    "        rep_count += 1\n",
    "        i = 0\n",
    "        for j in range(1, len(a)+1):\n",
    "            if sum(a[i:j]) == new_list[rep_count-1]:\n",
    "                sum_a += sum(a[i:j])\n",
    "                i = j\n",
    "                    \n",
    "        if sum_a == sum(a):\n",
    "            my_list.append(new_list[rep_count-1])\n",
    "            sum_a = 0\n",
    "        else:\n",
    "            sum_a = 0\n",
    "                    \n",
    "    return my_list\n",
    "    \n",
    "\n",
    "print(solve( [1, 2, 1, 1, 1, 2, 1, 3] ))\n",
    "print(solve( [1, 1, 1, 1]  ))\n",
    "print(solve([9999] * 10 * 10 * 10))\n",
    "    "
   ]
  },
  {
   "cell_type": "markdown",
   "id": "f2263a0d",
   "metadata": {},
   "source": [
    "약수 함수를 정의해서 solve함수로 불러 온 약수를 new_list에 저장한다. 그리고 while 문을 통해서 약수리스트의 크기만큼 반복문을 돌린다. 그 안에서 rep_count로 while을 중단할 수 있게 한다. 반복문을 사용하여 슬라이싱을 통하여 슬라이싱 된 리스트를 sum내장함수를 통해 약수들과 비교한다. 같으면 sum_a에 슬라이싱 한 부분을 sum을 통하여 계속 더해간다.   \n",
    "마지막으로 sum_a와 a에서의 값들을 모두 더한 값이 같으면 my_list라는 새로운 리스트에 약수를 추가한다. 그리고 my_list를 반환한다.\n",
    "\n",
    "++ 추가적으로 저 예시 3번 넣으면 무한루프 걸려서 오래걸리는데 ㅠㅠ 어떤게 문제일까요.. 조교님.."
   ]
  },
  {
   "cell_type": "markdown",
   "id": "2ae21926",
   "metadata": {},
   "source": [
    "## [Incremental Project 문제]\n",
    "\n",
    "#### 이전 Assignment 2의 마지막 문제는 웹 URL로 지정된 웹페이지를 문자열로 가져와 모든 HTML 태그를 제외한 순수 텍스트를 얻어내고 그 안에 존재하는 단어를 추출하고 단어들의 총 개수를 출력하는 프로그램을 작성하는 것이었다. 이번에는 그 마지막 숙제를 그대로 확장하여 웹 URL로 지정된 웹페이지 내 순수 텍스트 안에 존재하는 각 단어들에 대해 다음 요구사항 대로 출력하는 프로그램을 작성하시오.\n",
    "\n",
    "- 요구사항 1. CSS와 Javascript 내용도 모두 제거하시오 (이전 숙제에서 이미 제외하였다면 본 요구사항 무시)\n",
    "    - 즉, 아래와 같은 코드는 $<style>$ 및 $<script>$태그 뿐만 아니라 그 안의 내용 전체를 모두 제거\n",
    "```\n",
    "<style>\n",
    "h1 {\n",
    "  color: blue;\n",
    "}\n",
    "</style>\n",
    "<script>\n",
    "int a = 10;\n",
    "...\n",
    "</script>\n",
    "\n",
    "```\n",
    "- 요구사항 2. 순수 텍스트 안에 존재하는 단어들에 대해 string 모듈을 활용하여 모든 punctuation (구두문자)를 완벽히 제거하시오.\n",
    "    - 모든 punctuation을 확인하는 방법은 아래와 같다.   \n",
    "    import string   \n",
    "    print(string.punctuation)\n",
    "    \n",
    "- 요구사항 3. 만약 punctuation (구두문자)를 제거한 이후 공백으로 판명되는 단어들은 해당 단어 리스트에서 제거하시오.\n",
    "- 요구사항 4. 각 단어들의 출현빈도를 사전형태로 저장하여 출력하시오.\n",
    "- 요구사항 5. 다음 5개의 사이트에 대한 단어 출현빈도 결과를 출력하시오."
   ]
  },
  {
   "cell_type": "code",
   "execution_count": 44,
   "id": "639e8145",
   "metadata": {
    "scrolled": true
   },
   "outputs": [
    {
     "name": "stdout",
     "output_type": "stream",
     "text": [
      "한국기술교육대학교 학생생활관(아우미르) 생활관 소개 관장님인사말 연혁 조직도 시설소개 오시는길 생활관 안내 생활관 상벌점표 생활관주요연락처 생활관생 선발기준 방침 입퇴사안내 생활관비 환불 기준 도어록사용안내 연간일정 안전환경 및 소방 학기중 입사 입사신청 선발결과조회 관리납부확인 룸메이트 신청 호실 선택 입주포기신청 입/퇴사 체크리스트 방학중 입사 입사신청 선발결과조회 관리납부확인 룸메이트 신청 입주포기신청 입/퇴사 체크리스트 커뮤니티 공지사항 너나들이 소식 고장/수리접수 자주묻는질문(FAQ) 자유게시판 자료실 시설물 사용 신청 Q&amp;A/건의사항 아우미르상담실 자치회 설문참여 유니돔 Int'l Dorm H Introduction Notice Bullentin Board Repair Point System 13.01.01 13.01.01 13.01.01 잡곡밥 북어채묵국 김치 계란후라이 오이스틱1 파스타 참치회 버터구이랍스터 와인 현미밥 김칫국 버섯전 계란말이 백미밥 육개장 김치 깍두기 소세지야채볶음 - 잡곡밥 북어채묵국 김치 계란후라이 오이스틱2 - 현미밥 김칫국 버섯전 계란말이 백미밥 육개장 김치 깍두기 소세지야채볶음 - 잡곡밥 북어채묵국 김치 계란후라이 오이스틱3 - 현미밥 김칫국 버섯전 계란말이 백미밥 육개장 김치 깍두기 소세지야채볶음 - [필독]2021학년도 2학기 생활관비 환 2021-10-19 2021-2학기 집중주간 생협 매장 운영 2021-10-16 21-2학기 학년별 집중주간 윙메이트 신 2021-10-12 [필독] 2021학년도 2학기 학년별 집 2021-10-08 [필독] 2021학년도 2학기 비대면 강 2021-10-01 [필독] 2021학년도 2학기 학년별 집 2021-10-01 은솔관 516호 화장실 막힘 2021-10-21 솔빛관 810호 도어락 2021-10-21 [솔빛관] 902호 화장실 전등 교체 부 2021-10-21 한울관(기계) 2021-10-21 솔빛관 325호 화장실 전등, 천장누수, 2021-10-21 함지 3231 창문 2021-10-21 교내주요기관 한기대 고용노동연수원 생활협동조합 상담진로개발센터 다산정보관 국제교육센터 산학협력단 능력개발교육원 공학교육혁신센터 총학생회 총동아리연합회 한기대 방송국 한기대 신문사 대학/대학원 기계정보공학부 메카트로닉스공학부 전기전자통신공학부 컴퓨터공학부 디자인공학과 건축공학부 에너지신소재화학공 산업경영학부 교양학부 메카IT융합공학과 일반대학원 테크노인력개발전문 산업대학원 최고경영자과정 \n",
      "총 단어의 개수 : 222\n",
      "================================================================================\n",
      "한국기술교육대학교 학생생활관아우미르 생활관 소개 관장님인사말 연혁 조직도 시설소개 오시는길 생활관 안내 생활관 상벌점표 생활관주요연락처 생활관생 선발기준 방침 입퇴사안내 생활관비 환불 기준 도어록사용안내 연간일정 안전환경 및 소방 학기중 입사 입사신청 선발결과조회 관리납부확인 룸메이트 신청 호실 선택 입주포기신청 입퇴사 체크리스트 방학중 입사 입사신청 선발결과조회 관리납부확인 룸메이트 신청 입주포기신청 입퇴사 체크리스트 커뮤니티 공지사항 너나들이 소식 고장수리접수 자주묻는질문FAQ 자유게시판 자료실 시설물 사용 신청 QampA건의사항 아우미르상담실 자치회 설문참여 유니돔 Intl Dorm H Introduction Notice Bullentin Board Repair Point System 130101 130101 130101 잡곡밥 북어채묵국 김치 계란후라이 오이스틱1 파스타 참치회 버터구이랍스터 와인 현미밥 김칫국 버섯전 계란말이 백미밥 육개장 김치 깍두기 소세지야채볶음 잡곡밥 북어채묵국 김치 계란후라이 오이스틱2 현미밥 김칫국 버섯전 계란말이 백미밥 육개장 김치 깍두기 소세지야채볶음 잡곡밥 북어채묵국 김치 계란후라이 오이스틱3 현미밥 김칫국 버섯전 계란말이 백미밥 육개장 김치 깍두기 소세지야채볶음 필독2021학년도 2학기 생활관비 환 20211019 20212학기 집중주간 생협 매장 운영 20211016 212학기 학년별 집중주간 윙메이트 신 20211012 필독 2021학년도 2학기 학년별 집 20211008 필독 2021학년도 2학기 비대면 강 20211001 필독 2021학년도 2학기 학년별 집 20211001 은솔관 516호 화장실 막힘 20211021 솔빛관 810호 도어락 20211021 솔빛관 902호 화장실 전등 교체 부 20211021 한울관기계 20211021 솔빛관 325호 화장실 전등 천장누수 20211021 함지 3231 창문 20211021 교내주요기관 한기대 고용노동연수원 생활협동조합 상담진로개발센터 다산정보관 국제교육센터 산학협력단 능력개발교육원 공학교육혁신센터 총학생회 총동아리연합회 한기대 방송국 한기대 신문사 대학대학원 기계정보공학부 메카트로닉스공학부 전기전자통신공학부 컴퓨터공학부 디자인공학과 건축공학부 에너지신소재화학공 산업경영학부 교양학부 메카IT융합공학과 일반대학원 테크노인력개발전문 산업대학원 최고경영자과정 \n",
      "총 단어의 개수 : 217\n",
      "================================================================================\n",
      "{'한국기술교육대학교': 1, '학생생활관아우미르': 1, '생활관': 3, '소개': 1, '관장님인사말': 1, '연혁': 1, '조직도': 1, '시설소개': 1, '오시는길': 1, '안내': 1, '상벌점표': 1, '생활관주요연락처': 1, '생활관생': 1, '선발기준': 1, '방침': 1, '입퇴사안내': 1, '생활관비': 2, '환불': 1, '기준': 1, '도어록사용안내': 1, '연간일정': 1, '안전환경': 1, '및': 1, '소방': 1, '학기중': 1, '입사': 2, '입사신청': 2, '선발결과조회': 2, '관리납부확인': 2, '룸메이트': 2, '신청': 3, '호실': 1, '선택': 1, '입주포기신청': 2, '입퇴사': 2, '체크리스트': 2, '방학중': 1, '커뮤니티': 1, '공지사항': 1, '너나들이': 1, '소식': 1, '고장수리접수': 1, '자주묻는질문FAQ': 1, '자유게시판': 1, '자료실': 1, '시설물': 1, '사용': 1, 'QampA건의사항': 1, '아우미르상담실': 1, '자치회': 1, '설문참여': 1, '유니돔': 1, 'Intl': 1, 'Dorm': 1, 'H': 1, 'Introduction': 1, 'Notice': 1, 'Bullentin': 1, 'Board': 1, 'Repair': 1, 'Point': 1, 'System': 1, '130101': 3, '잡곡밥': 3, '북어채묵국': 3, '김치': 6, '계란후라이': 3, '오이스틱1': 1, '파스타': 1, '참치회': 1, '버터구이랍스터': 1, '와인': 1, '현미밥': 3, '김칫국': 3, '버섯전': 3, '계란말이': 3, '백미밥': 3, '육개장': 3, '깍두기': 3, '소세지야채볶음': 3, '오이스틱2': 1, '오이스틱3': 1, '필독2021학년도': 1, '2학기': 4, '환': 1, '20211019': 1, '20212학기': 1, '집중주간': 2, '생협': 1, '매장': 1, '운영': 1, '20211016': 1, '212학기': 1, '학년별': 3, '윙메이트': 1, '신': 1, '20211012': 1, '필독': 3, '2021학년도': 3, '집': 2, '20211008': 1, '비대면': 1, '강': 1, '20211001': 2, '은솔관': 1, '516호': 1, '화장실': 3, '막힘': 1, '20211021': 6, '솔빛관': 3, '810호': 1, '도어락': 1, '902호': 1, '전등': 2, '교체': 1, '부': 1, '한울관기계': 1, '325호': 1, '천장누수': 1, '함지': 1, '3231': 1, '창문': 1, '교내주요기관': 1, '한기대': 3, '고용노동연수원': 1, '생활협동조합': 1, '상담진로개발센터': 1, '다산정보관': 1, '국제교육센터': 1, '산학협력단': 1, '능력개발교육원': 1, '공학교육혁신센터': 1, '총학생회': 1, '총동아리연합회': 1, '방송국': 1, '신문사': 1, '대학대학원': 1, '기계정보공학부': 1, '메카트로닉스공학부': 1, '전기전자통신공학부': 1, '컴퓨터공학부': 1, '디자인공학과': 1, '건축공학부': 1, '에너지신소재화학공': 1, '산업경영학부': 1, '교양학부': 1, '메카IT융합공학과': 1, '일반대학원': 1, '테크노인력개발전문': 1, '산업대학원': 1, '최고경영자과정': 1}\n"
     ]
    }
   ],
   "source": [
    "import requests\n",
    "\n",
    "req = requests.get('https://dorm.koreatech.ac.kr/')\n",
    "\n",
    "source = req.text\n",
    "\n",
    "a = list(source)\n",
    "\n",
    "end = 0\n",
    "\n",
    "for i in range(len(a)): \n",
    "    if a[i] == \"<\": \n",
    "        if a[i+1:i+7] == [\"s\",\"c\",\"r\",\"i\",\"p\",\"t\"]: \n",
    "            for j in range(i,len(a)): \n",
    "                if a[j] == \"<\": \n",
    "                    if a[j+1:j+9] == [\"/\",\"s\",\"c\",\"r\",\"i\",\"p\",\"t\",\">\"]:\n",
    "                        for k in range(j,j+9):\n",
    "                            a[k] = \" \"\n",
    "                    if a[j+8] == \" \": \n",
    "                        end = -1\n",
    "                \n",
    "                if end == -1: \n",
    "                    end = 0 \n",
    "                    break \n",
    "                else: a[j] = \" \"\n",
    "                \n",
    "                \n",
    "\n",
    "for i in range(len(a)): \n",
    "    if a[i] == \"<\": \n",
    "        if a[i+1:i+6] == [\"s\",\"t\",\"y\",\"l\",\"e\"]: \n",
    "            for j in range(i,len(a)): \n",
    "                if a[j] == \"<\": \n",
    "                    if a[j+1:j+8] == [\"/\",\"s\",\"t\",\"y\",\"l\",\"e\",\">\"]: \n",
    "                        for k in range(j,j+8): \n",
    "                            a[k] = \" \"\n",
    "                    if a[j+7] == \" \":\n",
    "                        end = -1 \n",
    "                        \n",
    "                if end == -1: \n",
    "                    end = 0 \n",
    "                    break \n",
    "                else: a[j] = \" \" \n",
    "                      \n",
    "for i in range(len(a)): \n",
    "    if a[i] == \"<\": \n",
    "        a[i] = \" \"      \n",
    "        for j in range(i+1, len(a)): \n",
    "            if a[j] == \"<\": \n",
    "                for k in range(j+1, len(a)):\n",
    "                    if a[k] == \">\": \n",
    "                        a[k] = \" \" \n",
    "                        break \n",
    "                    else: a[k] = \" \" \n",
    "                        \n",
    "            if a[j] == \">\":\n",
    "                a[j] = \" \" \n",
    "                break \n",
    "            else: a[j] = \" \" \n",
    "        \n",
    "        \n",
    "mine = \"\" \n",
    "for i in range(len(a)): \n",
    "    mine += a[i] \n",
    "\n",
    "size = len(mine.split()) \n",
    "for i in range(size): \n",
    "    print(mine.split()[i], end = \" \") \n",
    "print(\"\\n총 단어의 개수 : %d\" %size)\n",
    "print(\"=\"*80)\n",
    "\n",
    "import string\n",
    "\n",
    "punc_mine = mine.split()\n",
    "for i in range(len(punc_mine)):\n",
    "    punc_mine[i] = list(punc_mine[i])\n",
    "          \n",
    "        \n",
    "for i in range(len(punc_mine)):\n",
    "    for j in range(len(punc_mine[i])):\n",
    "        if punc_mine[i][j] in string.punctuation:\n",
    "            punc_mine[i][j] = ''\n",
    "\n",
    "mine2 = \"\"\n",
    "\n",
    "for i in range(len(punc_mine)): \n",
    "    mine2 += \" \"\n",
    "    for j in range(len(punc_mine[i])):\n",
    "        mine2 += punc_mine[i][j]\n",
    "\n",
    "size2 = len(mine2.split())\n",
    "\n",
    "for i in range(size2):\n",
    "    print(mine2.split()[i], end = \" \")\n",
    "\n",
    "print(\"\\n총 단어의 개수 : %d\" %size2)\n",
    "print(\"=\"*80)\n",
    "\n",
    "dict_mine2 = {}\n",
    "\n",
    "for i in range(len(mine2.split())):\n",
    "    count = 0\n",
    "    for j in range(len(mine2.split())):\n",
    "        if mine2.split()[i] == mine2.split()[j]:\n",
    "            count += 1\n",
    "    dict_mine2[mine2.split()[i]] = count\n",
    "        \n",
    "\n",
    "print(dict_mine2)"
   ]
  },
  {
   "cell_type": "code",
   "execution_count": 8,
   "id": "76a04653",
   "metadata": {
    "scrolled": true
   },
   "outputs": [
    {
     "name": "stdout",
     "output_type": "stream",
     "text": [
      "한국기술교육대학교 닫기 Link Service 재학생 재학생 학생이 행복한 대학, 한국기술교육대학교 온라인교육지원 생활관 원격지원 오늘의 식단 학사종합시스템 인터넷증명발급 동아리안내 입학정보 코리아텍의 입학정보를 제공합니다. 취업정보 최신 취업관련 정보를 제공합니다. 교직원 교직원 학생이 행복한 대학, 한국기술교육대학교 아우누리 온라인교육지원 무선랜신청 원격지원 오늘의 식단 교육장비검색 입학정보 코리아텍의 입학정보를 제공합니다. 취업정보 최신 취업관련 정보를 제공합니다. 일반인 일반인 학생이 행복한 대학, 한국기술교육대학교 코리아텍소개 VISION2020 PLUS 언론기사 학부소개 대학원소개 캠퍼스투어 찾아오시는길 전화번호찾기 입학정보 코리아텍의 입학정보를 제공합니다. 취업정보 최신 취업관련 정보를 제공합니다. 코리아텍 특장점 자세히 보기 중앙일보대학평가‘교육중심대학’ 1위 코리아텍은 중앙일보대학평가 11년 연속으로 “교육중심대학 1위” 의 성과를 이루었습니다. 스킵네비게이션 본문바로가기 주메뉴바로가기 재학생 교직원 일반인 통학· 셔틀버스 명칭 whome -> 대표홈 home -> 홈 join -> 회원가입 login -> 로그인 my -> 마이페이지 logout -> 로그아웃 contact -> Contact Us link1 -> 링크1 link2 -> 링크2 link3 -> 링크3 link4 -> 링크4 link5 -> 링크5 langE -> 언어(영) langC -> 언어(중) langJ -> 언어(일) langK -> 언어(한) search -> 검색 amenu -> 사이트맵 --> 안전보건경영 웹메일 행정서비스헌장 부패행위신고 홈페이지 오류신고 ENG CHI 팝업 0 건 한국기술교육대학교 전체메뉴열기 전체메뉴닫기 한국기술교육대학교 입학안내 웹메일 ENG CHI 대학소개 KOREATECH소개 교육목표 및 인재상 대학특성 KOREATECH 심볼 교가 캠퍼스 안내 찾아오시는길 통학/셔틀버스안내 KOREATECH20년 총장실 총장인사말 총장프로필 총장동정 열린총장실 역대총장 대학현황 대학요람 규정집 연혁 재정현황 시설현황 재학생현황 VISION2020 PLUS 대학조직 조직구성 전화번호검색 국제교류 국제교류현황 국제협력프로그램 KOREATECH 발전기금 부패행위 신고 부패행위 신고 익명신고 청렴게시판 청렴자료실 청탁금지법 청탁금지법 Q&A (국민권익위) 안전보건경영 비전 및 추진체계 안전보건방침 선포식 안전 게시판 감염병 게시판 자료실 안전 신문고 입학안내 대학 대학원 입시요강 전년도 결과확인 모의성적계산 대학/대학원 대학 기계공학부 메카트로닉스공학부 전기전자통신공학부 컴퓨터공학부 디자인·건축공학부 에너지신소재화학공학부 산업경영학부 고용서비스정책학과 교양학부 HRD학과 융합학과 대학원 일학습병행대학 대학생활 학사안내 학사일정 학적 변동 교과과정 특수교과 수강신청 졸업 졸업작품 해외연수 교환학생안내 어학연수안내 장학제도 교내장학금 교외장학금 캠퍼스생활 은행업무 인터넷증명발급 증명서발급 학생증발급 도서관이용안내 모바일화폐(페이코)사용안내 동아리안내 보건실안내 무선랜사용신청 병사안내 병무안내 직장예비군안내 민방위안내 병무안내관련사이트 커뮤니티 공지사항 일반공지 장학공지 학사공지 채용공지 코로나19관련공지 학부모님 의견란 고객의 소리(제안) 고객만족도 VOC 개선사항 고객만족경영체계 정보공개 정보공개 정보공개제도안내 정보공개업무편람 정보공개이의신청 사전정보공표목록 인터넷정보공개청구 행정정보소재 공공데이터 공공데이터개방 데이터의견수렴·오류신고 행정공시 학교법인임원공시 구매입찰 회계공시 경영공시 대학알리미 ALIO경영공시 대학혁신지원사업 대학혁신지원사업 사업실명제 민간투자사업 개교 30주년 30주년 사업소개 위원장 인사말 기념사업 개요 엠블럼 30년 발자취 함께하는 30주년 사업소식 30년 자료 기증 공지사항 Q&A KOREATECH Story KOREATECH NEWS 홍보영상물 대학홍보영상 홍보관련영상 언론보도영상 KOREATECH 홍보대사 '나래' 대학소식지 대학캠퍼스투어 홍보브로셔 KOREATECH 학부모 초청의 날 행사참여안내 행사참여신청 포토갤러리 CoverStory 홍보소재(제안) 전체메뉴보기 SEARCH 01 Sep COVER STORY 코로나에 못 만난다고?..&quot;아바타로 회의하고, 협약까지 한다&quot; 코로나19 사태 속에 최근 직접 만나서 회의를 하거나 행사 열기가 사실상 어렵습니다.그러다보니 가상현실을 활용한 대안들이 갈수록 진화하고 있습니다. 최근 비대면 상황에서 현실과 ... 13 Aug COVER STORY 한국기술교육대학교 학부과별 홍보영상 공개 한국기술교육대학교의 새로운학부과 홍보 동영상이 공개되었습니다. 자세한 영상과 이벤트는 한국기술교육대학교 공식 유튜브에서 확인하실 수 있습니다. (오른쪽 사진을 클릭하세요) 09 Jul COVER STORY 장신철 한국기술교육대 고용서비스정책학과장 “고용서비스는 기본적인 사회안전망...전문인력 육성해야” 고용서비스정책학과는 고용서비스 분야의 전문인력 양성을 위해 생긴 학과다. 고용서비스는 취업, 재직, 실직, 재취업, 전직 등 국민들의 일자리와 관련된 다양한 서비스를 제공한다. 고... 능력개발교육원 온라인평생교육원 직업능력심사평가원 산학협력단 공지사항 [대외협력팀] 「KOREATECH 30주년 후배사랑」 모금 캠페인 2021-10-20 [취창업지원팀] \"우리 학교 굿즈, 우리가 만들자!\"/교내 30주년 기념 굿즈 창업 아이템 공모전 안내 2021-10-20 [IPP센터] 2021학년도 동계 단기현장실습 설명회(온라인) 개최 안내 2021-10-20 [대외협력팀] 근로장학생 모집 2021-10-20 공지사항 더보기 포토갤러리 포토갤러리더보기 팝업존 재생 정지 숫자로 보는 한국기술교육대학교 84.7 % 전국 4년제 대학 취업률 1위 (출처: 대학정보공시, 졸업생 500명 이상 대학) 1 위 중앙일보 대학평가 교육중심대학(11년연속) 1위 (출처: 중앙일보 ‘19년 평가) 3,296 천원 장학금 수령액 (출처: 2020년 대학정보공시 기준) Statistics 취업률 분포현황 자주찾는 서비스 학사종합서비스 온라인교육 인터넷증명발급 학사일정 발전기금 학과안내 SNS 페이스북 FaceBook 한국기술교육대학교-KOREATECH님이 게시한 사진 2021-10-14 Blog [KOREATECH/한국기술교육대학교] Wings Magazine 2021년 10월호 2021-10-15 Instgram #Wings_Magazine #10월호 2021-10-15 Youtube 2021 하반기 졸업작품 | 메카트로닉스공학부 | 황태현 [한국기술교육대학교/KOREATECH] 2021-10-18 네이버블로그 인스타그램 유튜브 대학/대학원 기계공학부 메카트로닉스공학부 전기전자통신공학부 컴퓨터공학부 디자인공학전공 건축공학전공 에너지신소재화학공학부 산업경영학부 교양학부 HRD학과 융합학과 일반대학원 테크노인력개발전문대학원 IT융합과학경영대학원 최고경영자과정 주요사이트 네이버 공식블로그 학사종합서비스 온라인교육지원 웹갤러리 웹메일 청년워크넷 고용부 워크넷 잡코리아 사람인 인크루트 교내주요기관 능력개발교육원 온라인평생교육원 직업능력심사평가원 다산정보관 산학협력단 LINC+사업단 생활협동조합 생활관 반도체 장비기술교육센터 상담진로개발센터 IPP센터 IPP포털 사회봉사센터 다담창의센터 IPP·Uni-Tech허브사업단 창업지원센터 듀얼공동훈련센터허브사업단 대학혁신사업단 교수학습센터 도제허브사업단 국제교육센터 학생자치단체 총학생회 코리아텍방송국 생활관자치회 대외유관기관 고용노동부 산업통상자원부 기획재정부 한국산업인력공단 한국폴리텍대학 한국교육개발원 한국노동연구원 한국고용노동교육원 근로복지공단 한국산업안전보건공단 한국고용정보원 한국직업능력개발원 한국장애인고용공단 충청남도청 천안시청 국민권익위원회 교육부 NTIS 원격훈련심사센터 명칭 privacy -> 개인정보처리방침 terms -> 이용약관 tel -> 전화번호안내 comeway -> 오시는길 --> TOP 한국기술교육대학교 서비스메뉴 개인정보처리방침 이메일무단수집거부 윤리헌장 행정서비스헌장 알리오 대학정보공시 도로명주소안내 좌측내용 더보기 우측내용 더보기 [31253] 충청남도 천안시 동남구 병천면 충절로 1600 (가전리, 한국기술교육대학교) TEL : 041-560-1114 FAX : 02-- EMAIL : inter@koreatech.ac.kr Copyright ⓒ 2019. KOREATECH. All right reserved. \n",
      "총 단어의 개수 : 708\n",
      "================================================================================\n",
      "한국기술교육대학교 닫기 Link Service 재학생 재학생 학생이 행복한 대학 한국기술교육대학교 온라인교육지원 생활관 원격지원 오늘의 식단 학사종합시스템 인터넷증명발급 동아리안내 입학정보 코리아텍의 입학정보를 제공합니다 취업정보 최신 취업관련 정보를 제공합니다 교직원 교직원 학생이 행복한 대학 한국기술교육대학교 아우누리 온라인교육지원 무선랜신청 원격지원 오늘의 식단 교육장비검색 입학정보 코리아텍의 입학정보를 제공합니다 취업정보 최신 취업관련 정보를 제공합니다 일반인 일반인 학생이 행복한 대학 한국기술교육대학교 코리아텍소개 VISION2020 PLUS 언론기사 학부소개 대학원소개 캠퍼스투어 찾아오시는길 전화번호찾기 입학정보 코리아텍의 입학정보를 제공합니다 취업정보 최신 취업관련 정보를 제공합니다 코리아텍 특장점 자세히 보기 중앙일보대학평가‘교육중심대학’ 1위 코리아텍은 중앙일보대학평가 11년 연속으로 “교육중심대학 1위” 의 성과를 이루었습니다 스킵네비게이션 본문바로가기 주메뉴바로가기 재학생 교직원 일반인 통학· 셔틀버스 명칭 whome 대표홈 home 홈 join 회원가입 login 로그인 my 마이페이지 logout 로그아웃 contact Contact Us link1 링크1 link2 링크2 link3 링크3 link4 링크4 link5 링크5 langE 언어영 langC 언어중 langJ 언어일 langK 언어한 search 검색 amenu 사이트맵 안전보건경영 웹메일 행정서비스헌장 부패행위신고 홈페이지 오류신고 ENG CHI 팝업 0 건 한국기술교육대학교 전체메뉴열기 전체메뉴닫기 한국기술교육대학교 입학안내 웹메일 ENG CHI 대학소개 KOREATECH소개 교육목표 및 인재상 대학특성 KOREATECH 심볼 교가 캠퍼스 안내 찾아오시는길 통학셔틀버스안내 KOREATECH20년 총장실 총장인사말 총장프로필 총장동정 열린총장실 역대총장 대학현황 대학요람 규정집 연혁 재정현황 시설현황 재학생현황 VISION2020 PLUS 대학조직 조직구성 전화번호검색 국제교류 국제교류현황 국제협력프로그램 KOREATECH 발전기금 부패행위 신고 부패행위 신고 익명신고 청렴게시판 청렴자료실 청탁금지법 청탁금지법 QA 국민권익위 안전보건경영 비전 및 추진체계 안전보건방침 선포식 안전 게시판 감염병 게시판 자료실 안전 신문고 입학안내 대학 대학원 입시요강 전년도 결과확인 모의성적계산 대학대학원 대학 기계공학부 메카트로닉스공학부 전기전자통신공학부 컴퓨터공학부 디자인·건축공학부 에너지신소재화학공학부 산업경영학부 고용서비스정책학과 교양학부 HRD학과 융합학과 대학원 일학습병행대학 대학생활 학사안내 학사일정 학적 변동 교과과정 특수교과 수강신청 졸업 졸업작품 해외연수 교환학생안내 어학연수안내 장학제도 교내장학금 교외장학금 캠퍼스생활 은행업무 인터넷증명발급 증명서발급 학생증발급 도서관이용안내 모바일화폐페이코사용안내 동아리안내 보건실안내 무선랜사용신청 병사안내 병무안내 직장예비군안내 민방위안내 병무안내관련사이트 커뮤니티 공지사항 일반공지 장학공지 학사공지 채용공지 코로나19관련공지 학부모님 의견란 고객의 소리제안 고객만족도 VOC 개선사항 고객만족경영체계 정보공개 정보공개 정보공개제도안내 정보공개업무편람 정보공개이의신청 사전정보공표목록 인터넷정보공개청구 행정정보소재 공공데이터 공공데이터개방 데이터의견수렴·오류신고 행정공시 학교법인임원공시 구매입찰 회계공시 경영공시 대학알리미 ALIO경영공시 대학혁신지원사업 대학혁신지원사업 사업실명제 민간투자사업 개교 30주년 30주년 사업소개 위원장 인사말 기념사업 개요 엠블럼 30년 발자취 함께하는 30주년 사업소식 30년 자료 기증 공지사항 QA KOREATECH Story KOREATECH NEWS 홍보영상물 대학홍보영상 홍보관련영상 언론보도영상 KOREATECH 홍보대사 나래 대학소식지 대학캠퍼스투어 홍보브로셔 KOREATECH 학부모 초청의 날 행사참여안내 행사참여신청 포토갤러리 CoverStory 홍보소재제안 전체메뉴보기 SEARCH 01 Sep COVER STORY 코로나에 못 만난다고quot아바타로 회의하고 협약까지 한다quot 코로나19 사태 속에 최근 직접 만나서 회의를 하거나 행사 열기가 사실상 어렵습니다그러다보니 가상현실을 활용한 대안들이 갈수록 진화하고 있습니다 최근 비대면 상황에서 현실과 13 Aug COVER STORY 한국기술교육대학교 학부과별 홍보영상 공개 한국기술교육대학교의 새로운학부과 홍보 동영상이 공개되었습니다 자세한 영상과 이벤트는 한국기술교육대학교 공식 유튜브에서 확인하실 수 있습니다 오른쪽 사진을 클릭하세요 09 Jul COVER STORY 장신철 한국기술교육대 고용서비스정책학과장 “고용서비스는 기본적인 사회안전망전문인력 육성해야” 고용서비스정책학과는 고용서비스 분야의 전문인력 양성을 위해 생긴 학과다 고용서비스는 취업 재직 실직 재취업 전직 등 국민들의 일자리와 관련된 다양한 서비스를 제공한다 고 능력개발교육원 온라인평생교육원 직업능력심사평가원 산학협력단 공지사항 대외협력팀 「KOREATECH 30주년 후배사랑」 모금 캠페인 20211020 취창업지원팀 우리 학교 굿즈 우리가 만들자교내 30주년 기념 굿즈 창업 아이템 공모전 안내 20211020 IPP센터 2021학년도 동계 단기현장실습 설명회온라인 개최 안내 20211020 대외협력팀 근로장학생 모집 20211020 공지사항 더보기 포토갤러리 포토갤러리더보기 팝업존 재생 정지 숫자로 보는 한국기술교육대학교 847 전국 4년제 대학 취업률 1위 출처 대학정보공시 졸업생 500명 이상 대학 1 위 중앙일보 대학평가 교육중심대학11년연속 1위 출처 중앙일보 ‘19년 평가 3296 천원 장학금 수령액 출처 2020년 대학정보공시 기준 Statistics 취업률 분포현황 자주찾는 서비스 학사종합서비스 온라인교육 인터넷증명발급 학사일정 발전기금 학과안내 SNS 페이스북 FaceBook 한국기술교육대학교KOREATECH님이 게시한 사진 20211014 Blog KOREATECH한국기술교육대학교 Wings Magazine 2021년 10월호 20211015 Instgram WingsMagazine 10월호 20211015 Youtube 2021 하반기 졸업작품 메카트로닉스공학부 황태현 한국기술교육대학교KOREATECH 20211018 네이버블로그 인스타그램 유튜브 대학대학원 기계공학부 메카트로닉스공학부 전기전자통신공학부 컴퓨터공학부 디자인공학전공 건축공학전공 에너지신소재화학공학부 산업경영학부 교양학부 HRD학과 융합학과 일반대학원 테크노인력개발전문대학원 IT융합과학경영대학원 최고경영자과정 주요사이트 네이버 공식블로그 학사종합서비스 온라인교육지원 웹갤러리 웹메일 청년워크넷 고용부 워크넷 잡코리아 사람인 인크루트 교내주요기관 능력개발교육원 온라인평생교육원 직업능력심사평가원 다산정보관 산학협력단 LINC사업단 생활협동조합 생활관 반도체 장비기술교육센터 상담진로개발센터 IPP센터 IPP포털 사회봉사센터 다담창의센터 IPP·UniTech허브사업단 창업지원센터 듀얼공동훈련센터허브사업단 대학혁신사업단 교수학습센터 도제허브사업단 국제교육센터 학생자치단체 총학생회 코리아텍방송국 생활관자치회 대외유관기관 고용노동부 산업통상자원부 기획재정부 한국산업인력공단 한국폴리텍대학 한국교육개발원 한국노동연구원 한국고용노동교육원 근로복지공단 한국산업안전보건공단 한국고용정보원 한국직업능력개발원 한국장애인고용공단 충청남도청 천안시청 국민권익위원회 교육부 NTIS 원격훈련심사센터 명칭 privacy 개인정보처리방침 terms 이용약관 tel 전화번호안내 comeway 오시는길 TOP 한국기술교육대학교 서비스메뉴 개인정보처리방침 이메일무단수집거부 윤리헌장 행정서비스헌장 알리오 대학정보공시 도로명주소안내 좌측내용 더보기 우측내용 더보기 31253 충청남도 천안시 동남구 병천면 충절로 1600 가전리 한국기술교육대학교 TEL 0415601114 FAX 02 EMAIL interkoreatechackr Copyright ⓒ 2019 KOREATECH All right reserved \n",
      "총 단어의 개수 : 677\n",
      "================================================================================\n",
      "{'한국기술교육대학교': 11, '닫기': 1, 'Link': 1, 'Service': 1, '재학생': 3, '학생이': 3, '행복한': 3, '대학': 7, '온라인교육지원': 3, '생활관': 2, '원격지원': 2, '오늘의': 2, '식단': 2, '학사종합시스템': 1, '인터넷증명발급': 3, '동아리안내': 2, '입학정보': 3, '코리아텍의': 3, '입학정보를': 3, '제공합니다': 6, '취업정보': 3, '최신': 3, '취업관련': 3, '정보를': 3, '교직원': 3, '아우누리': 1, '무선랜신청': 1, '교육장비검색': 1, '일반인': 3, '코리아텍소개': 1, 'VISION2020': 2, 'PLUS': 2, '언론기사': 1, '학부소개': 1, '대학원소개': 1, '캠퍼스투어': 1, '찾아오시는길': 2, '전화번호찾기': 1, '코리아텍': 1, '특장점': 1, '자세히': 1, '보기': 1, '중앙일보대학평가‘교육중심대학’': 1, '1위': 3, '코리아텍은': 1, '중앙일보대학평가': 1, '11년': 1, '연속으로': 1, '“교육중심대학': 1, '1위”': 1, '의': 1, '성과를': 1, '이루었습니다': 1, '스킵네비게이션': 1, '본문바로가기': 1, '주메뉴바로가기': 1, '통학·': 1, '셔틀버스': 1, '명칭': 2, 'whome': 1, '대표홈': 1, 'home': 1, '홈': 1, 'join': 1, '회원가입': 1, 'login': 1, '로그인': 1, 'my': 1, '마이페이지': 1, 'logout': 1, '로그아웃': 1, 'contact': 1, 'Contact': 1, 'Us': 1, 'link1': 1, '링크1': 1, 'link2': 1, '링크2': 1, 'link3': 1, '링크3': 1, 'link4': 1, '링크4': 1, 'link5': 1, '링크5': 1, 'langE': 1, '언어영': 1, 'langC': 1, '언어중': 1, 'langJ': 1, '언어일': 1, 'langK': 1, '언어한': 1, 'search': 1, '검색': 1, 'amenu': 1, '사이트맵': 1, '안전보건경영': 2, '웹메일': 3, '행정서비스헌장': 2, '부패행위신고': 1, '홈페이지': 1, '오류신고': 1, 'ENG': 2, 'CHI': 2, '팝업': 1, '0': 1, '건': 1, '전체메뉴열기': 1, '전체메뉴닫기': 1, '입학안내': 2, '대학소개': 1, 'KOREATECH소개': 1, '교육목표': 1, '및': 2, '인재상': 1, '대학특성': 1, 'KOREATECH': 7, '심볼': 1, '교가': 1, '캠퍼스': 1, '안내': 3, '통학셔틀버스안내': 1, 'KOREATECH20년': 1, '총장실': 1, '총장인사말': 1, '총장프로필': 1, '총장동정': 1, '열린총장실': 1, '역대총장': 1, '대학현황': 1, '대학요람': 1, '규정집': 1, '연혁': 1, '재정현황': 1, '시설현황': 1, '재학생현황': 1, '대학조직': 1, '조직구성': 1, '전화번호검색': 1, '국제교류': 1, '국제교류현황': 1, '국제협력프로그램': 1, '발전기금': 2, '부패행위': 2, '신고': 2, '익명신고': 1, '청렴게시판': 1, '청렴자료실': 1, '청탁금지법': 2, 'QA': 2, '국민권익위': 1, '비전': 1, '추진체계': 1, '안전보건방침': 1, '선포식': 1, '안전': 2, '게시판': 2, '감염병': 1, '자료실': 1, '신문고': 1, '대학원': 2, '입시요강': 1, '전년도': 1, '결과확인': 1, '모의성적계산': 1, '대학대학원': 2, '기계공학부': 2, '메카트로닉스공학부': 3, '전기전자통신공학부': 2, '컴퓨터공학부': 2, '디자인·건축공학부': 1, '에너지신소재화학공학부': 2, '산업경영학부': 2, '고용서비스정책학과': 1, '교양학부': 2, 'HRD학과': 2, '융합학과': 2, '일학습병행대학': 1, '대학생활': 1, '학사안내': 1, '학사일정': 2, '학적': 1, '변동': 1, '교과과정': 1, '특수교과': 1, '수강신청': 1, '졸업': 1, '졸업작품': 2, '해외연수': 1, '교환학생안내': 1, '어학연수안내': 1, '장학제도': 1, '교내장학금': 1, '교외장학금': 1, '캠퍼스생활': 1, '은행업무': 1, '증명서발급': 1, '학생증발급': 1, '도서관이용안내': 1, '모바일화폐페이코사용안내': 1, '보건실안내': 1, '무선랜사용신청': 1, '병사안내': 1, '병무안내': 1, '직장예비군안내': 1, '민방위안내': 1, '병무안내관련사이트': 1, '커뮤니티': 1, '공지사항': 4, '일반공지': 1, '장학공지': 1, '학사공지': 1, '채용공지': 1, '코로나19관련공지': 1, '학부모님': 1, '의견란': 1, '고객의': 1, '소리제안': 1, '고객만족도': 1, 'VOC': 1, '개선사항': 1, '고객만족경영체계': 1, '정보공개': 2, '정보공개제도안내': 1, '정보공개업무편람': 1, '정보공개이의신청': 1, '사전정보공표목록': 1, '인터넷정보공개청구': 1, '행정정보소재': 1, '공공데이터': 1, '공공데이터개방': 1, '데이터의견수렴·오류신고': 1, '행정공시': 1, '학교법인임원공시': 1, '구매입찰': 1, '회계공시': 1, '경영공시': 1, '대학알리미': 1, 'ALIO경영공시': 1, '대학혁신지원사업': 2, '사업실명제': 1, '민간투자사업': 1, '개교': 1, '30주년': 5, '사업소개': 1, '위원장': 1, '인사말': 1, '기념사업': 1, '개요': 1, '엠블럼': 1, '30년': 2, '발자취': 1, '함께하는': 1, '사업소식': 1, '자료': 1, '기증': 1, 'Story': 1, 'NEWS': 1, '홍보영상물': 1, '대학홍보영상': 1, '홍보관련영상': 1, '언론보도영상': 1, '홍보대사': 1, '나래': 1, '대학소식지': 1, '대학캠퍼스투어': 1, '홍보브로셔': 1, '학부모': 1, '초청의': 1, '날': 1, '행사참여안내': 1, '행사참여신청': 1, '포토갤러리': 2, 'CoverStory': 1, '홍보소재제안': 1, '전체메뉴보기': 1, 'SEARCH': 1, '01': 1, 'Sep': 1, 'COVER': 3, 'STORY': 3, '코로나에': 1, '못': 1, '만난다고quot아바타로': 1, '회의하고': 1, '협약까지': 1, '한다quot': 1, '코로나19': 1, '사태': 1, '속에': 1, '최근': 2, '직접': 1, '만나서': 1, '회의를': 1, '하거나': 1, '행사': 1, '열기가': 1, '사실상': 1, '어렵습니다그러다보니': 1, '가상현실을': 1, '활용한': 1, '대안들이': 1, '갈수록': 1, '진화하고': 1, '있습니다': 2, '비대면': 1, '상황에서': 1, '현실과': 1, '13': 1, 'Aug': 1, '학부과별': 1, '홍보영상': 1, '공개': 1, '한국기술교육대학교의': 1, '새로운학부과': 1, '홍보': 1, '동영상이': 1, '공개되었습니다': 1, '자세한': 1, '영상과': 1, '이벤트는': 1, '공식': 1, '유튜브에서': 1, '확인하실': 1, '수': 1, '오른쪽': 1, '사진을': 1, '클릭하세요': 1, '09': 1, 'Jul': 1, '장신철': 1, '한국기술교육대': 1, '고용서비스정책학과장': 1, '“고용서비스는': 1, '기본적인': 1, '사회안전망전문인력': 1, '육성해야”': 1, '고용서비스정책학과는': 1, '고용서비스': 1, '분야의': 1, '전문인력': 1, '양성을': 1, '위해': 1, '생긴': 1, '학과다': 1, '고용서비스는': 1, '취업': 1, '재직': 1, '실직': 1, '재취업': 1, '전직': 1, '등': 1, '국민들의': 1, '일자리와': 1, '관련된': 1, '다양한': 1, '서비스를': 1, '제공한다': 1, '고': 1, '능력개발교육원': 2, '온라인평생교육원': 2, '직업능력심사평가원': 2, '산학협력단': 2, '대외협력팀': 2, '「KOREATECH': 1, '후배사랑」': 1, '모금': 1, '캠페인': 1, '20211020': 4, '취창업지원팀': 1, '우리': 1, '학교': 1, '굿즈': 2, '우리가': 1, '만들자교내': 1, '기념': 1, '창업': 1, '아이템': 1, '공모전': 1, 'IPP센터': 2, '2021학년도': 1, '동계': 1, '단기현장실습': 1, '설명회온라인': 1, '개최': 1, '근로장학생': 1, '모집': 1, '더보기': 3, '포토갤러리더보기': 1, '팝업존': 1, '재생': 1, '정지': 1, '숫자로': 1, '보는': 1, '847': 1, '전국': 1, '4년제': 1, '취업률': 2, '출처': 3, '대학정보공시': 3, '졸업생': 1, '500명': 1, '이상': 1, '1': 1, '위': 1, '중앙일보': 2, '대학평가': 1, '교육중심대학11년연속': 1, '‘19년': 1, '평가': 1, '3296': 1, '천원': 1, '장학금': 1, '수령액': 1, '2020년': 1, '기준': 1, 'Statistics': 1, '분포현황': 1, '자주찾는': 1, '서비스': 1, '학사종합서비스': 2, '온라인교육': 1, '학과안내': 1, 'SNS': 1, '페이스북': 1, 'FaceBook': 1, '한국기술교육대학교KOREATECH님이': 1, '게시한': 1, '사진': 1, '20211014': 1, 'Blog': 1, 'KOREATECH한국기술교육대학교': 1, 'Wings': 1, 'Magazine': 1, '2021년': 1, '10월호': 2, '20211015': 2, 'Instgram': 1, 'WingsMagazine': 1, 'Youtube': 1, '2021': 1, '하반기': 1, '황태현': 1, '한국기술교육대학교KOREATECH': 1, '20211018': 1, '네이버블로그': 1, '인스타그램': 1, '유튜브': 1, '디자인공학전공': 1, '건축공학전공': 1, '일반대학원': 1, '테크노인력개발전문대학원': 1, 'IT융합과학경영대학원': 1, '최고경영자과정': 1, '주요사이트': 1, '네이버': 1, '공식블로그': 1, '웹갤러리': 1, '청년워크넷': 1, '고용부': 1, '워크넷': 1, '잡코리아': 1, '사람인': 1, '인크루트': 1, '교내주요기관': 1, '다산정보관': 1, 'LINC사업단': 1, '생활협동조합': 1, '반도체': 1, '장비기술교육센터': 1, '상담진로개발센터': 1, 'IPP포털': 1, '사회봉사센터': 1, '다담창의센터': 1, 'IPP·UniTech허브사업단': 1, '창업지원센터': 1, '듀얼공동훈련센터허브사업단': 1, '대학혁신사업단': 1, '교수학습센터': 1, '도제허브사업단': 1, '국제교육센터': 1, '학생자치단체': 1, '총학생회': 1, '코리아텍방송국': 1, '생활관자치회': 1, '대외유관기관': 1, '고용노동부': 1, '산업통상자원부': 1, '기획재정부': 1, '한국산업인력공단': 1, '한국폴리텍대학': 1, '한국교육개발원': 1, '한국노동연구원': 1, '한국고용노동교육원': 1, '근로복지공단': 1, '한국산업안전보건공단': 1, '한국고용정보원': 1, '한국직업능력개발원': 1, '한국장애인고용공단': 1, '충청남도청': 1, '천안시청': 1, '국민권익위원회': 1, '교육부': 1, 'NTIS': 1, '원격훈련심사센터': 1, 'privacy': 1, '개인정보처리방침': 2, 'terms': 1, '이용약관': 1, 'tel': 1, '전화번호안내': 1, 'comeway': 1, '오시는길': 1, 'TOP': 1, '서비스메뉴': 1, '이메일무단수집거부': 1, '윤리헌장': 1, '알리오': 1, '도로명주소안내': 1, '좌측내용': 1, '우측내용': 1, '31253': 1, '충청남도': 1, '천안시': 1, '동남구': 1, '병천면': 1, '충절로': 1, '1600': 1, '가전리': 1, 'TEL': 1, '0415601114': 1, 'FAX': 1, '02': 1, 'EMAIL': 1, 'interkoreatechackr': 1, 'Copyright': 1, 'ⓒ': 1, '2019': 1, 'All': 1, 'right': 1, 'reserved': 1}\n"
     ]
    }
   ],
   "source": [
    "import requests\n",
    "\n",
    "req = requests.get('https://www.koreatech.ac.kr/kor/Main.do')\n",
    "\n",
    "source = req.text\n",
    "\n",
    "a = list(source)\n",
    "\n",
    "end = 0\n",
    "\n",
    "for i in range(len(a)): \n",
    "    if a[i] == \"<\": \n",
    "        if a[i+1:i+7] == [\"s\",\"c\",\"r\",\"i\",\"p\",\"t\"]: \n",
    "            for j in range(i,len(a)): \n",
    "                if a[j] == \"<\": \n",
    "                    if a[j+1:j+9] == [\"/\",\"s\",\"c\",\"r\",\"i\",\"p\",\"t\",\">\"]:\n",
    "                        for k in range(j,j+9):\n",
    "                            a[k] = \" \"\n",
    "                    if a[j+8] == \" \": \n",
    "                        end = -1\n",
    "                \n",
    "                if end == -1: \n",
    "                    end = 0 \n",
    "                    break \n",
    "                else: a[j] = \" \"\n",
    "                \n",
    "                \n",
    "\n",
    "for i in range(len(a)): \n",
    "    if a[i] == \"<\": \n",
    "        if a[i+1:i+6] == [\"s\",\"t\",\"y\",\"l\",\"e\"]: \n",
    "            for j in range(i,len(a)): \n",
    "                if a[j] == \"<\": \n",
    "                    if a[j+1:j+8] == [\"/\",\"s\",\"t\",\"y\",\"l\",\"e\",\">\"]: \n",
    "                        for k in range(j,j+8): \n",
    "                            a[k] = \" \"\n",
    "                    if a[j+7] == \" \":\n",
    "                        end = -1 \n",
    "                        \n",
    "                if end == -1: \n",
    "                    end = 0 \n",
    "                    break \n",
    "                else: a[j] = \" \" \n",
    "                      \n",
    "for i in range(len(a)): \n",
    "    if a[i] == \"<\": \n",
    "        a[i] = \" \"      \n",
    "        for j in range(i+1, len(a)): \n",
    "            if a[j] == \"<\": \n",
    "                for k in range(j+1, len(a)):\n",
    "                    if a[k] == \">\": \n",
    "                        a[k] = \" \" \n",
    "                        break \n",
    "                    else: a[k] = \" \" \n",
    "                        \n",
    "            if a[j] == \">\":\n",
    "                a[j] = \" \" \n",
    "                break \n",
    "            else: a[j] = \" \" \n",
    "        \n",
    "        \n",
    "mine = \"\" \n",
    "for i in range(len(a)): \n",
    "    mine += a[i] \n",
    "\n",
    "size = len(mine.split()) \n",
    "for i in range(size): \n",
    "    print(mine.split()[i], end = \" \") \n",
    "print(\"\\n총 단어의 개수 : %d\" %size)\n",
    "print(\"=\"*80)\n",
    "\n",
    "import string\n",
    "\n",
    "punc_mine = mine.split()\n",
    "for i in range(len(punc_mine)):\n",
    "    punc_mine[i] = list(punc_mine[i])\n",
    "          \n",
    "        \n",
    "for i in range(len(punc_mine)):\n",
    "    for j in range(len(punc_mine[i])):\n",
    "        if punc_mine[i][j] in string.punctuation:\n",
    "            punc_mine[i][j] = ''\n",
    "\n",
    "mine2 = \"\"\n",
    "\n",
    "for i in range(len(punc_mine)): \n",
    "    mine2 += \" \"\n",
    "    for j in range(len(punc_mine[i])):\n",
    "        mine2 += punc_mine[i][j]\n",
    "\n",
    "size2 = len(mine2.split())\n",
    "\n",
    "for i in range(size2):\n",
    "    print(mine2.split()[i], end = \" \")\n",
    "\n",
    "print(\"\\n총 단어의 개수 : %d\" %size2)\n",
    "print(\"=\"*80)\n",
    "\n",
    "dict_mine2 = {}\n",
    "\n",
    "for i in range(len(mine2.split())):\n",
    "    count = 0\n",
    "    for j in mine2.split():\n",
    "        if mine2.split()[i] == j:\n",
    "            count += 1\n",
    "    dict_mine2[mine2.split()[i]] = count\n",
    "        \n",
    "\n",
    "print(dict_mine2)"
   ]
  },
  {
   "cell_type": "code",
   "execution_count": 1,
   "id": "dbeb1ea8",
   "metadata": {
    "scrolled": true
   },
   "outputs": [
    {
     "name": "stdout",
     "output_type": "stream",
     "text": [
      "로그인 회원가입 작게 RESET 크게 페이지 인쇄 메뉴열기 메뉴닫기 학부소개 학부소개 학부연혁 입시요강 입시 주요사항 교수소개 전기전공 전자전공 정보통신전공 기술연구원 게시판 공지사항 일반자료실 공학인증 소개 전기공학심화 전자공학심화 정보통신공학심화 전기전자통신공학부 대한민국 기술리더 KOREA TECH 세계를 품다! 전기공학전공 Electrical Eng 전자공학전공 Electronics 정보통신공학전공 Information &amp; Communication Eng fnctId=recentBbs,fnctNo=108 공지사항 NOTICE 차세대융합기술연구원 위촉연구원 채용공고 제2021-15 새글 작성일 2021.10.20 ［ICN Group］ 산업인력공단 국비지원 미국 품질공 작성일 2021.10.13 2021반도체산업 온라인 채용박람회 참가인재 모집（~1 작성일 2021.10.13 화천기공（주) 사원채용 채용공고 작성일 2021.10.06 ［（주)케이티지］ 특허 선행기술조사 전문연구원 모집공고 작성일 2021.09.28 더보기 배너존 팝업존 fnctId=recentBbs,fnctNo=106 JW_rctBbs_list 새글 차세대융합기술연구원 위촉연구원 채용공고 제2021-15호 작성일 2021.10.20 ［ICN Group］ 산업인력공단 국비지원 미국 품질공정관리 엔지니어 양성과정 안내 작성일 2021.10.13 2021반도체산업 온라인 채용박람회 참가인재 모집（~10/17일까지 접수) 작성일 2021.10.13 화천기공（주) 사원채용 채용공고 작성일 2021.10.06 더보기 학기근로 봉사 상황보고서/근무일지 양식 작성일 2019.11.19 유고결석원 양식 작성일 2019.08.05 일반휴학원 양식 작성일 2019.08.05 무료직업능력특화교육 작성일 2018.01.17 더보기 fnctId=imageSlide,fnctNo=82 fnctId=imageSlide,fnctNo=83 학부소개 교수소개 한국기술교육대학교 아우누리 게시판 자료실 학과 상담 전화 번호 041-560-1292~3 바로가기 개인정보처리방침 학부소개 WEBMAIL SITE MAP 화면상단으로 [31253] 충청남도 천안시 동남구 병천면 충절로 1600 (가전리,한국기술교육대학교) 대표전화 : 041-560-1292~3 FAX.041-564-3261 Copyrightⓒ 2016 한국기술교육대학교 전기전자통신공학부 All Rights Reserved. 관련사이트 관련사이트를 선택하세요 한국기술교육대학교 이동 \n",
      "총 단어의 개수 : 181\n",
      "================================================================================\n",
      "로그인 회원가입 작게 RESET 크게 페이지 인쇄 메뉴열기 메뉴닫기 학부소개 학부소개 학부연혁 입시요강 입시 주요사항 교수소개 전기전공 전자전공 정보통신전공 기술연구원 게시판 공지사항 일반자료실 공학인증 소개 전기공학심화 전자공학심화 정보통신공학심화 전기전자통신공학부 대한민국 기술리더 KOREA TECH 세계를 품다 전기공학전공 Electrical Eng 전자공학전공 Electronics 정보통신공학전공 Information amp Communication Eng fnctIdrecentBbsfnctNo108 공지사항 NOTICE 차세대융합기술연구원 위촉연구원 채용공고 제202115 새글 작성일 20211020 ［ICN Group］ 산업인력공단 국비지원 미국 품질공 작성일 20211013 2021반도체산업 온라인 채용박람회 참가인재 모집（1 작성일 20211013 화천기공（주 사원채용 채용공고 작성일 20211006 ［（주케이티지］ 특허 선행기술조사 전문연구원 모집공고 작성일 20210928 더보기 배너존 팝업존 fnctIdrecentBbsfnctNo106 JWrctBbslist 새글 차세대융합기술연구원 위촉연구원 채용공고 제202115호 작성일 20211020 ［ICN Group］ 산업인력공단 국비지원 미국 품질공정관리 엔지니어 양성과정 안내 작성일 20211013 2021반도체산업 온라인 채용박람회 참가인재 모집（1017일까지 접수 작성일 20211013 화천기공（주 사원채용 채용공고 작성일 20211006 더보기 학기근로 봉사 상황보고서근무일지 양식 작성일 20191119 유고결석원 양식 작성일 20190805 일반휴학원 양식 작성일 20190805 무료직업능력특화교육 작성일 20180117 더보기 fnctIdimageSlidefnctNo82 fnctIdimageSlidefnctNo83 학부소개 교수소개 한국기술교육대학교 아우누리 게시판 자료실 학과 상담 전화 번호 04156012923 바로가기 개인정보처리방침 학부소개 WEBMAIL SITE MAP 화면상단으로 31253 충청남도 천안시 동남구 병천면 충절로 1600 가전리한국기술교육대학교 대표전화 04156012923 FAX0415643261 Copyrightⓒ 2016 한국기술교육대학교 전기전자통신공학부 All Rights Reserved 관련사이트 관련사이트를 선택하세요 한국기술교육대학교 이동 \n",
      "총 단어의 개수 : 180\n",
      "================================================================================\n",
      "{'로그인': 1, '회원가입': 1, '작게': 1, 'RESET': 1, '크게': 1, '페이지': 1, '인쇄': 1, '메뉴열기': 1, '메뉴닫기': 1, '학부소개': 4, '학부연혁': 1, '입시요강': 1, '입시': 1, '주요사항': 1, '교수소개': 2, '전기전공': 1, '전자전공': 1, '정보통신전공': 1, '기술연구원': 1, '게시판': 2, '공지사항': 2, '일반자료실': 1, '공학인증': 1, '소개': 1, '전기공학심화': 1, '전자공학심화': 1, '정보통신공학심화': 1, '전기전자통신공학부': 2, '대한민국': 1, '기술리더': 1, 'KOREA': 1, 'TECH': 1, '세계를': 1, '품다': 1, '전기공학전공': 1, 'Electrical': 1, 'Eng': 2, '전자공학전공': 1, 'Electronics': 1, '정보통신공학전공': 1, 'Information': 1, 'amp': 1, 'Communication': 1, 'fnctIdrecentBbsfnctNo108': 1, 'NOTICE': 1, '차세대융합기술연구원': 2, '위촉연구원': 2, '채용공고': 4, '제202115': 1, '새글': 2, '작성일': 13, '20211020': 2, '［ICN': 2, 'Group］': 2, '산업인력공단': 2, '국비지원': 2, '미국': 2, '품질공': 1, '20211013': 4, '2021반도체산업': 2, '온라인': 2, '채용박람회': 2, '참가인재': 2, '모집（1': 1, '화천기공（주': 2, '사원채용': 2, '20211006': 2, '［（주케이티지］': 1, '특허': 1, '선행기술조사': 1, '전문연구원': 1, '모집공고': 1, '20210928': 1, '더보기': 3, '배너존': 1, '팝업존': 1, 'fnctIdrecentBbsfnctNo106': 1, 'JWrctBbslist': 1, '제202115호': 1, '품질공정관리': 1, '엔지니어': 1, '양성과정': 1, '안내': 1, '모집（1017일까지': 1, '접수': 1, '학기근로': 1, '봉사': 1, '상황보고서근무일지': 1, '양식': 3, '20191119': 1, '유고결석원': 1, '20190805': 2, '일반휴학원': 1, '무료직업능력특화교육': 1, '20180117': 1, 'fnctIdimageSlidefnctNo82': 1, 'fnctIdimageSlidefnctNo83': 1, '한국기술교육대학교': 3, '아우누리': 1, '자료실': 1, '학과': 1, '상담': 1, '전화': 1, '번호': 1, '04156012923': 2, '바로가기': 1, '개인정보처리방침': 1, 'WEBMAIL': 1, 'SITE': 1, 'MAP': 1, '화면상단으로': 1, '31253': 1, '충청남도': 1, '천안시': 1, '동남구': 1, '병천면': 1, '충절로': 1, '1600': 1, '가전리한국기술교육대학교': 1, '대표전화': 1, 'FAX0415643261': 1, 'Copyrightⓒ': 1, '2016': 1, 'All': 1, 'Rights': 1, 'Reserved': 1, '관련사이트': 1, '관련사이트를': 1, '선택하세요': 1, '이동': 1}\n"
     ]
    }
   ],
   "source": [
    "import requests\n",
    "\n",
    "req = requests.get('https://cms3.koreatech.ac.kr/ite/index.do?sso=ok')\n",
    "\n",
    "source = req.text\n",
    "\n",
    "a = list(source)\n",
    "\n",
    "end = 0\n",
    "\n",
    "for i in range(len(a)): \n",
    "    if a[i] == \"<\": \n",
    "        if a[i+1:i+7] == [\"s\",\"c\",\"r\",\"i\",\"p\",\"t\"]: \n",
    "            for j in range(i,len(a)): \n",
    "                if a[j] == \"<\": \n",
    "                    if a[j+1:j+9] == [\"/\",\"s\",\"c\",\"r\",\"i\",\"p\",\"t\",\">\"]:\n",
    "                        for k in range(j,j+9):\n",
    "                            a[k] = \" \"\n",
    "                    if a[j+8] == \" \": \n",
    "                        end = -1\n",
    "                \n",
    "                if end == -1: \n",
    "                    end = 0 \n",
    "                    break \n",
    "                else: a[j] = \" \"\n",
    "                \n",
    "                \n",
    "\n",
    "for i in range(len(a)): \n",
    "    if a[i] == \"<\": \n",
    "        if a[i+1:i+6] == [\"s\",\"t\",\"y\",\"l\",\"e\"]: \n",
    "            for j in range(i,len(a)): \n",
    "                if a[j] == \"<\": \n",
    "                    if a[j+1:j+8] == [\"/\",\"s\",\"t\",\"y\",\"l\",\"e\",\">\"]: \n",
    "                        for k in range(j,j+8): \n",
    "                            a[k] = \" \"\n",
    "                    if a[j+7] == \" \":\n",
    "                        end = -1 \n",
    "                        \n",
    "                if end == -1: \n",
    "                    end = 0 \n",
    "                    break \n",
    "                else: a[j] = \" \" \n",
    "                      \n",
    "for i in range(len(a)): \n",
    "    if a[i] == \"<\": \n",
    "        a[i] = \" \"      \n",
    "        for j in range(i+1, len(a)): \n",
    "            if a[j] == \"<\": \n",
    "                for k in range(j+1, len(a)):\n",
    "                    if a[k] == \">\": \n",
    "                        a[k] = \" \" \n",
    "                        break \n",
    "                    else: a[k] = \" \" \n",
    "                        \n",
    "            if a[j] == \">\":\n",
    "                a[j] = \" \" \n",
    "                break \n",
    "            else: a[j] = \" \" \n",
    "        \n",
    "        \n",
    "mine = \"\" \n",
    "for i in range(len(a)): \n",
    "    mine += a[i] \n",
    "\n",
    "size = len(mine.split()) \n",
    "for i in range(size): \n",
    "    print(mine.split()[i], end = \" \") \n",
    "print(\"\\n총 단어의 개수 : %d\" %size)\n",
    "print(\"=\"*80)\n",
    "\n",
    "import string\n",
    "\n",
    "punc_mine = mine.split()\n",
    "for i in range(len(punc_mine)):\n",
    "    punc_mine[i] = list(punc_mine[i])\n",
    "          \n",
    "        \n",
    "for i in range(len(punc_mine)):\n",
    "    for j in range(len(punc_mine[i])):\n",
    "        if punc_mine[i][j] in string.punctuation:\n",
    "            punc_mine[i][j] = ''\n",
    "\n",
    "mine2 = \"\"\n",
    "\n",
    "for i in range(len(punc_mine)): \n",
    "    mine2 += \" \"\n",
    "    for j in range(len(punc_mine[i])):\n",
    "        mine2 += punc_mine[i][j]\n",
    "\n",
    "size2 = len(mine2.split())\n",
    "\n",
    "for i in range(size2):\n",
    "    print(mine2.split()[i], end = \" \")\n",
    "\n",
    "print(\"\\n총 단어의 개수 : %d\" %size2)\n",
    "print(\"=\"*80)\n",
    "\n",
    "dict_mine2 = {}\n",
    "\n",
    "for i in range(len(mine2.split())):\n",
    "    count = 0\n",
    "    for j in range(len(mine2.split())):\n",
    "        if mine2.split()[i] == mine2.split()[j]:\n",
    "            count += 1\n",
    "    dict_mine2[mine2.split()[i]] = count\n",
    "        \n",
    "\n",
    "print(dict_mine2)"
   ]
  },
  {
   "cell_type": "code",
   "execution_count": 3,
   "id": "27bbf0d9",
   "metadata": {
    "scrolled": true
   },
   "outputs": [
    {
     "name": "stdout",
     "output_type": "stream",
     "text": [
      "메인화면 작게 RESET 크게 페이지 인쇄 메뉴열기 메뉴닫기 학부소개 학부소개 학부장 인사말 홍보자료 교직원 생산시스템 전공 제어시스템 전공 디지털시스템 전공 기술연구원 직원 공학인증 소개 생산시스템 공학심화 제어시스템 공학심화 디지털시스템 공학심화 공지사항 일반공지 강의공지 장학공지 취업공지 양식함 강의자료 생산시스템 전공 제어시스템 전공 디지털시스템 전공 기타공학 자료 커뮤니티 자유게시판 사진첩 fnctId=imageSlide,fnctNo=81 비쥬얼존( 2 개) 강한대학 착한대학 코리아텍 한국기술교육대학교 메카트로닉스공학부 학부소개 메카트로닉스공학부를 소개합니다 공학인증소개 순환적 자율 개선형 교육 모델의 도입 게시판 다양한 공지 및 각종 양식이 있습니다. 강의자료 생산시스템, 제어시스템, 디지털 시스템 fnctId=imageSlide,fnctNo=79 이벤트존 fnctId=recentBbs,fnctNo=102 메카트로닉스공학과 박진형교수 ASD Lab. 대학원 신입생 모집 새글 ASD 연구실은 전문 연구 환경에서의 연구 중심의 연구실로 다양한 프로젝트와 논문으로 인정 작성일 2021.10.14 졸업작품 설치 및 전시회 안내 새글 ▣ 졸업작품 이동설치 작품별 설치 부스를 첨부파일과 같이 안내하오니 아래 일정에 따라 반 작성일 2021.10.08 졸업연구작품 전시회 참가자 코로나 문진 관련 안내 새글 졸업연구작품 전시회 참가자 코로나 검진 관련 안내드립니다. ▣ 대상 : 졸업연구작품 전시회 작성일 2021.10.08 더보기 21-2학기 장영철교수님 창의적공학설계교과（3분반) 수강신청정정 관련 안녕하십니까, 메카트로닉스공학부 학부사무실입니다. 21-2학기 개설교과 중 장영철교수님 작성일 2021.08.30 21학년도 2학기 메카 시간표（정정기간 용) 메카트로닉스공학부 기술연구원 이민호입니다. 첨부의 시간표를 참조하여 정정기간에 활용하시기 작성일 2021.08.29 21학년도 2학기 메카트로닉스 시간표 안녕하십니까, 메카트로닉스 학부사무실입니다. 붙임과 같이 21학년도 2학기 메카트로닉스 시 작성일 2021.08.03 더보기 fnctId=imageSlide,fnctNo=80 /WEB-INF/jsp/fnct/imageSlide/skin062/view.jsp 배너존( 6 개) 바로가기 개인정보처리방침 학부소개 웹메일 사이트맵 화면상단으로 관련사이트 관련사이트를 선택하세요 한국기술교육대학교 이동 [31253] 충청남도 천안시 동남구 병천면 충절로 1600 (가전리,한국기술교육대학교) 대표전화 : 041.560.1376~7 FAX.041.560.1360 Copyrightⓒ 2016 한국기술교육대학교 메카트로닉스공학부 All Rights Reserved. \n",
      "총 단어의 개수 : 228\n",
      "================================================================================\n",
      "메인화면 작게 RESET 크게 페이지 인쇄 메뉴열기 메뉴닫기 학부소개 학부소개 학부장 인사말 홍보자료 교직원 생산시스템 전공 제어시스템 전공 디지털시스템 전공 기술연구원 직원 공학인증 소개 생산시스템 공학심화 제어시스템 공학심화 디지털시스템 공학심화 공지사항 일반공지 강의공지 장학공지 취업공지 양식함 강의자료 생산시스템 전공 제어시스템 전공 디지털시스템 전공 기타공학 자료 커뮤니티 자유게시판 사진첩 fnctIdimageSlidefnctNo81 비쥬얼존 2 개 강한대학 착한대학 코리아텍 한국기술교육대학교 메카트로닉스공학부 학부소개 메카트로닉스공학부를 소개합니다 공학인증소개 순환적 자율 개선형 교육 모델의 도입 게시판 다양한 공지 및 각종 양식이 있습니다 강의자료 생산시스템 제어시스템 디지털 시스템 fnctIdimageSlidefnctNo79 이벤트존 fnctIdrecentBbsfnctNo102 메카트로닉스공학과 박진형교수 ASD Lab 대학원 신입생 모집 새글 ASD 연구실은 전문 연구 환경에서의 연구 중심의 연구실로 다양한 프로젝트와 논문으로 인정 작성일 20211014 졸업작품 설치 및 전시회 안내 새글 ▣ 졸업작품 이동설치 작품별 설치 부스를 첨부파일과 같이 안내하오니 아래 일정에 따라 반 작성일 20211008 졸업연구작품 전시회 참가자 코로나 문진 관련 안내 새글 졸업연구작품 전시회 참가자 코로나 검진 관련 안내드립니다 ▣ 대상 졸업연구작품 전시회 작성일 20211008 더보기 212학기 장영철교수님 창의적공학설계교과（3분반 수강신청정정 관련 안녕하십니까 메카트로닉스공학부 학부사무실입니다 212학기 개설교과 중 장영철교수님 작성일 20210830 21학년도 2학기 메카 시간표（정정기간 용 메카트로닉스공학부 기술연구원 이민호입니다 첨부의 시간표를 참조하여 정정기간에 활용하시기 작성일 20210829 21학년도 2학기 메카트로닉스 시간표 안녕하십니까 메카트로닉스 학부사무실입니다 붙임과 같이 21학년도 2학기 메카트로닉스 시 작성일 20210803 더보기 fnctIdimageSlidefnctNo80 WEBINFjspfnctimageSlideskin062viewjsp 배너존 6 개 바로가기 개인정보처리방침 학부소개 웹메일 사이트맵 화면상단으로 관련사이트 관련사이트를 선택하세요 한국기술교육대학교 이동 31253 충청남도 천안시 동남구 병천면 충절로 1600 가전리한국기술교육대학교 대표전화 04156013767 FAX0415601360 Copyrightⓒ 2016 한국기술교육대학교 메카트로닉스공학부 All Rights Reserved \n",
      "총 단어의 개수 : 226\n",
      "================================================================================\n",
      "{'메인화면': 1, '작게': 1, 'RESET': 1, '크게': 1, '페이지': 1, '인쇄': 1, '메뉴열기': 1, '메뉴닫기': 1, '학부소개': 4, '학부장': 1, '인사말': 1, '홍보자료': 1, '교직원': 1, '생산시스템': 4, '전공': 6, '제어시스템': 4, '디지털시스템': 3, '기술연구원': 2, '직원': 1, '공학인증': 1, '소개': 1, '공학심화': 3, '공지사항': 1, '일반공지': 1, '강의공지': 1, '장학공지': 1, '취업공지': 1, '양식함': 1, '강의자료': 2, '기타공학': 1, '자료': 1, '커뮤니티': 1, '자유게시판': 1, '사진첩': 1, 'fnctIdimageSlidefnctNo81': 1, '비쥬얼존': 1, '2': 1, '개': 2, '강한대학': 1, '착한대학': 1, '코리아텍': 1, '한국기술교육대학교': 3, '메카트로닉스공학부': 4, '메카트로닉스공학부를': 1, '소개합니다': 1, '공학인증소개': 1, '순환적': 1, '자율': 1, '개선형': 1, '교육': 1, '모델의': 1, '도입': 1, '게시판': 1, '다양한': 2, '공지': 1, '및': 2, '각종': 1, '양식이': 1, '있습니다': 1, '디지털': 1, '시스템': 1, 'fnctIdimageSlidefnctNo79': 1, '이벤트존': 1, 'fnctIdrecentBbsfnctNo102': 1, '메카트로닉스공학과': 1, '박진형교수': 1, 'ASD': 2, 'Lab': 1, '대학원': 1, '신입생': 1, '모집': 1, '새글': 3, '연구실은': 1, '전문': 1, '연구': 2, '환경에서의': 1, '중심의': 1, '연구실로': 1, '프로젝트와': 1, '논문으로': 1, '인정': 1, '작성일': 6, '20211014': 1, '졸업작품': 2, '설치': 2, '전시회': 4, '안내': 2, '▣': 2, '이동설치': 1, '작품별': 1, '부스를': 1, '첨부파일과': 1, '같이': 2, '안내하오니': 1, '아래': 1, '일정에': 1, '따라': 1, '반': 1, '20211008': 2, '졸업연구작품': 3, '참가자': 2, '코로나': 2, '문진': 1, '관련': 3, '검진': 1, '안내드립니다': 1, '대상': 1, '더보기': 2, '212학기': 2, '장영철교수님': 2, '창의적공학설계교과（3분반': 1, '수강신청정정': 1, '안녕하십니까': 2, '학부사무실입니다': 2, '개설교과': 1, '중': 1, '20210830': 1, '21학년도': 3, '2학기': 3, '메카': 1, '시간표（정정기간': 1, '용': 1, '이민호입니다': 1, '첨부의': 1, '시간표를': 1, '참조하여': 1, '정정기간에': 1, '활용하시기': 1, '20210829': 1, '메카트로닉스': 3, '시간표': 1, '붙임과': 1, '시': 1, '20210803': 1, 'fnctIdimageSlidefnctNo80': 1, 'WEBINFjspfnctimageSlideskin062viewjsp': 1, '배너존': 1, '6': 1, '바로가기': 1, '개인정보처리방침': 1, '웹메일': 1, '사이트맵': 1, '화면상단으로': 1, '관련사이트': 1, '관련사이트를': 1, '선택하세요': 1, '이동': 1, '31253': 1, '충청남도': 1, '천안시': 1, '동남구': 1, '병천면': 1, '충절로': 1, '1600': 1, '가전리한국기술교육대학교': 1, '대표전화': 1, '04156013767': 1, 'FAX0415601360': 1, 'Copyrightⓒ': 1, '2016': 1, 'All': 1, 'Rights': 1, 'Reserved': 1}\n"
     ]
    }
   ],
   "source": [
    "import requests\n",
    "\n",
    "req = requests.get('https://cms3.koreatech.ac.kr/mechatronics/index.do?sso=ok')\n",
    "\n",
    "source = req.text\n",
    "\n",
    "a = list(source)\n",
    "\n",
    "end = 0\n",
    "\n",
    "for i in range(len(a)): \n",
    "    if a[i] == \"<\": \n",
    "        if a[i+1:i+7] == [\"s\",\"c\",\"r\",\"i\",\"p\",\"t\"]: \n",
    "            for j in range(i,len(a)): \n",
    "                if a[j] == \"<\": \n",
    "                    if a[j+1:j+9] == [\"/\",\"s\",\"c\",\"r\",\"i\",\"p\",\"t\",\">\"]:\n",
    "                        for k in range(j,j+9):\n",
    "                            a[k] = \" \"\n",
    "                    if a[j+8] == \" \": \n",
    "                        end = -1\n",
    "                \n",
    "                if end == -1: \n",
    "                    end = 0 \n",
    "                    break \n",
    "                else: a[j] = \" \"\n",
    "                \n",
    "                \n",
    "\n",
    "for i in range(len(a)): \n",
    "    if a[i] == \"<\": \n",
    "        if a[i+1:i+6] == [\"s\",\"t\",\"y\",\"l\",\"e\"]: \n",
    "            for j in range(i,len(a)): \n",
    "                if a[j] == \"<\": \n",
    "                    if a[j+1:j+8] == [\"/\",\"s\",\"t\",\"y\",\"l\",\"e\",\">\"]: \n",
    "                        for k in range(j,j+8): \n",
    "                            a[k] = \" \"\n",
    "                    if a[j+7] == \" \":\n",
    "                        end = -1 \n",
    "                        \n",
    "                if end == -1: \n",
    "                    end = 0 \n",
    "                    break \n",
    "                else: a[j] = \" \" \n",
    "                      \n",
    "for i in range(len(a)): \n",
    "    if a[i] == \"<\": \n",
    "        a[i] = \" \"      \n",
    "        for j in range(i+1, len(a)): \n",
    "            if a[j] == \"<\": \n",
    "                for k in range(j+1, len(a)):\n",
    "                    if a[k] == \">\": \n",
    "                        a[k] = \" \" \n",
    "                        break \n",
    "                    else: a[k] = \" \" \n",
    "                        \n",
    "            if a[j] == \">\":\n",
    "                a[j] = \" \" \n",
    "                break \n",
    "            else: a[j] = \" \" \n",
    "        \n",
    "        \n",
    "mine = \"\" \n",
    "for i in range(len(a)): \n",
    "    mine += a[i] \n",
    "\n",
    "size = len(mine.split()) \n",
    "for i in range(size): \n",
    "    print(mine.split()[i], end = \" \") \n",
    "print(\"\\n총 단어의 개수 : %d\" %size)\n",
    "print(\"=\"*80)\n",
    "\n",
    "import string\n",
    "\n",
    "punc_mine = mine.split()\n",
    "for i in range(len(punc_mine)):\n",
    "    punc_mine[i] = list(punc_mine[i])\n",
    "          \n",
    "        \n",
    "for i in range(len(punc_mine)):\n",
    "    for j in range(len(punc_mine[i])):\n",
    "        if punc_mine[i][j] in string.punctuation:\n",
    "            punc_mine[i][j] = ''\n",
    "\n",
    "mine2 = \"\"\n",
    "\n",
    "for i in range(len(punc_mine)): \n",
    "    mine2 += \" \"\n",
    "    for j in range(len(punc_mine[i])):\n",
    "        mine2 += punc_mine[i][j]\n",
    "\n",
    "size2 = len(mine2.split())\n",
    "\n",
    "for i in range(size2):\n",
    "    print(mine2.split()[i], end = \" \")\n",
    "\n",
    "print(\"\\n총 단어의 개수 : %d\" %size2)\n",
    "print(\"=\"*80)\n",
    "\n",
    "dict_mine2 = {}\n",
    "\n",
    "for i in range(len(mine2.split())):\n",
    "    count = 0\n",
    "    for j in range(len(mine2.split())):\n",
    "        if mine2.split()[i] == mine2.split()[j]:\n",
    "            count += 1\n",
    "    dict_mine2[mine2.split()[i]] = count\n",
    "        \n",
    "\n",
    "print(dict_mine2)"
   ]
  },
  {
   "cell_type": "code",
   "execution_count": 6,
   "id": "5b9180a8",
   "metadata": {
    "scrolled": true
   },
   "outputs": [
    {
     "name": "stdout",
     "output_type": "stream",
     "text": [
      "작게 RESET 크게 페이지 인쇄 메뉴열기 메뉴닫기 학부소개 학부비전 학부소개 전공소개 졸업후진로 Emblem 교육과정 교육내용 교과목소개 교수소개 교수 대외평가 2018년도 2016년도 공지사항 일반공지 학생회소식 공지사항 학생생활 산업경영학부 대한민국 기술리더 KOREA TECH 세계를 품다! 입학안내 ADMISSION 교수소개 ABOUT FACULTY 오시는 길 CAMPUSMAP 학부소개 학부특징 팝업존 공지사항 배너존 fnctId=recentBbs,fnctNo=164 JW_rctBbs_list 새글 [수업-학사] 21년도 2학기 8주차 이후 수업 운영（집중주간 대면수업) 알림 작성일 2021.10.05 [취업정보] 중소기업기술정보진흥원 / 한국원자력통제기술원 채용공고 작성일 2021.09.28 ［대학혁신사업단］ 제2차 프로그래밍 경시대회 참여학생 모집 작성일 2021.09.24 [취업정보] ［채용］ 뷰웍스 신입사원 공개채용 작성일 2021.09.03 [취업정보] ［프로그램］ 산경인을 위한 직무부트캠프 （재) 작성일 2021.09.03 더보기 fnctId=imageSlide,fnctNo=124 fnctId=imageSlide,fnctNo=125 교수진 소개 학부비전 대외평가 오시는 길 학부 상담 전화 번호 041-560-1437~8 바로가기 대학/대학원 대학/대학원 기계공학부 메카트로닉스공학부 전기전자통신공학부 컴퓨터공학부 디자인공학과 건축공학부 에너지신소재화학공학부 산업경영학부 교양학부 메카IT융합공학과 일학습병행학부 기전융합공학과 일반대학원 테크노인력개발전문대학원 IT융합과학경영대학원 최고경영자과정 이동 주요사이트 주요사이트 다음 공식카페 학사종합서비스 온라인교육지원 웹갤러리 동문홈페이지 웹메일 고용부 잡영 고용부 워크넷 잡코리아 사람인 인크루트 이동 교내주요기관 교내주요기관 고용노동연수원 능력개발교육원 직업능력심사평가원 다산정보관 창조인재교육개발단 산학협력단 LINC사업단 생활협동조합 생활관 국제교육센터 공학교육혁신센터 MOT사업단 반도체장비교육센터 개도국기술이전연구소 HRD센터 상담진로개발센터 IPP센터 PSM사업단 CIGMA CENTER 온라인평생교육원 이동 학생자치단체 학생자치단체 총학생회 총여학생회 총동아리연합회 한기대방송국 한기대신문사 교지편집위원회 생활관자치회 전국대학생하이브리드자동차경진대회 졸준위-08 졸준위-07 이동 대외유관기관 대외유관기관 고용노동부 산업통상자원부 기획재정부 한국산업인력공단 한국폴리텍대학 한국교육개발원 한국노동연구원 근로복지공단 한국산업안전보건공단 한국고용정보원 한국직업능력개발원 장애인고용공단 충청남도청 천안시청 국민권익위원회 교과부 NTIS 원격훈련심사센터 이동 Footer link Footer link 개인정보처리방침 이메일무단수집거부 윤리헌장 행정서비스헌장 알리오 대학알리미 대학정보공시 도로명주소안내 이동 화면상단으로 개인정보처리방침 [31253] 충청남도 천안시 동남구 병천면 충절로 1600 (가전리,한국기술교육대학교) 대표전화 : 041.560.1437 FAX.041.560.1439 Copyrightⓒ 2016 한국기술교육대학교 산업경영학부 All Rights Reserved. \n",
      "총 단어의 개수 : 233\n",
      "================================================================================\n",
      "작게 RESET 크게 페이지 인쇄 메뉴열기 메뉴닫기 학부소개 학부비전 학부소개 전공소개 졸업후진로 Emblem 교육과정 교육내용 교과목소개 교수소개 교수 대외평가 2018년도 2016년도 공지사항 일반공지 학생회소식 공지사항 학생생활 산업경영학부 대한민국 기술리더 KOREA TECH 세계를 품다 입학안내 ADMISSION 교수소개 ABOUT FACULTY 오시는 길 CAMPUSMAP 학부소개 학부특징 팝업존 공지사항 배너존 fnctIdrecentBbsfnctNo164 JWrctBbslist 새글 수업학사 21년도 2학기 8주차 이후 수업 운영（집중주간 대면수업 알림 작성일 20211005 취업정보 중소기업기술정보진흥원 한국원자력통제기술원 채용공고 작성일 20210928 ［대학혁신사업단］ 제2차 프로그래밍 경시대회 참여학생 모집 작성일 20210924 취업정보 ［채용］ 뷰웍스 신입사원 공개채용 작성일 20210903 취업정보 ［프로그램］ 산경인을 위한 직무부트캠프 （재 작성일 20210903 더보기 fnctIdimageSlidefnctNo124 fnctIdimageSlidefnctNo125 교수진 소개 학부비전 대외평가 오시는 길 학부 상담 전화 번호 04156014378 바로가기 대학대학원 대학대학원 기계공학부 메카트로닉스공학부 전기전자통신공학부 컴퓨터공학부 디자인공학과 건축공학부 에너지신소재화학공학부 산업경영학부 교양학부 메카IT융합공학과 일학습병행학부 기전융합공학과 일반대학원 테크노인력개발전문대학원 IT융합과학경영대학원 최고경영자과정 이동 주요사이트 주요사이트 다음 공식카페 학사종합서비스 온라인교육지원 웹갤러리 동문홈페이지 웹메일 고용부 잡영 고용부 워크넷 잡코리아 사람인 인크루트 이동 교내주요기관 교내주요기관 고용노동연수원 능력개발교육원 직업능력심사평가원 다산정보관 창조인재교육개발단 산학협력단 LINC사업단 생활협동조합 생활관 국제교육센터 공학교육혁신센터 MOT사업단 반도체장비교육센터 개도국기술이전연구소 HRD센터 상담진로개발센터 IPP센터 PSM사업단 CIGMA CENTER 온라인평생교육원 이동 학생자치단체 학생자치단체 총학생회 총여학생회 총동아리연합회 한기대방송국 한기대신문사 교지편집위원회 생활관자치회 전국대학생하이브리드자동차경진대회 졸준위08 졸준위07 이동 대외유관기관 대외유관기관 고용노동부 산업통상자원부 기획재정부 한국산업인력공단 한국폴리텍대학 한국교육개발원 한국노동연구원 근로복지공단 한국산업안전보건공단 한국고용정보원 한국직업능력개발원 장애인고용공단 충청남도청 천안시청 국민권익위원회 교과부 NTIS 원격훈련심사센터 이동 Footer link Footer link 개인정보처리방침 이메일무단수집거부 윤리헌장 행정서비스헌장 알리오 대학알리미 대학정보공시 도로명주소안내 이동 화면상단으로 개인정보처리방침 31253 충청남도 천안시 동남구 병천면 충절로 1600 가전리한국기술교육대학교 대표전화 0415601437 FAX0415601439 Copyrightⓒ 2016 한국기술교육대학교 산업경영학부 All Rights Reserved \n",
      "총 단어의 개수 : 231\n",
      "================================================================================\n",
      "{'작게': 1, 'RESET': 1, '크게': 1, '페이지': 1, '인쇄': 1, '메뉴열기': 1, '메뉴닫기': 1, '학부소개': 3, '학부비전': 2, '전공소개': 1, '졸업후진로': 1, 'Emblem': 1, '교육과정': 1, '교육내용': 1, '교과목소개': 1, '교수소개': 2, '교수': 1, '대외평가': 2, '2018년도': 1, '2016년도': 1, '공지사항': 3, '일반공지': 1, '학생회소식': 1, '학생생활': 1, '산업경영학부': 3, '대한민국': 1, '기술리더': 1, 'KOREA': 1, 'TECH': 1, '세계를': 1, '품다': 1, '입학안내': 1, 'ADMISSION': 1, 'ABOUT': 1, 'FACULTY': 1, '오시는': 2, '길': 2, 'CAMPUSMAP': 1, '학부특징': 1, '팝업존': 1, '배너존': 1, 'fnctIdrecentBbsfnctNo164': 1, 'JWrctBbslist': 1, '새글': 1, '수업학사': 1, '21년도': 1, '2학기': 1, '8주차': 1, '이후': 1, '수업': 1, '운영（집중주간': 1, '대면수업': 1, '알림': 1, '작성일': 5, '20211005': 1, '취업정보': 3, '중소기업기술정보진흥원': 1, '한국원자력통제기술원': 1, '채용공고': 1, '20210928': 1, '［대학혁신사업단］': 1, '제2차': 1, '프로그래밍': 1, '경시대회': 1, '참여학생': 1, '모집': 1, '20210924': 1, '［채용］': 1, '뷰웍스': 1, '신입사원': 1, '공개채용': 1, '20210903': 2, '［프로그램］': 1, '산경인을': 1, '위한': 1, '직무부트캠프': 1, '（재': 1, '더보기': 1, 'fnctIdimageSlidefnctNo124': 1, 'fnctIdimageSlidefnctNo125': 1, '교수진': 1, '소개': 1, '학부': 1, '상담': 1, '전화': 1, '번호': 1, '04156014378': 1, '바로가기': 1, '대학대학원': 2, '기계공학부': 1, '메카트로닉스공학부': 1, '전기전자통신공학부': 1, '컴퓨터공학부': 1, '디자인공학과': 1, '건축공학부': 1, '에너지신소재화학공학부': 1, '교양학부': 1, '메카IT융합공학과': 1, '일학습병행학부': 1, '기전융합공학과': 1, '일반대학원': 1, '테크노인력개발전문대학원': 1, 'IT융합과학경영대학원': 1, '최고경영자과정': 1, '이동': 6, '주요사이트': 2, '다음': 1, '공식카페': 1, '학사종합서비스': 1, '온라인교육지원': 1, '웹갤러리': 1, '동문홈페이지': 1, '웹메일': 1, '고용부': 2, '잡영': 1, '워크넷': 1, '잡코리아': 1, '사람인': 1, '인크루트': 1, '교내주요기관': 2, '고용노동연수원': 1, '능력개발교육원': 1, '직업능력심사평가원': 1, '다산정보관': 1, '창조인재교육개발단': 1, '산학협력단': 1, 'LINC사업단': 1, '생활협동조합': 1, '생활관': 1, '국제교육센터': 1, '공학교육혁신센터': 1, 'MOT사업단': 1, '반도체장비교육센터': 1, '개도국기술이전연구소': 1, 'HRD센터': 1, '상담진로개발센터': 1, 'IPP센터': 1, 'PSM사업단': 1, 'CIGMA': 1, 'CENTER': 1, '온라인평생교육원': 1, '학생자치단체': 2, '총학생회': 1, '총여학생회': 1, '총동아리연합회': 1, '한기대방송국': 1, '한기대신문사': 1, '교지편집위원회': 1, '생활관자치회': 1, '전국대학생하이브리드자동차경진대회': 1, '졸준위08': 1, '졸준위07': 1, '대외유관기관': 2, '고용노동부': 1, '산업통상자원부': 1, '기획재정부': 1, '한국산업인력공단': 1, '한국폴리텍대학': 1, '한국교육개발원': 1, '한국노동연구원': 1, '근로복지공단': 1, '한국산업안전보건공단': 1, '한국고용정보원': 1, '한국직업능력개발원': 1, '장애인고용공단': 1, '충청남도청': 1, '천안시청': 1, '국민권익위원회': 1, '교과부': 1, 'NTIS': 1, '원격훈련심사센터': 1, 'Footer': 2, 'link': 2, '개인정보처리방침': 2, '이메일무단수집거부': 1, '윤리헌장': 1, '행정서비스헌장': 1, '알리오': 1, '대학알리미': 1, '대학정보공시': 1, '도로명주소안내': 1, '화면상단으로': 1, '31253': 1, '충청남도': 1, '천안시': 1, '동남구': 1, '병천면': 1, '충절로': 1, '1600': 1, '가전리한국기술교육대학교': 1, '대표전화': 1, '0415601437': 1, 'FAX0415601439': 1, 'Copyrightⓒ': 1, '2016': 1, '한국기술교육대학교': 1, 'All': 1, 'Rights': 1, 'Reserved': 1}\n"
     ]
    }
   ],
   "source": [
    "import requests\n",
    "\n",
    "req = requests.get('https://cms3.koreatech.ac.kr/sim/index.do?sso=ok')\n",
    "\n",
    "source = req.text\n",
    "\n",
    "a = list(source)\n",
    "\n",
    "end = 0\n",
    "\n",
    "for i in range(len(a)): \n",
    "    if a[i] == \"<\": \n",
    "        if a[i+1:i+7] == [\"s\",\"c\",\"r\",\"i\",\"p\",\"t\"]: \n",
    "            for j in range(i,len(a)): \n",
    "                if a[j] == \"<\": \n",
    "                    if a[j+1:j+9] == [\"/\",\"s\",\"c\",\"r\",\"i\",\"p\",\"t\",\">\"]:\n",
    "                        for k in range(j,j+9):\n",
    "                            a[k] = \" \"\n",
    "                    if a[j+8] == \" \": \n",
    "                        end = -1\n",
    "                \n",
    "                if end == -1: \n",
    "                    end = 0 \n",
    "                    break \n",
    "                else: a[j] = \" \"\n",
    "                \n",
    "                \n",
    "\n",
    "for i in range(len(a)): \n",
    "    if a[i] == \"<\": \n",
    "        if a[i+1:i+6] == [\"s\",\"t\",\"y\",\"l\",\"e\"]: \n",
    "            for j in range(i,len(a)): \n",
    "                if a[j] == \"<\": \n",
    "                    if a[j+1:j+8] == [\"/\",\"s\",\"t\",\"y\",\"l\",\"e\",\">\"]: \n",
    "                        for k in range(j,j+8): \n",
    "                            a[k] = \" \"\n",
    "                    if a[j+7] == \" \":\n",
    "                        end = -1 \n",
    "                        \n",
    "                if end == -1: \n",
    "                    end = 0 \n",
    "                    break \n",
    "                else: a[j] = \" \" \n",
    "                      \n",
    "for i in range(len(a)): \n",
    "    if a[i] == \"<\": \n",
    "        a[i] = \" \"      \n",
    "        for j in range(i+1, len(a)): \n",
    "            if a[j] == \"<\": \n",
    "                for k in range(j+1, len(a)):\n",
    "                    if a[k] == \">\": \n",
    "                        a[k] = \" \" \n",
    "                        break \n",
    "                    else: a[k] = \" \" \n",
    "                        \n",
    "            if a[j] == \">\":\n",
    "                a[j] = \" \" \n",
    "                break \n",
    "            else: a[j] = \" \" \n",
    "        \n",
    "        \n",
    "mine = \"\" \n",
    "for i in range(len(a)): \n",
    "    mine += a[i] \n",
    "\n",
    "size = len(mine.split()) \n",
    "for i in range(size): \n",
    "    print(mine.split()[i], end = \" \") \n",
    "print(\"\\n총 단어의 개수 : %d\" %size)\n",
    "print(\"=\"*80)\n",
    "\n",
    "import string\n",
    "\n",
    "punc_mine = mine.split()\n",
    "for i in range(len(punc_mine)):\n",
    "    punc_mine[i] = list(punc_mine[i])\n",
    "          \n",
    "        \n",
    "for i in range(len(punc_mine)):\n",
    "    for j in range(len(punc_mine[i])):\n",
    "        if punc_mine[i][j] in string.punctuation:\n",
    "            punc_mine[i][j] = ''\n",
    "\n",
    "mine2 = \"\"\n",
    "\n",
    "for i in range(len(punc_mine)): \n",
    "    mine2 += \" \"\n",
    "    for j in range(len(punc_mine[i])):\n",
    "        mine2 += punc_mine[i][j]\n",
    "\n",
    "size2 = len(mine2.split())\n",
    "\n",
    "for i in range(size2):\n",
    "    print(mine2.split()[i], end = \" \")\n",
    "\n",
    "print(\"\\n총 단어의 개수 : %d\" %size2)\n",
    "print(\"=\"*80)\n",
    "\n",
    "dict_mine2 = {}\n",
    "\n",
    "for i in range(len(mine2.split())):\n",
    "    count = 0\n",
    "    for j in range(len(mine2.split())):\n",
    "        if mine2.split()[i] == mine2.split()[j]:\n",
    "            count += 1\n",
    "    dict_mine2[mine2.split()[i]] = count\n",
    "        \n",
    "\n",
    "print(dict_mine2)"
   ]
  },
  {
   "cell_type": "markdown",
   "id": "b4bfc017",
   "metadata": {},
   "source": [
    "https://dorm.koreatech.ac.kr/ - 한국기술교육대학교 아우미르(생활관) 홈페이지   \n",
    "https://www.koreatech.ac.kr/kor/Main.do - 한국기술교육대학교 공식(메인) 홈페이지   \n",
    "https://cms3.koreatech.ac.kr/ite/index.do?sso=ok - 한국기술교육대학교 전기전자공학부 홈페이지   \n",
    "https://cms3.koreatech.ac.kr/mechatronics/index.do?sso=ok - 한국기술교육대학교 메카트로닉스공학부 홈페이지   \n",
    "https://cms3.koreatech.ac.kr/sim/index.do?sso=ok - 한국기술교육대학교 산업경영학부 홈페이지   \n",
    "\n",
    "다음과 같이 5개의 홈페이지를 각각 링크를 골라 표현하였다.   \n",
    "전에 했던 순수 단어를 찾는 공식을 표현하여 각 구두문자를 제거해야 한다.   \n",
    "일단 첫 번째로 punc_mine이라는 변수를 mine.split()의 값을 저장한다. punc_mine은 문자열인데 이를 각 자리를 리스트로 바꿔주는 반복문을 사용한다. 그 다음 이중 반복문을 이용하여 각 리스트 자리 안에 한 문자를 확인하여 구두문자인지를 확인한다. 확인되었으면 그 값은 ''로 변경해준다. 변경 된 punc_mine을 mine2 라는 빈 문자열에 빈 공간 + 단어식으로 저장하여 준다. 그러면 mine2는 문자열이 완성되고, 그 문자열을 split메소드를 활용하여 순수단어만 추출한다. 그리고 출력하면 구두문자가 제거 된 순수단어만 출력된다.   \n",
    "\n",
    "다음으로는 이 단어들이 각 키, 값을 가진다. 키는 단어들이고 값은 각 단어들의 개수이다. dict_mine2와 같은 빈 사전을 만든다. 만든 사전에 새로운 키와 값들을 넣기 위하여 이중 반복문을 활용해 아까 만든 mine2.split()을 활용한다. 여기서 값을 나타낼 변수 count를 설정한다. count는 0으로 초기화한다. 그리고 첫 문자를 첫 문자부터 끝 문자까지를 비교해 같으면 count를 1씩 증가한다. 그리고 dict_mine2[mine2.split()[i]] = count와 같이 사전에 키와 값을 저장한다. 그리고 dict_mine2를 출력하면 각 문자에 개수가 출력됨을 알 수 있다."
   ]
  },
  {
   "cell_type": "code",
   "execution_count": null,
   "id": "39a9512d",
   "metadata": {},
   "outputs": [],
   "source": []
  }
 ],
 "metadata": {
  "kernelspec": {
   "display_name": "Python 3",
   "language": "python",
   "name": "python3"
  },
  "language_info": {
   "codemirror_mode": {
    "name": "ipython",
    "version": 3
   },
   "file_extension": ".py",
   "mimetype": "text/x-python",
   "name": "python",
   "nbconvert_exporter": "python",
   "pygments_lexer": "ipython3",
   "version": "3.8.8"
  }
 },
 "nbformat": 4,
 "nbformat_minor": 5
}
