{
 "cells": [
  {
   "cell_type": "markdown",
   "id": "9636a025",
   "metadata": {},
   "source": [
    "## 1. 다음 6 개의 Expression에 대해 Evaluation 결과 값을 출력하고, 해당 결과가 나온 이유에 대해 설명하시오"
   ]
  },
  {
   "cell_type": "markdown",
   "id": "39471ec3",
   "metadata": {},
   "source": [
    "- 1 and 2 and 3 and 4\n",
    "- 1 or 2 or 3 or 4\n",
    "- 1 and 2 or 3 and 4\n",
    "- (1 and 2) or (3 and 4)\n",
    "- 1 or 2 and 3 or 4\n",
    "- (1 or 2) and (3 or 4)"
   ]
  },
  {
   "cell_type": "code",
   "execution_count": 12,
   "id": "20a28a60",
   "metadata": {},
   "outputs": [
    {
     "data": {
      "text/plain": [
       "1"
      ]
     },
     "execution_count": 12,
     "metadata": {},
     "output_type": "execute_result"
    }
   ],
   "source": [
    "1 and 2 and 3 and 4"
   ]
  },
  {
   "cell_type": "markdown",
   "id": "3b357f0a",
   "metadata": {},
   "source": [
    "1과 2, 3, 4 라는 정수형은 bool형으로 반환하면 True 값을 가진다. 그러므로 and 논리연산자를 통하여 들어가는 식이 True이어야 하는데, 1,2,3,4 모두 True 이다. 그리고 결과 값으로 4를 출력하는 이유는 마지막 True 의 값이 4이기 때문이다. 예를 들어 2 and 3 and 1 이면 1이 마지막이기 때문에 1을 반환한다."
   ]
  },
  {
   "cell_type": "code",
   "execution_count": 13,
   "id": "d90fd837",
   "metadata": {},
   "outputs": [
    {
     "data": {
      "text/plain": [
       "2"
      ]
     },
     "execution_count": 13,
     "metadata": {},
     "output_type": "execute_result"
    }
   ],
   "source": [
    "1 or 2 or 3 or 4"
   ]
  },
  {
   "cell_type": "markdown",
   "id": "0ab1d0f5",
   "metadata": {},
   "source": [
    "논리연산자 or은 하나의 조건이 True 이면 True를 반환한다. 여기서 1은 bool형으로 반환 시 True 이다. 그러므로 1을 반환한다."
   ]
  },
  {
   "cell_type": "code",
   "execution_count": 5,
   "id": "f0184403",
   "metadata": {},
   "outputs": [
    {
     "data": {
      "text/plain": [
       "2"
      ]
     },
     "execution_count": 5,
     "metadata": {},
     "output_type": "execute_result"
    }
   ],
   "source": [
    "1 and 2 or 3 and 4"
   ]
  },
  {
   "cell_type": "markdown",
   "id": "51a2ece8",
   "metadata": {},
   "source": [
    "연산자의 우선순위는 and > or 보다 높다. 그러므로 and 연산자 부터 실행되게 된다. 첫 번째로 1 and 2 가 실행된다. 여기서는 2가 반환된다. 두 번째로 3 and 4가 실행되는데, 여기서는 4가 반환된다. 마지막으로 2 or 4 를 실행하게 된다. 여기서는 2는 True 이기 때문에 뒤는 볼 것 없이 True 이다. 그러므로 2를 반환한다."
   ]
  },
  {
   "cell_type": "code",
   "execution_count": 6,
   "id": "e847d6ca",
   "metadata": {},
   "outputs": [
    {
     "data": {
      "text/plain": [
       "2"
      ]
     },
     "execution_count": 6,
     "metadata": {},
     "output_type": "execute_result"
    }
   ],
   "source": [
    "(1 and 2) or (3 and 4)"
   ]
  },
  {
   "cell_type": "markdown",
   "id": "9454cd3a",
   "metadata": {},
   "source": [
    "()가 나오면 연산에서 최상위 우선순위이다. 그러므로 먼저 실행하게 되는데, 위에 문자와 똑같은 유형인데, () 가시성을 좋게 만들었다고 생각하면 좋을 것 같다."
   ]
  },
  {
   "cell_type": "code",
   "execution_count": 9,
   "id": "a6c9d58c",
   "metadata": {},
   "outputs": [
    {
     "data": {
      "text/plain": [
       "1"
      ]
     },
     "execution_count": 9,
     "metadata": {},
     "output_type": "execute_result"
    }
   ],
   "source": [
    "1 or 2 and 3 or 4"
   ]
  },
  {
   "cell_type": "markdown",
   "id": "a3c314ce",
   "metadata": {},
   "source": [
    "and > or 이기 때문에, and 연산자를 우선순위로 실행한다. 2 and 3 -> 3을 반환한다. 1 or 3 or 4 인데, 1은 True 이기 때문에 or 연산자에서 뒤는 볼 것 없이 1을 반환한다."
   ]
  },
  {
   "cell_type": "code",
   "execution_count": 8,
   "id": "eae11ad7",
   "metadata": {},
   "outputs": [
    {
     "data": {
      "text/plain": [
       "3"
      ]
     },
     "execution_count": 8,
     "metadata": {},
     "output_type": "execute_result"
    }
   ],
   "source": [
    "(1 or 2) and (3 or 4)"
   ]
  },
  {
   "cell_type": "markdown",
   "id": "0698a15e",
   "metadata": {},
   "source": [
    "or 연산자는 and 연산자 보다 우선순위가 낮지만, ()를 통하여 먼저 실행해야 한다. 그러므로 첫 번째로 1 or 2 를 하면 1를 반환, 두 번째로 3 or 4를 실행할 시 3을 반환한다. 마지막으로 1 and 3을 통하여 and 연산자이기 때문에 두 조건을 모두 봐야한다. 1 -> True -> 3 -> True => True 이다. 그러므로 3을 반환한다."
   ]
  },
  {
   "cell_type": "markdown",
   "id": "988e8876",
   "metadata": {},
   "source": [
    "## 2. 경로에 해당하는 문자열 1개를 입력 받아 그 안에 디렉토리 경로명과 파일명을 분리하여 리스트로 반환하는 함수 div_path(s)를 작성하시오."
   ]
  },
  {
   "cell_type": "markdown",
   "id": "20ccfc3f",
   "metadata": {},
   "source": [
    "- 인자로 전달하는 문자열은 경로만 들어간다고 가정한다.\n",
    "- 각 디렉토리와 파일을 구분하는 문자는 '/'로 가정한다.\n",
    "- 반환하는 리스트의 첫번째 원소는 디렉토리이고 두번째 원소는 파일명이다.\n",
    "- 다음과 같은 실행 및 출력 결과가 도출되어야 한다.\n",
    "    - div_path('/usr/local/bin/python')\n",
    "         - ['/usr/local/bin', 'python']\n",
    "    - div_path('/home/chulsoo/test.txt')\n",
    "        - ['/home/chulsoo', 'test.txt']\n",
    "- [참고] 리스트(l) 내에 새로운 정수값 (예를 들어 10)을 넣는 방법은 l.append(10) 이다."
   ]
  },
  {
   "cell_type": "code",
   "execution_count": 32,
   "id": "bfe52df2",
   "metadata": {},
   "outputs": [
    {
     "name": "stdout",
     "output_type": "stream",
     "text": [
      "['/usr/loca/bin', 'python'] ['/home/chulsoo', 'test.txt']\n"
     ]
    }
   ],
   "source": [
    "def div_path(s):\n",
    "    count = 0\n",
    "    count2 = 0\n",
    "    for i in range(len(s)):\n",
    "        if s[i] == \"/\":\n",
    "            count += 1\n",
    "    \n",
    "    for i in range(len(s)):\n",
    "        if s[i] == \"/\":\n",
    "            count2 += 1\n",
    "            if count == count2:\n",
    "                my = i\n",
    "    \n",
    "    myList = []\n",
    "    myList.append(s[:my])\n",
    "    myList.append(s[my+1:])\n",
    "    return myList\n",
    "    \n",
    "a = div_path(\"/usr/loca/bin/python\")\n",
    "b = div_path('/home/chulsoo/test.txt')\n",
    "print(a,b)"
   ]
  },
  {
   "cell_type": "markdown",
   "id": "329542e3",
   "metadata": {},
   "source": [
    "div_path(s)라는 문자열을 입력하면 입력 된 문자열에서 디렉토리 경로명과 파일명을 분리하는 리스트를 제작하는 함수를 만들었다. 함수 내부에서는 반복문을 사용했다. 첫 번째 반복문은 입력받은 s 문자열의 크기만큼 문자열 하나하나를 확인하여 \"/\" 의 문자를 확인 시 count를 1씩 증가 시킨다. 그리고 두 번째 반복문에서는 s 문자열 크기만큼 s 문자열 중 \"/\"의 문자를 확인하면 count2를 1씩 증가시키고, 마지막 \"/\"를 확인하기 위하여 이전 count 와 count2가 같게된다면 마지막 \"/\"를 찾을 수 있다. 그리고 my에 i를 넣어 몇 번째에서 마지막 \"/\"가 있는 지를 확인한다. myList = [] 라는 리스트를 하나 만들고, myList.append 함수를 사용하여 append(s[:my]) -> 마지막 / 전까지의 디렉토리 경로명을 myList 리스트 첫 번째 원소로 저장한다. 그리고 append(s[my+1:])를 넣어 디렉토리 파일명을 myList 리스트의 두 번째 원소로 저장하고 div_path(s) 함수에서 return myList를 해준다. 그리고 함수 밖에서 div_path('/home/my/book/is/best/test.txt') 이와 같이 입력할 시 ['/home/my/book/is/best', 'test.txt'] 와 같이 출력해준다."
   ]
  },
  {
   "cell_type": "markdown",
   "id": "8b506d80",
   "metadata": {},
   "source": [
    "## 3. 두 개의 리스트를 인자로 받아서 그 두 개의 리스트에 대한 '합집합'을 반환하는 함수 list_union(lista, listb)를 작성하시오. "
   ]
  },
  {
   "cell_type": "markdown",
   "id": "a548afe6",
   "metadata": {},
   "source": [
    "- 집합 자료형 set은 사용하지 않는다.\n",
    "- 인자로 전달하는 리스트 2 개에는 정수값만 들어간다고 가정하자.\n",
    "- 함수 내에서 새로운 리스트를 만들어 그 리스트 내에 인자로 받은 두 리스트의 모든 원소를 넣어 반환한다.\n",
    "- 반환하는 리스트에는 절대로 중복된 원소가 들어 있으면 안된다 (집합의 조건).\n",
    "- 반환하는 리스트는 정렬이 되어 있어야 한다.\n",
    "- 다음과 같은 실행 및 출력 결과가 도출되어야 한다.\n",
    "    - list_union([1, 2, 3], [1, 2, 4])\n",
    "        - [1, 2, 3, 4]\n",
    "    - list_union([-10, -5, 0, -1], [100, 9, 0, 9])\n",
    "        - [-10, -5, -1, 0, 9, 100]\n",
    "    - list_union([0, 1, 2], [0, 1, 2])\n",
    "        - [0, 1, 2]\n",
    "- [참고] 리스트(l) 내에 새로운 정수값 (예를 들어 10)을 넣는 방법은 l.append(10) 이다.\n",
    "- [참고] 임의의 정수값 (x)이 리스트 (l) 내에 존재하는지 판단하는 방법은 x in l 이다."
   ]
  },
  {
   "cell_type": "code",
   "execution_count": 59,
   "id": "11f6b4d9",
   "metadata": {},
   "outputs": [
    {
     "name": "stdout",
     "output_type": "stream",
     "text": [
      "[1, 2, 3, 4]\n",
      "[-10, -5, -1, 0, 9, 100]\n",
      "[0, 1, 2]\n",
      "[-5, -2, 1, 2, 3, 5, 10, 12]\n"
     ]
    }
   ],
   "source": [
    "def list_union(lista,listb):\n",
    "    myList = []\n",
    "        \n",
    "    for i in range(len(lista)):\n",
    "        myList.append(lista[i])\n",
    "        \n",
    "    for i in range(len(listb)):\n",
    "        if listb[i] not in myList: myList.append(listb[i])\n",
    "                    \n",
    "    myList.sort()\n",
    "    return myList\n",
    "    \n",
    "    \n",
    "a = list_union([1, 2, 3], [1, 2, 4])\n",
    "b = list_union([-10, -5, 0, -1], [100, 9, 0, 9])\n",
    "c = list_union([0, 1, 2], [0, 1, 2])\n",
    "my = list_union([-2,-5,1,2,3,10,12], [-5,5,1,2,3])\n",
    "print(a)\n",
    "print(b)\n",
    "print(c)\n",
    "print(my)"
   ]
  },
  {
   "cell_type": "markdown",
   "id": "0e34b6e1",
   "metadata": {},
   "source": [
    "2개의 리스트를 받아 중복되지 않게 순서대로 정렬하는 리스트를 반환해야 하는 함수 list_union()를 만들었다. 먼저 lista와 listb라는 두개의 리스트를 받고, 이 두 개의 리스트는 중 아무거나 하나를 먼저 myList라는 리스트를 []으로 만들어주고, myList안에 넣는다. 그 이후에 lista의 리스트 원소들을 넣어줬으면 listb의 원소가 myList 리스트안에 들어있지 않다면 myList 안에 listb의 원소를 넣어준다. 그리고 myList.sort()를 통하여 정렬해주면 알맞게 두 개의 리스트가 서로다른 원소로 정렬되어있는 리스트가 반환되는 것을 볼 수 있다."
   ]
  },
  {
   "cell_type": "markdown",
   "id": "8388413a",
   "metadata": {},
   "source": [
    "## 4. 두 개의 리스트를 인자로 받아서 그 두 개의 리스트에 대한 '교집합'을 반환하는 함수 list_intersection(lista, listb)와 '차집합'을 반환하는 함수 list_difference(lista, listb)를 작성하시오."
   ]
  },
  {
   "cell_type": "markdown",
   "id": "45a950d5",
   "metadata": {},
   "source": [
    "- 모든 가정과 조건은 3번 문제와 동일하다."
   ]
  },
  {
   "cell_type": "code",
   "execution_count": 77,
   "id": "8b0a756f",
   "metadata": {},
   "outputs": [
    {
     "name": "stdout",
     "output_type": "stream",
     "text": [
      "[1, 2]\n",
      "[0]\n",
      "[0, 1, 2]\n",
      "[-5, 1, 2, 3]\n",
      "([3], [4])\n",
      "([-10, -5, -1], [100, 9, 9])\n",
      "([], [])\n",
      "([-2, 10, 12], [5])\n"
     ]
    }
   ],
   "source": [
    "def list_intersection(lista,listb):\n",
    "    myList = []\n",
    "    for i in range(len(lista)):\n",
    "        for j in range(len(listb)):\n",
    "            if lista[i] == listb[j]: myList.append(lista[i])\n",
    "                \n",
    "    return myList\n",
    "            \n",
    "    \n",
    "def list_difference(lista, listb):\n",
    "    aList = []\n",
    "    bList = []\n",
    "    \n",
    "    for i in range(len(lista)):\n",
    "        if lista[i] not in listb: aList.append(lista[i])\n",
    "    for i in range(len(listb)):\n",
    "        if listb[i] not in lista: bList.append(listb[i])\n",
    "    \n",
    "    return aList, bList\n",
    "    \n",
    "a_inter = list_intersection([1, 2, 3], [1, 2, 4])\n",
    "b_inter = list_intersection([-10, -5, 0, -1], [100, 9, 0, 9])\n",
    "c_inter = list_intersection([0, 1, 2], [0, 1, 2])\n",
    "my_inter = list_intersection([-2,-5,1,2,3,10,12], [-5,5,1,2,3])\n",
    "print(a_inter)\n",
    "print(b_inter)\n",
    "print(c_inter)\n",
    "print(my_inter)\n",
    "a_dif = list_difference([1, 2, 3], [1, 2, 4])\n",
    "b_dif = list_difference([-10, -5, 0, -1], [100, 9, 0, 9])\n",
    "c_dif = list_difference([0, 1, 2], [0, 1, 2])\n",
    "my_dif = list_difference([-2,-5,1,2,3,10,12], [-5,5,1,2,3])\n",
    "print(a_dif)\n",
    "print(b_dif)\n",
    "print(c_dif)\n",
    "print(my_dif)"
   ]
  },
  {
   "cell_type": "markdown",
   "id": "5f5e08f0",
   "metadata": {},
   "source": [
    "list_intersection과 list_difference라는 교집합, 차집합 함수를 만들어보았다.    \n",
    "우선 교집합 함수는 두 개의 리스트를 중첩 반복문을 사용하여 비교를 한다. 여기서 두 개의 리스트 원소가 같을 경우 리스트 lista 원소를 myList의 저장한다. 그렇게 되면 lista와 listb의 원소 중 같은 원소가 myList 리스트에 저장되게 된다.   \n",
    "다음으로 차집합 함수이다. lista의 차집합, listb의 차집합 두 가지가 존재해서 모두 반환해야 한다. 먼저 lista의 리스트를 확인하여 lista의 원소가 listb에 들어가있지 않으면 aList 리스트에 저장한다. 그렇게 되면 같은 원소와 자기 리스트 안에 있는 원소만 가지게 된다. 그리고 listb도 lista와 같이 bList 리스트에 저장한다.    \n",
    "마지막으로 함수 반환을 return aList, bList로 하게 되면 lista의 차집합, listb의 차집합을 반환할 수 있게 된다."
   ]
  },
  {
   "cell_type": "markdown",
   "id": "de299f4d",
   "metadata": {},
   "source": [
    "## 5. 두 개의 양의 정수를 인자로 받아서 해당 범위안에 있는 소수(prime number)의 리스트를 출력하는 함수 print_primenumber(a, b)를 작성하시오. "
   ]
  },
  {
   "cell_type": "markdown",
   "id": "4b05bbab",
   "metadata": {},
   "source": [
    "- 이미 구현된 모듈이나 라이브러리는 사용하지 않는다.\n",
    "- 함수의 반환(return)은 없으며 함수 내의 끝에서 .format()을 사용하여 다음과 같이 출력한다.\n",
    "    - print_primenumber(2, 10)\n",
    "        - 2 이상 10 이하 정수 중 소수 리스트: [2, 3, 5, 7]"
   ]
  },
  {
   "cell_type": "code",
   "execution_count": 2,
   "id": "38eb9f60",
   "metadata": {},
   "outputs": [
    {
     "name": "stdout",
     "output_type": "stream",
     "text": [
      "2 이상 10 이하 정수 중 소수 리스트 : [2, 3, 5, 7]\n"
     ]
    }
   ],
   "source": [
    "def print_primenumber(a,b):\n",
    "    count = 0\n",
    "    myList = []\n",
    "    for i in range(a,b):\n",
    "        for j in range(1,i+1):\n",
    "            if i%j == 0:\n",
    "                count += 1\n",
    "        if count == 2:\n",
    "            myList.append(i)\n",
    "        count = 0\n",
    "    print(a, \"이상\", b, \"이하 정수 중 소수 리스트 : {}\".format(myList))\n",
    "    \n",
    "    \n",
    "print_primenumber(2, 10)"
   ]
  },
  {
   "cell_type": "markdown",
   "id": "2a8a64a5",
   "metadata": {},
   "source": [
    "print_primenumber라는 함수를 사용하여 인자 a와 b를 입력받아 a이상 b이하의 소수를 출력하는 함수를 만들어보았다. 이 함수는 특징이 return을 하지 않고 함수 내부에서 format으로 리스트를 출력한다. 우선 소수를 저장하기 위한 반복문을 사용하여 i를 a~b 범위로 중첩 반복문을 사용하여 j를 1~i+1 까지 설정하여 조건 i%j == 0 이면 count에 1씩 더한다. 그리고 j 반복문을 나가서 count == 2이면 myList라는 리스트에 myList.append(i)를 넣어준다. 그리고 count = 0으로 만들어준다. 이렇게 b까지 반복하여 소수를 찾게된다. 그리고 함수 마지막에 return 대신 print()함수를 사용하여 \"{0}\".format(myList) => 통하여 myList의 리스트를 출력할 수 있게 된다."
   ]
  },
  {
   "cell_type": "markdown",
   "id": "37d846e3",
   "metadata": {},
   "source": [
    "## [Incremental Project 문제]"
   ]
  },
  {
   "cell_type": "markdown",
   "id": "6ef44fc1",
   "metadata": {},
   "source": [
    "### 웹 URL로 지정된 웹페이지를 문자열로 가져와 1) 모든 HTML 태그를 제외한 순수 텍스트 문자열만을 걸러내고, 2) 그 순수 텍스트 문자열 안에 존재하는 단어가 총 몇개인지 출력하는 프로그램을 작성하시오.\n"
   ]
  },
  {
   "cell_type": "markdown",
   "id": "7f21c1e5",
   "metadata": {},
   "source": [
    "- HTML 태그는 다음 조건을 가지는 것이다.\n",
    "    - < 로 시작하여 >로 끝난다.\n",
    "    - 예를 들어, 아래와 같은 HTML 내용 내에 한 줄이 있다고 가정하자.\n",
    "```\n",
    "<label for=\"keep_signed\">로그인 유지</label>\n",
    "```\n",
    "        - 위 소스에서 HTML 태그를 제외한 순수 텍스트 문자열: 로그인 유지\n",
    "    - 다른 예제\n",
    "```\n",
    "<a href=\"#panel-3\" class=\"ui-tabs-anchor\" role=\"presentation\" tabindex=\"-1\" id=\"ui-id-3\"><strong>교육역량강화사업 온라인 컨텐츠</strong><br>\n",
    "```\n",
    "        - 순수 텍스트 문자열: 교육역량강화사업 온라인 컨텐츠\n",
    "    - 한편, 아래와 같은 HTML 한 줄이 있다고 가정하자.\n",
    "```\n",
    "<link rel=\"stylesheet\" href=\"/common/css/xe.min.css?20150910092654\" />\n",
    "```\n",
    "        - 위 한 줄은 HTML 태그로만 구성된 것이며 걸러낼 수 있는 순수 텍스 문자열은 존재하지 않는다.\n",
    "    - 다른 예제\n",
    "```\n",
    "//<![CDATA[\n",
    "xe.current_lang = \"ko\";\n",
    "xe.cmd_find = \"찾기\";\n",
    "xe.cmd_cancel = \"취소\";\n",
    "xe.cmd_confirm = \"확인\";\n",
    "xe.msg_no_root = \"루트는 선택 할 수 없습니다.\";\n",
    "xe.msg_no_shortcut = \"바로가기는 선택 할 수 없습니다.\";\n",
    "xe.msg_select_menu = \"대상 메뉴 선택\";\n",
    "//]]>\n",
    "```\n",
    "        - 순수 텍스트 문자열: 없음\n",
    "    - 단어를 나누는 기준은 오로지 공백문자 (whitespace)이다.\n",
    "        -즉, 위 순수 텍스트 문자열인 \"로그인 유지\"에서 분리한 단어는 \"로그인\"과 \"유지\"이다.\n",
    "    - 중복을 고려하지 않고 무조건 모든 단어의 개수를 세어서 출력한다.\n",
    "    - 본 숙제를 위하여 HTML 파싱과 관련된 모듈 (예. BeautifulSoup) 사용 금지\n",
    "    - 다음은 URL로 지정된 웹페이지를 특정 문자열로 가져오는 코드이다.\n",
    "        - 즉, 숙제 코드는 아래 코드로 부터 시작해야 한다.\n",
    "        - 아래 코드 수행시 requests 모듈이 존재하지 않는 에러가 발생하면 command 창에서 다음 코드 입력하여 requests 모듈 설치후 아래 코드 수행\n",
    "```\n",
    "> pip install requests\n",
    "```\n",
    "    - 본 문제에 대한 정확한 답안은 존재하지 않으며, 채점은 코딩 내용을 보고 코딩의 정확성, 완결성, 가독성 등을 보고 평가한다.\n",
    "    - 2개 이상의 URL에 대하여 순수한 단어의 개수를 출력하는 예시를 제시할 것"
   ]
  },
  {
   "cell_type": "code",
   "execution_count": 36,
   "id": "c1dbb276",
   "metadata": {
    "scrolled": true
   },
   "outputs": [
    {
     "name": "stdout",
     "output_type": "stream",
     "text": [
      "한국기술교육대학교 학생생활관(아우미르) 생활관 소개 관장님인사말 연혁 조직도 시설소개 오시는길 생활관 안내 생활관 상벌점표 생활관주요연락처 생활관생 선발기준 방침 입퇴사안내 생활관비 환불 기준 도어록사용안내 연간일정 안전환경 및 소방 학기중 입사 입사신청 선발결과조회 관리납부확인 룸메이트 신청 호실 선택 입주포기신청 입/퇴사 체크리스트 방학중 입사 입사신청 선발결과조회 관리납부확인 룸메이트 신청 입주포기신청 입/퇴사 체크리스트 커뮤니티 공지사항 너나들이 소식 고장/수리접수 자주묻는질문(FAQ) 자유게시판 자료실 시설물 사용 신청 Q&amp;A/건의사항 아우미르상담실 자치회 설문참여 유니돔 Int'l Dorm H Introduction Notice Bullentin Board Repair Point System 13.01.01 13.01.01 13.01.01 잡곡밥 북어채묵국 김치 계란후라이 오이스틱1 파스타 참치회 버터구이랍스터 와인 현미밥 김칫국 버섯전 계란말이 백미밥 육개장 김치 깍두기 소세지야채볶음 - 잡곡밥 북어채묵국 김치 계란후라이 오이스틱2 - 현미밥 김칫국 버섯전 계란말이 백미밥 육개장 김치 깍두기 소세지야채볶음 - 잡곡밥 북어채묵국 김치 계란후라이 오이스틱3 - 현미밥 김칫국 버섯전 계란말이 백미밥 육개장 김치 깍두기 소세지야채볶음 - [필독] 2021학년도 2학기 비대면 강 2021-10-01 [필독] 2021학년도 2학기 학년별 집 2021-10-01 [필독] 2021학년도 2학기 생활관 운 2021-10-01 생활관 냉난방기 운영 일정 안내(냉방 중 2021-10-01 추석 명절 기간 생협 매장 미운영 안내( 2021-09-15 2021학년도 2학기 입퇴사시 관비 수납 2021-08-26 거실벽지가떨어져주름생김 2021-10-07 침대뒤목판떨어짐 2021-10-07 침대옆프레임고장 2021-10-07 세탁실앞세면대배꼽고장 2021-10-07 세탁기수도꼭지물누수 2021-10-07 세탁기앞세면대위천장물누수됨 2021-10-07 교내주요기관 한기대 고용노동연수원 생활협동조합 상담진로개발센터 다산정보관 국제교육센터 산학협력단 능력개발교육원 공학교육혁신센터 총학생회 총동아리연합회 한기대 방송국 한기대 신문사 대학/대학원 기계정보공학부 메카트로닉스공학부 전기전자통신공학부 컴퓨터공학부 디자인공학과 건축공학부 에너지신소재화학공 산업경영학부 교양학부 메카IT융합공학과 일반대학원 테크노인력개발전문 산업대학원 최고경영자과정 \n",
      "총 단어의 개수 : 210\n"
     ]
    }
   ],
   "source": [
    "import requests\n",
    "\n",
    "req = requests.get('https://dorm.koreatech.ac.kr/')\n",
    "\n",
    "source = req.text\n",
    "\n",
    "a = list(source)\n",
    "\n",
    "end = 0\n",
    "\n",
    "for i in range(len(a)): \n",
    "    if a[i] == \"<\": \n",
    "        if a[i+1:i+7] == [\"s\",\"c\",\"r\",\"i\",\"p\",\"t\"]: \n",
    "            for j in range(i,len(a)): \n",
    "                if a[j] == \"<\": \n",
    "                    if a[j+1:j+9] == [\"/\",\"s\",\"c\",\"r\",\"i\",\"p\",\"t\",\">\"]:\n",
    "                        for k in range(j,j+9):\n",
    "                            a[k] = \" \"\n",
    "                    if a[j+8] == \" \": \n",
    "                        end = -1\n",
    "                \n",
    "                if end == -1: \n",
    "                    end = 0 \n",
    "                    break \n",
    "                else: a[j] = \" \"\n",
    "                \n",
    "                \n",
    "\n",
    "for i in range(len(a)): \n",
    "    if a[i] == \"<\": \n",
    "        if a[i+1:i+6] == [\"s\",\"t\",\"y\",\"l\",\"e\"]: \n",
    "            for j in range(i,len(a)): \n",
    "                if a[j] == \"<\": \n",
    "                    if a[j+1:j+8] == [\"/\",\"s\",\"t\",\"y\",\"l\",\"e\",\">\"]: \n",
    "                        for k in range(j,j+8): \n",
    "                            a[k] = \" \"\n",
    "                    if a[j+7] == \" \":\n",
    "                        end = -1 \n",
    "                        \n",
    "                if end == -1: \n",
    "                    end = 0 \n",
    "                    break \n",
    "                else: a[j] = \" \" \n",
    "                      \n",
    "for i in range(len(a)): \n",
    "    \n",
    "    if a[i] == \"<\": \n",
    "        a[i] = \" \"\n",
    "                      \n",
    "        for j in range(i+1, len(a)): \n",
    "            if a[j] == \"<\": \n",
    "                for k in range(j+1, len(a)):\n",
    "                    if a[k] == \">\": \n",
    "                        a[k] = \" \" \n",
    "                        break \n",
    "                    else: a[k] = \" \" \n",
    "                        \n",
    "            if a[j] == \">\":\n",
    "                a[j] = \" \" \n",
    "                break \n",
    "            else: a[j] = \" \" \n",
    "        \n",
    "        \n",
    "mine = \"\" \n",
    "for i in range(len(a)): \n",
    "    mine += a[i] \n",
    "\n",
    "size = len(mine.split()) \n",
    "for i in range(size): \n",
    "    print(mine.split()[i], end = \" \") \n",
    "print(\"\\n총 단어의 개수 : %d\" %size)\n"
   ]
  },
  {
   "cell_type": "code",
   "execution_count": 34,
   "id": "56db6b20",
   "metadata": {},
   "outputs": [
    {
     "name": "stdout",
     "output_type": "stream",
     "text": [
      "한국기술교육대학교 LINK 연구실 LINK@KOREATECH About Introduction Location Members Professor Current Students/Members Alumni Publications Papers Patents Standards Research Research Areas Projects Courses Courses&nbsp; (Since 2021) Old Courses&nbsp; (Until 2020) Activity News Invited Talks Lab. Seminar Zoom Meeting Awards Album About Introduction Location Members Professor Current Students/Members Alumni Publications Papers Patents Standards Books Research Research Areas Projects Courses Courses&nbsp; (Since 2021) Old Courses&nbsp; (Until 2020) Activity News Invited Talks Lab. Seminar Awards Album Laboratory of Intelligent Networks 한국기술교육대학교 컴퓨터공학부 LINK 연구실 About LINK Laboratory of Intelligent Networks 심층 강화 학습 (Deep Reinforcement Learning) 및 기계 학습 (Machine Learning) About LINK Laboratory of Intelligent Networks 지능형 네트워킹(Intelligent Networking) 및 5G/6G 네트워크 About LINK Laboratory of Intelligent Networks 사물 인터넷 (Internet of Things) / 운용 과학 (Operations Research) / 금융 공학 (Financial Engineering) About LINK KOREATECH Laboratory of Intelligent Networks About LINK 한국기술교육대학교 컴퓨터공학부 지능형 네트워크 연구실 (Lab. of Intelligent Networks) 본 LINK 랩 연구실 홈페이지는 \"LINK 랩 연구원들의 연구 기록\" 및 \"연구/교육 자료 공유\" 를 목적으로 운영되고 있습니다. 본 LINK 랩 홈페이지가 심층 강화 학습 및 5G/6G 지능형 네트워킹 분야에 관심 있는 분들에게 도움이 되도록 하겠습니다. 심층 강화 학습 및 5G/6G 지능형 네트워킹 과 더불어 사물 인터넷/운용 과학/금융 공학 등에 관심 있는 학생들은 본 LINK 랩 대학원생 LINK 랩 연구실 소개자료 (PPT 버전) LINK Youtube Channel call4paper.com Research Areas LINK 랩 연구 분야: 1. Deep Reinforcement Learning 컴퓨터 스스로 행동 또는 제어의 방식을 익히는 기계 학습의 한 분야 학습 속도 향상을 위한 멀티스텝 시간차 제어 알고리즘 개발 각종 게임 제어 알고리즘 개발 스타크래프트2 환경을 활용한 다중 에이전트 강화학습 연구 수행 다중 에이전트 협업/대결 알거리즘 개발 생성 모델에 기반한 비대칭 정보 게임의 승패 예측 모델 학습 게임상황 변화 대응 에이전트 개발을 위한 제어 기술 고도화 GAN을 사용한 생성 모델 기반 강화 학습 LINK랩 제작 RL 라이브러리로 훈련시킨 6개의 ATARI 게임 환경. 알고리즘: Double Dueling DQN with PER LINK랩 제작 RL 라이브러리로 훈련시킨 ANT 환경. 알고리즘: DDPG (학습 시간: 2시간 5분, 훈련 성능 그래프, 하이퍼파라미터: WANDB ) LINK랩 제작 MARL(Multi-Agent RL) 라이브러리로 훈련시킨 SMAC (StarCraft Multi-Agent Challenge) 환경. 알고리즘: QMIX 2. Intelligent Networking and Operations Research in 5G/6G 네트워크 모니터링, 데이터 분석, 자가 진단 및 정책 수립을 통한 지능형 네트워크 관리 프레임워크 연구 및 B5G/6G 네트워크의 자원 슬라이싱 최적화. 수학적 모델링이나 통계 분석, 최적화 기법등을 이용하여 복잡한 의사결정 문제에서 최적해 혹은 근사최적해를 찾아내며, 이익, 성능, 수익 등을 최대화하거나 손실, 위험, 비용 등을 최소화하는 현실적인 문제 해결 연구 동적 네트워크 토폴리지, 네트워크 트래픽 정보 수집 및 관리 딥러닝 추론 모델을 통한 네트워크 성능 및 비용 예측 딥러닝 정책 모델을 통한 네트워크 라우팅, 이동성, 보안의 자율 관리 강화 학습 기반 저비용/고효율 네트워크 자동 관리 다양한 요구사항을 동시에 만족시키는 멀티에이전트 강화학습 기반 네트워크 자원 슬라이싱 최적화 강화 학습 적용 TSP, Knapsack 등 전통적인 최적화 알고리즘 문제 해결 멀티 에이전트 강화 학습을 사용한 복잡한 최적화 문제 해결 개발한 강화 학습 기반 최적화 알고리즘을 5G/6G 네트워크나 스마트 팩토리 물류 분류 시스템에 적용 3. Intelligent Internet of Things IoT 기기에 대한 지능화를 위한 프레임워크, 통신/네트워크 프로토콜, 딥러닝 및 강화학습 알고리즘 등을 연구하는 분야 IoT 기기의 정밀 비선형 제어 다중 IoT 기기에 대한 연합 강화 학습(Federated Reinforcement Learning) 강화 학습 모델의 다중 IoT 기기 사이의 모델 전이 학습(Transfer Learning) 디지털 트윈 및 실제 장비간의 모델 동기화 4. Financial Engineering 금융상품의 위험을 분석하고 리스크를 분산시키기 위해 기존의 방법을 개선하고 발전시키기 위하여 수학과 통계, 프로그래밍을 아우르는 전반적인 공학적 기술 적용 분야 주식 가격 데이터 수집, 저장, 전처리 작업 주식 가격 데이터 예측을 위한 딥러닝 모델 개발 강화 학습 기반 자동 거래 알고리즘 및 시스템 개발 0 Completed/On-going Projects 0 Publications 0 Lab Members/Alumni 0 Winning Awards Publications Selected Papers More Publication Reinforcement Learning Application Sortation Control Using Multi-Agent Deep Reinforcement Learning in N-Grid Sortation System June 16, 2020 Read More Reinforcement Learning Application Federated Reinforcement Learning for Training Control Policies on Multiple IoT Devices March 16, 2020 Read More Reinforcement Learning Application Imitation Reinforcement Learning-Based Remote Rotary Inverted Pendulum Control in OpenFlow Network March 18, 2019 Read More Intelligent Networking Efficient Estimation of Betweenness Centrality in Wireless Networks June, 2016 Read More Intelligent Networking Named Data Networking over a Software-Defined Network Using Fixed-Size Content Names July, 2016 Read More Intelligent Networking Lifetime maximization considering target coverage and connectivity in directional image/video sensor networks July, 2011 Read More More Projects Laboratory Partners 한국기술교육대학교 KOREATECH 컴퓨터공학부 KOREATECH 첨단기술연구소 KOREATECH 다산정보관 한국연구재단 구글학술검색 Copyright &copy; 2020 Laboratory of Intelligent Networks All Rights Reserved. Copyright &copy; 2020 Laboratory of Intelligent Networks All Rights Reserved. 총 단어의 개수 : 726\n"
     ]
    }
   ],
   "source": [
    "import requests\n",
    "\n",
    "req = requests.get('http://link.koreatech.ac.kr/')\n",
    "\n",
    "source = req.text\n",
    "\n",
    "a = list(source)\n",
    "\n",
    "end = 0\n",
    "\n",
    "for i in range(len(a)): \n",
    "    if a[i] == \"<\": \n",
    "        if a[i+1:i+7] == [\"s\",\"c\",\"r\",\"i\",\"p\",\"t\"]: \n",
    "            for j in range(i,len(a)): \n",
    "                if a[j] == \"<\": \n",
    "                    if a[j+1:j+9] == [\"/\",\"s\",\"c\",\"r\",\"i\",\"p\",\"t\",\">\"]:\n",
    "                        for k in range(j,j+9):\n",
    "                            a[k] = \" \"\n",
    "                    if a[j+8] == \" \": \n",
    "                        end = -1\n",
    "                \n",
    "                if end == -1: \n",
    "                    end = 0 \n",
    "                    break \n",
    "                else: a[j] = \" \"\n",
    "                \n",
    "                \n",
    "\n",
    "for i in range(len(a)): \n",
    "    if a[i] == \"<\": \n",
    "        if a[i+1:i+6] == [\"s\",\"t\",\"y\",\"l\",\"e\"]: \n",
    "            for j in range(i,len(a)): \n",
    "                if a[j] == \"<\": \n",
    "                    if a[j+1:j+8] == [\"/\",\"s\",\"t\",\"y\",\"l\",\"e\",\">\"]: \n",
    "                        for k in range(j,j+8): \n",
    "                            a[k] = \" \"\n",
    "                    if a[j+7] == \" \":\n",
    "                        end = -1 \n",
    "                        \n",
    "                if end == -1: \n",
    "                    end = 0 \n",
    "                    break \n",
    "                else: a[j] = \" \" \n",
    "                      \n",
    "for i in range(len(a)): \n",
    "    \n",
    "    if a[i] == \"<\": \n",
    "        a[i] = \" \"\n",
    "       \n",
    "        for j in range(i+1, len(a)): \n",
    "            if a[j] == \"<\": \n",
    "                for k in range(j+1, len(a)):\n",
    "                    if a[k] == \">\": \n",
    "                        a[k] = \" \" \n",
    "                        break \n",
    "                    else: a[k] = \" \" \n",
    "                        \n",
    "            if a[j] == \">\":\n",
    "                a[j] = \" \" \n",
    "                break \n",
    "            else: a[j] = \" \" \n",
    "        \n",
    "        \n",
    "mine = \"\" \n",
    "for i in range(len(a)): \n",
    "    mine += a[i] \n",
    "\n",
    "size = len(mine.split()) \n",
    "for i in range(size): \n",
    "    print(mine.split()[i], end = \" \") \n",
    "print(\"\\n총 단어의 개수 : %d\" %size)\n"
   ]
  },
  {
   "cell_type": "markdown",
   "id": "57530b59",
   "metadata": {},
   "source": [
    "모드 코드에서 밑에 있는 코드들 하나하나를 모두 \" \" 와 같이 빈 공간으로 만들어 줄 것이다.\n",
    "```\n",
    "<script...>\n",
    "...\n",
    "</script>\n",
    "\n",
    "<style...>\n",
    "...\n",
    "</style>\n",
    "\n",
    "<...>\n",
    "\n",
    "<...<....>...<...>..>\n",
    "```\n",
    "코드 설명으로는 처음 반복문은 scirpt 부분을 모두 찾아 빈 공간으로 만들어 주는 반복문이다. < 문자를 찾고 sciprt를 찾아 맞으면 조건을 실행하여 /script> 부분까지 찾아내 끝내는 결과이다. 마지막 /script> 의 \">\" -> \" \" 변경 시 end 라는 변수에 -1을 넣으면서 end = -1 이면 break를 통해 반복문을 나가 새로운 <script를 찾는다.   \n",
    "다음으로 style 부분도 위에 script와 마찬가지로 찾아낼 수 있었다.   \n",
    "마지막으로 <> 부분을 하나하나 빈 공간으로 바꿔가며 순수 문자들을 찾아내야 한다. 해당 <> 부분을 찾아낼 수 있지만, <> 안에 <> 부분도 찾아내서 변경해야 할 조건이 필요하여 각 조건에 맞게 설정하여 빈 공간으로 변경해주었다.   \n",
    "\n",
    "그 뒤 출력 코드에서 mine 이라는 문자열을 새로 생성하여 홈페이지 소스의 순수한 단어와 \" \"으로 변경 한 a 리스트 하나하나를 mine에 더해 저장한다. 그 뒤 mine 을 split을 통하여 빈공간을 제외하고, 반복문을 사용하여 mine.split()[i]을 하나하나 출력하여 순수단어를 출력한다. 그리고 len(mine.split())을 통하여 전체 단어의 개수를 출력할 수 있어야 한다.\n",
    "\n",
    "첫 번째 코드 : 아우미르 홈페이지   \n",
    "두 번째 코드 : 한연희 교수님 링크 연구실 홈페이지"
   ]
  }
 ],
 "metadata": {
  "kernelspec": {
   "display_name": "Python 3",
   "language": "python",
   "name": "python3"
  },
  "language_info": {
   "codemirror_mode": {
    "name": "ipython",
    "version": 3
   },
   "file_extension": ".py",
   "mimetype": "text/x-python",
   "name": "python",
   "nbconvert_exporter": "python",
   "pygments_lexer": "ipython3",
   "version": "3.8.8"
  }
 },
 "nbformat": 4,
 "nbformat_minor": 5
}
